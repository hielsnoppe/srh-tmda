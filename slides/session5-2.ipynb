{
 "cells": [
  {
   "attachments": {},
   "cell_type": "markdown",
   "metadata": {
    "slideshow": {
     "slide_type": "slide"
    }
   },
   "source": [
    "# Tools and Methods of Data Analysis\n",
    "## Session 5 - Part 2\n",
    "\n",
    "Niels Hoppe <<niels.hoppe.extern@srh.de>>"
   ]
  },
  {
   "cell_type": "code",
   "execution_count": 28,
   "metadata": {
    "slideshow": {
     "slide_type": "skip"
    }
   },
   "outputs": [],
   "source": [
    "import numpy as np\n",
    "import seaborn as sns\n",
    "from scipy import stats"
   ]
  },
  {
   "attachments": {},
   "cell_type": "markdown",
   "metadata": {
    "slideshow": {
     "slide_type": "slide"
    }
   },
   "source": [
    "### Confidence Intervals\n",
    "\n",
    "1. Calculate confidence interval\n",
    "    * for population mean\n",
    "    * for population proportion\n",
    "2. Determine sample size\n",
    "    * for population mean\n",
    "    * for population proportion"
   ]
  },
  {
   "attachments": {},
   "cell_type": "markdown",
   "metadata": {
    "slideshow": {
     "slide_type": "subslide"
    }
   },
   "source": [
    "### Reminder: Generalization and Transfer of Findings\n",
    "\n",
    "* Findings are always limited to the studied sample.\n",
    "* Findings from representative samples can be generalized to the population.\n",
    "* Findings can not generally be transferred to another population.\n",
    "* Even if two populations are technically comparable, there may be unknown parameters in play."
   ]
  },
  {
   "attachments": {},
   "cell_type": "markdown",
   "metadata": {
    "slideshow": {
     "slide_type": "subslide"
    }
   },
   "source": [
    "### Point Estimates\n",
    "\n",
    "Population parameters can be estimated from a sample:\n",
    "\n",
    "| Parameter  | Population | Sample |\n",
    "|------------|------------|--------|\n",
    "| Proportion | pi         | p |\n",
    "| Mean       | mu         | X |"
   ]
  },
  {
   "attachments": {},
   "cell_type": "markdown",
   "metadata": {
    "slideshow": {
     "slide_type": "slide"
    }
   },
   "source": [
    "### Calculate CI for the Mean\n",
    "\n",
    "A sample of 11 circuits from a large normal population has a mean resistance of 2.20 ohms.\n",
    "We know from past testing that the population standard deviation is .35 ohms.  \n",
    "Determine a 95% confidence interval for the true mean resistance of the population."
   ]
  },
  {
   "cell_type": "code",
   "execution_count": 29,
   "metadata": {},
   "outputs": [
    {
     "data": {
      "text/plain": [
       "(1.964866800593334, 2.4351331994066663)"
      ]
     },
     "execution_count": 29,
     "metadata": {},
     "output_type": "execute_result"
    }
   ],
   "source": [
    "import math\n",
    "from scipy import stats\n",
    "\n",
    "stats.t.interval(0.95,\n",
    "            df = 11 - 1,\n",
    "            loc = 2.2,\n",
    "            scale = 0.35 / math.sqrt(11)\n",
    "            )"
   ]
  },
  {
   "cell_type": "code",
   "execution_count": 30,
   "metadata": {
    "slideshow": {
     "slide_type": "subslide"
    }
   },
   "outputs": [],
   "source": [
    "import math\n",
    "from scipy import stats\n",
    "\n",
    "def t_interval(confidence, series):\n",
    "    n = series.size\n",
    "    return stats.t.interval(confidence,\n",
    "                            df = n - 1,\n",
    "                            loc = series.mean(),\n",
    "                            scale = series.std() / math.sqrt(n)\n",
    "                            )\n"
   ]
  },
  {
   "cell_type": "code",
   "execution_count": 31,
   "metadata": {
    "slideshow": {
     "slide_type": "subslide"
    }
   },
   "outputs": [],
   "source": [
    "import math\n",
    "from scipy import stats\n",
    "\n",
    "def t_interval(confidence, series, alternative='two-sided'):\n",
    "    if alternative == 'less':\n",
    "        p_tail = 1 - confidence\n",
    "        lb, ub = 0, 1 - p_tail\n",
    "    elif alternative == 'greater':\n",
    "        p_tail = 1 - confidence\n",
    "        lb, ub = p_tail, 1\n",
    "    else: # elif alternative == 'two-sided':\n",
    "        p_tail = (1 - confidence) / 2\n",
    "        lb, ub = p_tail, 1 - p_tail\n",
    "    return stats.t.ppf([lb, ub],\n",
    "            df = series.size - 1,\n",
    "            loc = series.mean(),\n",
    "            scale = series.std() / math.sqrt(series.size)\n",
    "            )"
   ]
  },
  {
   "attachments": {},
   "cell_type": "markdown",
   "metadata": {
    "slideshow": {
     "slide_type": "slide"
    }
   },
   "source": [
    "### Calculate CI for Proportion\n",
    "\n",
    "A random sample of 100 people shows that 25 are left-handed.\n",
    "Form a 95% confidence interval for the true proportion of left-handers"
   ]
  },
  {
   "cell_type": "code",
   "execution_count": 32,
   "metadata": {},
   "outputs": [
    {
     "data": {
      "text/plain": [
       "(0.1651310699442871, 0.3348689300557129)"
      ]
     },
     "execution_count": 32,
     "metadata": {},
     "output_type": "execute_result"
    }
   ],
   "source": [
    "from statsmodels.stats.proportion import proportion_confint\n",
    "\n",
    "proportion_confint(25, 100, 1 - 0.95)"
   ]
  },
  {
   "cell_type": "code",
   "execution_count": 33,
   "metadata": {
    "slideshow": {
     "slide_type": "subslide"
    }
   },
   "outputs": [],
   "source": [
    "from statsmodels.stats.proportion import proportion_confint\n",
    "\n",
    "def prop_interval(confidence, success, total):\n",
    "    return proportion_confint(success, total, 1 - confidence)"
   ]
  },
  {
   "attachments": {},
   "cell_type": "markdown",
   "metadata": {
    "slideshow": {
     "slide_type": "slide"
    }
   },
   "source": [
    "### Determining Sample Size\n",
    "\n",
    "* for mean\n",
    "* for proportion"
   ]
  },
  {
   "attachments": {},
   "cell_type": "markdown",
   "metadata": {
    "slideshow": {
     "slide_type": "subslide"
    }
   },
   "source": [
    "### Determining Sample Size for Mean\n",
    "\n",
    "If `σ = 45`, what sample size is needed to estimate the mean within `± 5` with `90%` confidence?"
   ]
  },
  {
   "cell_type": "code",
   "execution_count": 34,
   "metadata": {
    "slideshow": {
     "slide_type": "fragment"
    }
   },
   "outputs": [
    {
     "data": {
      "text/plain": [
       "219.14901978172847"
      ]
     },
     "execution_count": 34,
     "metadata": {},
     "output_type": "execute_result"
    }
   ],
   "source": [
    "def critical_value_norm(alpha):\n",
    "    return stats.norm.ppf(1 - (alpha) / 2)\n",
    "\n",
    "def samplesize_confint_norm(std, half_length, alpha):\n",
    "    z = critical_value_norm(alpha)\n",
    "    return (z**2 * std**2) / half_length**2\n",
    "\n",
    "samplesize_confint_norm(45, 5, 1 - 0.9)"
   ]
  },
  {
   "attachments": {},
   "cell_type": "markdown",
   "metadata": {
    "slideshow": {
     "slide_type": "subslide"
    }
   },
   "source": [
    "### Determining Sample Size for Proportion\n",
    "\n",
    "How large a sample would be necessary to estimate the true proportion defective in a large population within `±3%`, with `95%` confidence? Assume a pilot sample yields `p = .12`."
   ]
  },
  {
   "cell_type": "code",
   "execution_count": 35,
   "metadata": {
    "slideshow": {
     "slide_type": "fragment"
    }
   },
   "outputs": [
    {
     "data": {
      "text/plain": [
       "450.7311682947776"
      ]
     },
     "execution_count": 35,
     "metadata": {},
     "output_type": "execute_result"
    }
   ],
   "source": [
    "from statsmodels.stats.proportion import samplesize_confint_proportion\n",
    "\n",
    "samplesize_confint_proportion(proportion=.12, half_length=0.03, alpha=.05)"
   ]
  }
 ],
 "metadata": {
  "kernelspec": {
   "display_name": "Python 3",
   "language": "python",
   "name": "python3"
  },
  "language_info": {
   "codemirror_mode": {
    "name": "ipython",
    "version": 3
   },
   "file_extension": ".py",
   "mimetype": "text/x-python",
   "name": "python",
   "nbconvert_exporter": "python",
   "pygments_lexer": "ipython3",
   "version": "3.8.10 (default, Nov 14 2022, 12:59:47) \n[GCC 9.4.0]"
  },
  "orig_nbformat": 4,
  "vscode": {
   "interpreter": {
    "hash": "767d51c1340bd893661ea55ea3124f6de3c7a262a8b4abca0554b478b1e2ff90"
   }
  }
 },
 "nbformat": 4,
 "nbformat_minor": 2
}
