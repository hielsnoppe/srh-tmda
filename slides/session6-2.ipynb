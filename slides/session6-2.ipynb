{
 "cells": [
  {
   "attachments": {},
   "cell_type": "markdown",
   "metadata": {},
   "source": [
    "# Tools and Methods of Data Analysis\n",
    "## Session 6 - Part 2\n",
    "\n",
    "Niels Hoppe <<niels.hoppe.extern@srh.de>>"
   ]
  },
  {
   "attachments": {},
   "cell_type": "markdown",
   "metadata": {
    "slideshow": {
     "slide_type": "slide"
    }
   },
   "source": [
    "## Imports and Utility Function"
   ]
  },
  {
   "cell_type": "code",
   "execution_count": 1,
   "metadata": {},
   "outputs": [],
   "source": [
    "import math\n",
    "import numpy as np\n",
    "import pandas as pd\n",
    "from pyreadr import read_r\n",
    "from scipy import stats\n",
    "from statsmodels.stats.proportion import proportion_confint\n",
    "\n",
    "def t_confint(series: pd.Series, alpha: float = 0.05):\n",
    "    n = series.size\n",
    "    return stats.t.interval(1 - alpha, # confidence\n",
    "                            # degrees of freedom = sample size minus One\n",
    "                            df = n - 1,\n",
    "                            loc = series.mean(),\n",
    "                            # std. deviation by square root of sample size\n",
    "                            scale = series.std() / math.sqrt(n)\n",
    "                            )"
   ]
  },
  {
   "attachments": {},
   "cell_type": "markdown",
   "metadata": {
    "slideshow": {
     "slide_type": "slide"
    }
   },
   "source": [
    "## 1) Lifetime of Heat Pumps\n",
    "\n",
    "A random sample of $n = 20$ heat pumps of a certain type yielded the following observations on lifetime in years: \n",
    "\n",
    "Generate sample data by"
   ]
  },
  {
   "cell_type": "code",
   "execution_count": 24,
   "metadata": {},
   "outputs": [
    {
     "data": {
      "text/plain": [
       "array([4.99342831, 3.7234714 , 5.29537708, 7.04605971, 3.53169325,\n",
       "       3.53172609, 7.15842563, 5.53486946, 3.06105123, 5.08512009,\n",
       "       3.07316461, 3.06854049, 4.48392454, 0.17343951, 0.55016433,\n",
       "       2.87542494, 1.97433776, 4.62849467, 2.18395185, 1.1753926 ])"
      ]
     },
     "execution_count": 24,
     "metadata": {},
     "output_type": "execute_result"
    }
   ],
   "source": [
    "lifetime = stats.norm.rvs(loc=4, scale=2, size=20, random_state=42)"
   ]
  },
  {
   "attachments": {},
   "cell_type": "markdown",
   "metadata": {},
   "source": [
    "\n",
    "1. Assume that the lifetime distribution is normal and calculate a 95% CI for expected (true average) lifetime of all heat pumps of that type. \n",
    "2. How should the interval of part (a) be altered to achieve a confidence level of 99%?"
   ]
  },
  {
   "cell_type": "code",
   "execution_count": 26,
   "metadata": {},
   "outputs": [
    {
     "data": {
      "text/plain": [
       "(2.7815420348424746, 4.5332637193902094)"
      ]
     },
     "execution_count": 26,
     "metadata": {},
     "output_type": "execute_result"
    }
   ],
   "source": [
    "stats.t.interval(\n",
    "    confidence=0.95,\n",
    "    loc=np.mean(lifetime), # lifetime.mean()\n",
    "    scale=lifetime.std() / math.sqrt(lifetime.size),\n",
    "    df=lifetime.size - 1\n",
    ")"
   ]
  },
  {
   "cell_type": "code",
   "execution_count": 3,
   "metadata": {
    "slideshow": {
     "slide_type": "fragment"
    }
   },
   "outputs": [
    {
     "data": {
      "text/plain": [
       "(2.7815420348424746, 4.5332637193902094)"
      ]
     },
     "execution_count": 3,
     "metadata": {},
     "output_type": "execute_result"
    }
   ],
   "source": [
    "t_confint(lifetime, alpha=1-.95)"
   ]
  },
  {
   "cell_type": "code",
   "execution_count": 4,
   "metadata": {
    "slideshow": {
     "slide_type": "fragment"
    }
   },
   "outputs": [
    {
     "data": {
      "text/plain": [
       "(2.460197050065249, 4.854608704167435)"
      ]
     },
     "execution_count": 4,
     "metadata": {},
     "output_type": "execute_result"
    }
   ],
   "source": [
    "t_confint(lifetime, alpha=1-.99)"
   ]
  },
  {
   "attachments": {},
   "cell_type": "markdown",
   "metadata": {
    "slideshow": {
     "slide_type": "slide"
    }
   },
   "source": [
    "## 2) Insulation Liquids\n",
    "\n",
    "The alternating current (AC) breakdown voltage of an insulating liquid indicates its dielectric strength. The article “Testing Practices for the AC Breakdown Voltage Testing of Insulation Liquids” (IEEE Electrical Insulation Magazine, 1995: 21–26) gave a sample of observations on breakdown voltage (kV) of a particular circuit under certain conditions. \n",
    "\n",
    "Generate similar data by"
   ]
  },
  {
   "cell_type": "code",
   "execution_count": 5,
   "metadata": {},
   "outputs": [
    {
     "data": {
      "text/plain": [
       "array([57., 54., 58., 63., 53., 53., 63., 59., 52., 58., 52., 52., 56.,\n",
       "       45., 46., 52., 49., 56., 50., 47., 62., 54., 55., 47., 52., 55.,\n",
       "       49., 57., 52., 53., 52., 64., 55., 49., 59., 48., 56., 44., 48.,\n",
       "       56., 59., 56., 54., 53., 47., 51., 52., 60.])"
      ]
     },
     "execution_count": 5,
     "metadata": {},
     "output_type": "execute_result"
    }
   ],
   "source": [
    "n, mean, std = 3*16, 54.70833, 5.230672\n",
    "voltage = stats.norm.rvs(loc=mean, scale=std, size=n,\n",
    "                        random_state=42).round()\n",
    "voltage"
   ]
  },
  {
   "attachments": {},
   "cell_type": "markdown",
   "metadata": {
    "slideshow": {
     "slide_type": "subslide"
    }
   },
   "source": [
    "## 2) Insulation Liquids (cont.)\n",
    "\n",
    "1. Calculate and interpret a 95% CI for true average breakdown voltage $\\mu$.\n",
    "2. What sample size would be appropriate for the 95% CI to have a width of 2 kV (so that $\\mu$ is estimated to within 1 kV with 95% confidence)? Use the standard deviation s of the dataset \"voltage\" and $t_{0.975} ≈ 2$ as estimates."
   ]
  },
  {
   "cell_type": "code",
   "execution_count": 6,
   "metadata": {
    "slideshow": {
     "slide_type": "fragment"
    }
   },
   "outputs": [
    {
     "data": {
      "text/plain": [
       "(52.23290878727209, 55.01709121272791)"
      ]
     },
     "execution_count": 6,
     "metadata": {},
     "output_type": "execute_result"
    }
   ],
   "source": [
    "t_confint(voltage, alpha=1-.95)"
   ]
  },
  {
   "cell_type": "code",
   "execution_count": 7,
   "metadata": {
    "slideshow": {
     "slide_type": "fragment"
    }
   },
   "outputs": [
    {
     "data": {
      "text/plain": [
       "88.29353008189153"
      ]
     },
     "execution_count": 7,
     "metadata": {},
     "output_type": "execute_result"
    }
   ],
   "source": [
    "math.ceil((voltage.std() * 2) ** 2)\n",
    "\n",
    "def critical_value_norm(alpha):\n",
    "    return stats.norm.ppf(1 - (alpha) / 2)\n",
    "\n",
    "def samplesize_confint_norm(std, half_length, alpha):\n",
    "    z = critical_value_norm(alpha)\n",
    "    return (z**2 * std**2) / half_length**2\n",
    "\n",
    "samplesize_confint_norm(voltage.std(), 1, 1 - 0.95)"
   ]
  },
  {
   "attachments": {},
   "cell_type": "markdown",
   "metadata": {
    "slideshow": {
     "slide_type": "slide"
    }
   },
   "source": [
    "## 3) Wafer\n",
    "\n",
    "The article “Limited Yield Estimation for Visual Defect Sources” (IEEE Trans. on Semiconductor Manuf., 1997: 17–23) reported that, in a study of a particular wafer inspection process, 356 dies were examined by an inspection probe and 201 of these passed the probe. Assuming a stable process, calculate a 95% (two-sided) confidence interval for the proportion of all dies that pass the probe."
   ]
  },
  {
   "cell_type": "code",
   "execution_count": 8,
   "metadata": {
    "slideshow": {
     "slide_type": "fragment"
    }
   },
   "outputs": [
    {
     "data": {
      "text/plain": [
       "(0.5131032144560886, 0.6161102686899788)"
      ]
     },
     "execution_count": 8,
     "metadata": {},
     "output_type": "execute_result"
    }
   ],
   "source": [
    "proportion_confint(201, 356, alpha=1-.95)"
   ]
  },
  {
   "attachments": {},
   "cell_type": "markdown",
   "metadata": {
    "slideshow": {
     "slide_type": "slide"
    }
   },
   "source": [
    "## 4) Paper as Insulator\n",
    "\n",
    "The article “Measuring and Understanding the Aging of Kraft Insulating Paper in Power Transformers” (IEEE Electrical Insul. Mag., 1996: 28–34) contained the following observations on degree of polymerization for paper specimens for which viscosity times concentration fell in a certain middle range. (Data: ex07.33)\n",
    "\n",
    "1. Construct a boxplot and a normal qq-plot of the data and comment on any interesting features. \n",
    "2. Is it plausible that the given sample observations were selected from a normal distribution?\n",
    "3. Calculate a two-sided 95% confidence interval for true average degree of polymerization (as did the authors of the article). Does the interval suggest that 440 is a plausible value for true average degree of polymerization? What about 450?"
   ]
  },
  {
   "cell_type": "code",
   "execution_count": 9,
   "metadata": {},
   "outputs": [],
   "source": [
    "data = read_r('../data/devore7/ex07.33.rda')\n",
    "df = data['ex07.33']"
   ]
  },
  {
   "cell_type": "code",
   "execution_count": 10,
   "metadata": {
    "slideshow": {
     "slide_type": "subslide"
    }
   },
   "outputs": [
    {
     "data": {
      "image/png": "[encoded data removed]",
      "text/plain": [
       "<Figure size 640x480 with 2 Axes>"
      ]
     },
     "metadata": {},
     "output_type": "display_data"
    }
   ],
   "source": [
    "import statsmodels.api as sm\n",
    "import matplotlib.pyplot as plt\n",
    "import seaborn as sns\n",
    "\n",
    "f, (ax_box, ax_hist) = plt.subplots(2, sharex=True, gridspec_kw={'height_ratios': (.15, .85)})\n",
    "sns.boxplot(x=df['C1'], ax=ax_box)\n",
    "sns.histplot(x=df['C1'], bins=10, ax=ax_hist)\n",
    "None # <-- suppress output in Jupyter notebook"
   ]
  },
  {
   "cell_type": "code",
   "execution_count": 11,
   "metadata": {
    "slideshow": {
     "slide_type": "subslide"
    }
   },
   "outputs": [
    {
     "data": {
      "image/png": "[encoded data removed]",
      "text/plain": [
       "<Figure size 640x480 with 1 Axes>"
      ]
     },
     "metadata": {},
     "output_type": "display_data"
    }
   ],
   "source": [
    "sm.qqplot(df['C1'], line='45', fit=True)\n",
    "plt.show()"
   ]
  },
  {
   "cell_type": "code",
   "execution_count": 12,
   "metadata": {
    "slideshow": {
     "slide_type": "fragment"
    }
   },
   "outputs": [
    {
     "data": {
      "text/plain": [
       "(430.5077089589564, 446.08052633516127)"
      ]
     },
     "execution_count": 12,
     "metadata": {},
     "output_type": "execute_result"
    }
   ],
   "source": [
    "t_confint(df['C1'], alpha=1-.95)"
   ]
  },
  {
   "attachments": {},
   "cell_type": "markdown",
   "metadata": {
    "slideshow": {
     "slide_type": "slide"
    }
   },
   "source": [
    "## 5) Arsenic in Groundwater\n",
    "\n",
    "High concentration of the toxic element arsenic is all too common in groundwater. The article “Evaluation of Treatment Systems for the Removal of Arsenic from Groundwater” (Practice Periodical of Hazardous, Toxic, and Radioactive Waste Mgmt., 2005: 152–157) reported that for a sample of water specimens selected for treatment by coagulation, the sample mean arsenic concentration was 24.3 μg/L, and the sample standard deviation was 4.1 μg/L. \n",
    "\n",
    "Generate a similar dataset by"
   ]
  },
  {
   "cell_type": "code",
   "execution_count": 13,
   "metadata": {},
   "outputs": [],
   "source": [
    "mean, std = 24.3, 4.1\n",
    "x = pd.Series(stats.norm.rvs(loc=mean, scale=std, size=20, random_state=42)).round(1)\n",
    "concentration = ((mean + std * x - x.mean()) / x.std()).round(1)"
   ]
  },
  {
   "attachments": {},
   "cell_type": "markdown",
   "metadata": {},
   "source": [
    "\n",
    "1. Calculate and interpret a 95% CI for true average arsenic concentration in all such water specimens. \n",
    "2. Calculate a 90% upper confidence bound for true average arsenic concentration in all such water specimens. "
   ]
  },
  {
   "attachments": {},
   "cell_type": "markdown",
   "metadata": {
    "slideshow": {
     "slide_type": "subslide"
    }
   },
   "source": [
    "## 5) Arsenic in Groundwater (cont.)"
   ]
  },
  {
   "cell_type": "code",
   "execution_count": 14,
   "metadata": {
    "slideshow": {
     "slide_type": "fragment"
    }
   },
   "outputs": [
    {
     "data": {
      "text/plain": [
       "(22.859273389585667, 26.700726610414335)"
      ]
     },
     "execution_count": 14,
     "metadata": {},
     "output_type": "execute_result"
    }
   ],
   "source": [
    "t_confint(concentration, alpha=1-.95)"
   ]
  },
  {
   "cell_type": "code",
   "execution_count": 15,
   "metadata": {},
   "outputs": [
    {
     "data": {
      "text/plain": [
       "(-inf, 25.99842981073456)"
      ]
     },
     "execution_count": 15,
     "metadata": {},
     "output_type": "execute_result"
    }
   ],
   "source": [
    "ci = t_confint(concentration, alpha=1-.8)\n",
    "ci = (-math.inf, ci[1])\n",
    "ci"
   ]
  },
  {
   "attachments": {},
   "cell_type": "markdown",
   "metadata": {
    "slideshow": {
     "slide_type": "slide"
    }
   },
   "source": [
    "## 6) Wireless Means for Online Access\n",
    "\n",
    "An April 2009 survey of 2253 American adults conducted by the Pew Research Center’s Internet & American Life Project revealed that 1262 of the respondents had at some point used wireless means for online access.\n",
    "\n",
    "1. Calculate and interpret a 95% CI for the proportion of all American adults who at the time of the survey had used wireless means for online access. \n",
    "2. Does the upper limit of the interval in (a) specify a 95% upper confidence bound for the proportion being estimated? Explain.\n",
    "3. What sample size is required if the desired width of the 95% CI is to be at most .04, using the sample results? "
   ]
  },
  {
   "attachments": {},
   "cell_type": "markdown",
   "metadata": {
    "slideshow": {
     "slide_type": "subslide"
    }
   },
   "source": [
    "## 6) Wireless Means for Online Access (cont.)"
   ]
  },
  {
   "cell_type": "code",
   "execution_count": 16,
   "metadata": {
    "slideshow": {
     "slide_type": "fragment"
    }
   },
   "outputs": [
    {
     "data": {
      "text/plain": [
       "(0.5396458584288474, 0.5806382072613435)"
      ]
     },
     "execution_count": 16,
     "metadata": {},
     "output_type": "execute_result"
    }
   ],
   "source": [
    "proportion_confint(1262, 2253, alpha=1-.95)"
   ]
  },
  {
   "cell_type": "code",
   "execution_count": 17,
   "metadata": {
    "slideshow": {
     "slide_type": "fragment"
    }
   },
   "outputs": [
    {
     "data": {
      "text/plain": [
       "(0.5429411010457761, 0.5773429646444148)"
      ]
     },
     "execution_count": 17,
     "metadata": {},
     "output_type": "execute_result"
    }
   ],
   "source": [
    "proportion_confint(1262, 2253, alpha=1-.9)"
   ]
  },
  {
   "cell_type": "code",
   "execution_count": 18,
   "metadata": {
    "slideshow": {
     "slide_type": "subslide"
    }
   },
   "outputs": [
    {
     "data": {
      "text/plain": [
       "2366.2617162420315"
      ]
     },
     "execution_count": 18,
     "metadata": {},
     "output_type": "execute_result"
    }
   ],
   "source": [
    "p = 1262/2253\n",
    "n = 1.96**2 * p * (1 - p) / .02**2\n",
    "n"
   ]
  },
  {
   "cell_type": "code",
   "execution_count": 19,
   "metadata": {},
   "outputs": [
    {
     "data": {
      "text/plain": [
       "2366.174755812364"
      ]
     },
     "execution_count": 19,
     "metadata": {},
     "output_type": "execute_result"
    }
   ],
   "source": [
    "from statsmodels.stats.proportion import samplesize_confint_proportion\n",
    "n = samplesize_confint_proportion(proportion=p, half_length=.02, alpha=0.05)\n",
    "n"
   ]
  },
  {
   "attachments": {},
   "cell_type": "markdown",
   "metadata": {
    "slideshow": {
     "slide_type": "slide"
    }
   },
   "source": [
    "## 7) Asbestos\n",
    "\n",
    "Chronic exposure to asbestos fiber is a well-known health hazard.\n",
    "The article “The Acute Effects of Chrysotile Asbestos Exposure on Lung Function” (Environ. Research, 1978: 360–372) reports results of a study based on a sample of construction workers who had been exposed to asbestos over a prolonged period.\n",
    "Among the data given in the article were the following (ordered) values of pulmonary compliance (cm³/cm H2O) for each of 16 subjects 8 months after the exposure period (pulmonary compliance is a measure of lung elasticity,\n",
    "or how effectively the lungs are able to inhale and exhale). (Data: ex07.56)\n",
    "    \n",
    "1. Is it plausible that the population distribution is normal?\n",
    "2. Compute a 95% CI for the true average pulmonary compliance after such exposure.\n",
    "3. Using the sample point estimates for mean and standard deviation, calculate an interval that includes 95% of the pulmonary compliance values in the population distribution. "
   ]
  },
  {
   "cell_type": "code",
   "execution_count": 20,
   "metadata": {},
   "outputs": [],
   "source": [
    "data = read_r('../data/devore7/ex07.56.rda')\n",
    "df = data['ex07.56']"
   ]
  },
  {
   "cell_type": "code",
   "execution_count": 21,
   "metadata": {
    "slideshow": {
     "slide_type": "subslide"
    }
   },
   "outputs": [
    {
     "data": {
      "image/png": "[encoded data removed]",
      "text/plain": [
       "<Figure size 640x480 with 1 Axes>"
      ]
     },
     "metadata": {},
     "output_type": "display_data"
    }
   ],
   "source": [
    "sm.qqplot(df['C1'], line='45', fit=True)\n",
    "plt.show()"
   ]
  },
  {
   "cell_type": "code",
   "execution_count": 22,
   "metadata": {
    "slideshow": {
     "slide_type": "subslide"
    }
   },
   "outputs": [
    {
     "data": {
      "text/plain": [
       "(196.87807695769663, 222.62192304230337)"
      ]
     },
     "execution_count": 22,
     "metadata": {},
     "output_type": "execute_result"
    }
   ],
   "source": [
    "t_confint(df['C1'], alpha=1-.95)"
   ]
  },
  {
   "cell_type": "code",
   "execution_count": 23,
   "metadata": {
    "slideshow": {
     "slide_type": "fragment"
    }
   },
   "outputs": [
    {
     "data": {
      "text/plain": [
       "(162.40474497907388, 257.0952550209261)"
      ]
     },
     "execution_count": 23,
     "metadata": {},
     "output_type": "execute_result"
    }
   ],
   "source": [
    "mean, std = df['C1'].mean(), df['C1'].std()\n",
    "(   stats.norm.ppf(0.025, loc=mean, scale=std),\n",
    "    stats.norm.ppf(0.975, loc=mean, scale=std)   )"
   ]
  }
 ],
 "metadata": {
  "kernelspec": {
   "display_name": "Python 3",
   "language": "python",
   "name": "python3"
  },
  "language_info": {
   "codemirror_mode": {
    "name": "ipython",
    "version": 3
   },
   "file_extension": ".py",
   "mimetype": "text/x-python",
   "name": "python",
   "nbconvert_exporter": "python",
   "pygments_lexer": "ipython3",
   "version": "3.8.10"
  },
  "orig_nbformat": 4,
  "vscode": {
   "interpreter": {
    "hash": "767d51c1340bd893661ea55ea3124f6de3c7a262a8b4abca0554b478b1e2ff90"
   }
  }
 },
 "nbformat": 4,
 "nbformat_minor": 2
}
