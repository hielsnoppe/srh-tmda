{
 "cells": [
  {
   "attachments": {},
   "cell_type": "markdown",
   "metadata": {
    "slideshow": {
     "slide_type": "slide"
    }
   },
   "source": [
    "# Tools and Methods of Data Analysis\n",
    "## Session 6 - Part 1\n",
    "\n",
    "Niels Hoppe <<niels.hoppe.extern@srh.de>>"
   ]
  },
  {
   "cell_type": "code",
   "execution_count": 35,
   "metadata": {
    "slideshow": {
     "slide_type": "skip"
    }
   },
   "outputs": [],
   "source": [
    "import math\n",
    "import numpy as np\n",
    "import seaborn as sns\n",
    "from scipy import stats"
   ]
  },
  {
   "attachments": {},
   "cell_type": "markdown",
   "metadata": {
    "slideshow": {
     "slide_type": "slide"
    }
   },
   "source": [
    "### Proportions\n",
    "\n",
    "Statistical parameter $\\pi$ (or $p$ in a sample) for\n",
    "\n",
    "* categorical/qualitative data or\n",
    "* quantitative data mapped to a categories.\n",
    "\n",
    "Examples:\n",
    "\n",
    "* Proportion of voters for a particular party (parties = categories)\n",
    "* Proportion of people with income >= 100k (income is quantitative, but mapped to categories: income < 100k and income >= 100k)"
   ]
  },
  {
   "attachments": {},
   "cell_type": "markdown",
   "metadata": {
    "slideshow": {
     "slide_type": "subslide"
    }
   },
   "source": [
    "### Proportions (cont.)\n",
    "\n",
    "The standard deviation of $p$ is calculated as\n",
    "\n",
    "$$\n",
    "\\sigma_p = \\sqrt{\\frac{p \\cdot (1 - p)}{n}}\n",
    "$$"
   ]
  },
  {
   "attachments": {},
   "cell_type": "markdown",
   "metadata": {
    "slideshow": {
     "slide_type": "slide"
    }
   },
   "source": [
    "### Confidence Intervals\n",
    "\n",
    "1. Calculate confidence interval\n",
    "    * for population mean\n",
    "    * for population proportion\n",
    "2. Determine sample size\n",
    "    * for population mean\n",
    "    * for population proportion"
   ]
  },
  {
   "attachments": {},
   "cell_type": "markdown",
   "metadata": {
    "slideshow": {
     "slide_type": "subslide"
    }
   },
   "source": [
    "### Reminder: Generalization and Transfer of Findings\n",
    "\n",
    "* Findings are always limited to the studied sample.\n",
    "* Findings from representative samples can be generalized to the population.\n",
    "* Findings can not generally be transferred to another population.\n",
    "* Even if two populations are technically comparable, there may be unknown parameters in play."
   ]
  },
  {
   "attachments": {},
   "cell_type": "markdown",
   "metadata": {
    "slideshow": {
     "slide_type": "slide"
    }
   },
   "source": [
    "### Point Estimates\n",
    "\n",
    "Population parameters can be estimated from a sample:\n",
    "\n",
    "| Parameter  | Population | Sample    | Estimate       |\n",
    "|------------|------------|-----------|----------------|\n",
    "| Proportion | $\\pi$      | p         | $\\hat{\\pi}$    |\n",
    "| Mean       | $\\mu$      | $\\bar{x}$ | $\\hat{\\mu}$    |\n",
    "| Std. dev.  | $\\sigma$   | s         | $\\hat{\\sigma}$ |"
   ]
  },
  {
   "attachments": {},
   "cell_type": "markdown",
   "metadata": {
    "slideshow": {
     "slide_type": "subslide"
    }
   },
   "source": [
    "### Experiment"
   ]
  },
  {
   "cell_type": "code",
   "execution_count": 36,
   "metadata": {},
   "outputs": [],
   "source": [
    "import matplotlib.pyplot as plt\n",
    "import numpy as np\n",
    "import pandas as pd\n",
    "import seaborn as sns\n",
    "from scipy import stats\n",
    "\n",
    "def histplot(data, color_palette, color):\n",
    "    sns.histplot(data, stat='count',\n",
    "                 bins=20, binrange=(-4, 4),\n",
    "                 color=color_palette[color],\n",
    "                 log_scale=(False, True),\n",
    "                 multiple='dodge',)#discrete=True)\n",
    "\n",
    "def meanplot(data, color_palette, color):\n",
    "    plt.axvline(data.mean(), 0, 1, color=color_palette[color])"
   ]
  },
  {
   "cell_type": "code",
   "execution_count": 37,
   "metadata": {
    "slideshow": {
     "slide_type": "subslide"
    }
   },
   "outputs": [],
   "source": [
    "def sample(size, n=1):\n",
    "    \n",
    "    population = pd.Series(stats.norm.rvs(0, 1, size=100000))\n",
    "    samples = pd.DataFrame({ i: population.sample(n=size) for i in range(1, n+1) })\n",
    "    \n",
    "    x = np.arange(-4, 4, 0.001)\n",
    "    norm_values = stats.norm.pdf(x, 0, 1) * 100000\n",
    "\n",
    "    plt.plot(x, norm_values)\n",
    "\n",
    "    histplot(population, sns.color_palette('pastel'), 0)\n",
    "    #meanplot(population, sns.color_palette('bright'), 0)\n",
    "\n",
    "    histplot(samples, sns.color_palette('pastel'), 0)\n",
    "    for i, mu in enumerate(samples.mean()):\n",
    "        #meanplot(sample, sns.color_palette('bright'), i+1)\n",
    "        plt.axvline(mu, 0, 1, color=sns.color_palette()[i])\n",
    "\n",
    "    plt.show()"
   ]
  },
  {
   "cell_type": "code",
   "execution_count": 38,
   "metadata": {
    "slideshow": {
     "slide_type": "subslide"
    }
   },
   "outputs": [
    {
     "data": {
      "image/png": "[encoded data removed]",
      "text/plain": [
       "<Figure size 640x480 with 1 Axes>"
      ]
     },
     "metadata": {},
     "output_type": "display_data"
    }
   ],
   "source": [
    "sample(10, 5)"
   ]
  },
  {
   "attachments": {},
   "cell_type": "markdown",
   "metadata": {
    "slideshow": {
     "slide_type": "slide"
    }
   },
   "source": [
    "### General Formula\n",
    "\n",
    "Given\n",
    "\n",
    "* a point estimate $\\hat{X}$,\n",
    "* a critical value $Z$ and\n",
    "* the standard error $e$,\n",
    "\n",
    "a confidence interval is caluclated as $\\hat{X} \\pm Z \\cdot e$."
   ]
  },
  {
   "attachments": {},
   "cell_type": "markdown",
   "metadata": {
    "slideshow": {
     "slide_type": "fragment"
    }
   },
   "source": [
    "Where do $\\hat{X}$, $Z$ and $e$ come from?"
   ]
  },
  {
   "attachments": {},
   "cell_type": "markdown",
   "metadata": {
    "slideshow": {
     "slide_type": "subslide"
    }
   },
   "source": [
    "### General Formula (cont.)\n",
    "\n",
    "$\\hat{X}$ is a point estimate from a sample, e.g. $\\hat{\\mu}$ or $\\hat{\\pi}$.\n",
    "\n",
    "$Z$ is based on the underlying distribution, e.g. normal distribution or t-distribution.\n",
    "\n",
    "$e$ is the standard error and is calculated depending on $\\hat{X}$."
   ]
  },
  {
   "attachments": {},
   "cell_type": "markdown",
   "metadata": {
    "slideshow": {
     "slide_type": "subslide"
    }
   },
   "source": [
    "### General Formula: Determining $Z$\n",
    "\n",
    "Use the percent point function of the underlying distribution.\n",
    "\n",
    "Confidence level $l$ determines $x$:\n",
    "\n",
    "$$x = \\frac{1 - l}{2}$$\n",
    "\n",
    "For confidence level $l = 0.95$ or $\\alpha = 1 - l = 0.05$:"
   ]
  },
  {
   "cell_type": "code",
   "execution_count": 39,
   "metadata": {},
   "outputs": [
    {
     "data": {
      "text/plain": [
       "-1.959963984540054"
      ]
     },
     "execution_count": 39,
     "metadata": {},
     "output_type": "execute_result"
    }
   ],
   "source": [
    "stats.norm.ppf((1 - 0.95) / 2)"
   ]
  },
  {
   "attachments": {},
   "cell_type": "markdown",
   "metadata": {
    "slideshow": {
     "slide_type": "slide"
    }
   },
   "source": [
    "### Calculate CI for the Mean\n",
    "\n",
    "The general formula for confidence intervals applied to the mean:\n",
    "\n",
    "$$\n",
    "\\bar{x} \\pm Z_{norm} \\frac{\\sigma}{\\sqrt{n}}\n",
    "\\qquad\\text{ or }\\qquad\n",
    "\\bar{x} \\pm Z_{t} \\frac{s}{\\sqrt{n}}\n",
    "$$"
   ]
  },
  {
   "attachments": {},
   "cell_type": "markdown",
   "metadata": {
    "slideshow": {
     "slide_type": "slide"
    }
   },
   "source": [
    "### Calculate CI for the Mean\n",
    "\n",
    "A sample of 11 circuits from a large normal population has a mean resistance of 2.20 ohms.\n",
    "We know from past testing that the population standard deviation is .35 ohms.  \n",
    "Determine a 95% confidence interval for the true mean resistance of the population."
   ]
  },
  {
   "cell_type": "code",
   "execution_count": 40,
   "metadata": {},
   "outputs": [
    {
     "data": {
      "text/plain": [
       "(1.9931670182940682, 2.406832981705932)"
      ]
     },
     "execution_count": 40,
     "metadata": {},
     "output_type": "execute_result"
    }
   ],
   "source": [
    "stats.norm.interval(0.95,\n",
    "            loc = 2.2,\n",
    "            scale = 0.35 / math.sqrt(11)\n",
    "            )"
   ]
  },
  {
   "cell_type": "code",
   "execution_count": 41,
   "metadata": {},
   "outputs": [
    {
     "data": {
      "text/plain": [
       "(1.964866800593334, 2.4351331994066663)"
      ]
     },
     "execution_count": 41,
     "metadata": {},
     "output_type": "execute_result"
    }
   ],
   "source": [
    "stats.t.interval(0.95,\n",
    "            df = 11 - 1,\n",
    "            loc = 2.2,\n",
    "            scale = 0.35 / math.sqrt(11)\n",
    "            )"
   ]
  },
  {
   "attachments": {},
   "cell_type": "markdown",
   "metadata": {
    "slideshow": {
     "slide_type": "subslide"
    }
   },
   "source": [
    "### Calculate CI for the Mean (cont.)"
   ]
  },
  {
   "cell_type": "code",
   "execution_count": 42,
   "metadata": {},
   "outputs": [],
   "source": [
    "import math\n",
    "from scipy import stats\n",
    "\n",
    "def t_interval(confidence, series):\n",
    "    n = series.size\n",
    "    return stats.t.interval(confidence,\n",
    "                            df = n - 1,\n",
    "                            loc = series.mean(),\n",
    "                            scale = series.std() / math.sqrt(n)\n",
    "                            )\n"
   ]
  },
  {
   "cell_type": "markdown",
   "metadata": {},
   "source": [
    "### Calculate CI for the Mean (cont.)"
   ]
  },
  {
   "cell_type": "code",
   "execution_count": 43,
   "metadata": {},
   "outputs": [],
   "source": [
    "import math\n",
    "from scipy import stats\n",
    "\n",
    "def t_interval(confidence, series, alternative='two-sided'):\n",
    "    if alternative == 'less':\n",
    "        p_tail = 1 - confidence\n",
    "        lb, ub = 0, 1 - p_tail\n",
    "    elif alternative == 'greater':\n",
    "        p_tail = 1 - confidence\n",
    "        lb, ub = p_tail, 1\n",
    "    else: # elif alternative == 'two-sided':\n",
    "        p_tail = (1 - confidence) / 2\n",
    "        lb, ub = p_tail, 1 - p_tail\n",
    "    return stats.t.ppf([lb, ub],\n",
    "            df = series.size - 1,\n",
    "            loc = series.mean(),\n",
    "            scale = series.std() / math.sqrt(series.size)\n",
    "            )"
   ]
  },
  {
   "attachments": {},
   "cell_type": "markdown",
   "metadata": {
    "slideshow": {
     "slide_type": "slide"
    }
   },
   "source": [
    "### Calculate CI for Proportion\n",
    "\n",
    "The general formula for confidence intervals applied to proportions:\n",
    "\n",
    "$$\n",
    "p \\pm Z \\sqrt{\\frac{p \\cdot (1 - p)}{n}}\n",
    "$$"
   ]
  },
  {
   "attachments": {},
   "cell_type": "markdown",
   "metadata": {
    "slideshow": {
     "slide_type": "slide"
    }
   },
   "source": [
    "### Calculate CI for Proportion\n",
    "\n",
    "A random sample of 100 people shows that 25 are left-handed.\n",
    "Form a 95% confidence interval for the true proportion of left-handers"
   ]
  },
  {
   "cell_type": "code",
   "execution_count": 44,
   "metadata": {},
   "outputs": [
    {
     "data": {
      "text/plain": [
       "(0.1651310699442871, 0.3348689300557129)"
      ]
     },
     "execution_count": 44,
     "metadata": {},
     "output_type": "execute_result"
    }
   ],
   "source": [
    "from statsmodels.stats.proportion import proportion_confint\n",
    "\n",
    "proportion_confint(25, 100, 1 - 0.95)"
   ]
  },
  {
   "cell_type": "code",
   "execution_count": 45,
   "metadata": {
    "slideshow": {
     "slide_type": "subslide"
    }
   },
   "outputs": [],
   "source": [
    "from statsmodels.stats.proportion import proportion_confint\n",
    "\n",
    "def prop_interval(confidence, success, total):\n",
    "    return proportion_confint(success, total, 1 - confidence)"
   ]
  },
  {
   "attachments": {},
   "cell_type": "markdown",
   "metadata": {
    "slideshow": {
     "slide_type": "slide"
    }
   },
   "source": [
    "### Determining Sample Size\n",
    "\n",
    "* for mean $\\mu$\n",
    "* for proportion $\\pi$\n",
    "\n",
    "based on $e$ and and $\\alpha$."
   ]
  },
  {
   "attachments": {},
   "cell_type": "markdown",
   "metadata": {
    "slideshow": {
     "slide_type": "slide"
    }
   },
   "source": [
    "### Determining Sample Size for Mean\n",
    "\n",
    "$$\n",
    "e = Z \\cdot \\frac{\\sigma}{\\sqrt{n}}\n",
    "\\qquad \\Rarr \\qquad\n",
    "n = \\frac{Z^2 \\cdot \\sigma^2}{e^2}\n",
    "$$"
   ]
  },
  {
   "attachments": {},
   "cell_type": "markdown",
   "metadata": {
    "slideshow": {
     "slide_type": "subslide"
    }
   },
   "source": [
    "### Determining Sample Size for Mean (cont.)\n",
    "\n",
    "If $\\sigma = 45$, what sample size is needed to estimate the mean within $\\pm 5$ with $90\\%$ confidence?"
   ]
  },
  {
   "cell_type": "code",
   "execution_count": 46,
   "metadata": {
    "slideshow": {
     "slide_type": "fragment"
    }
   },
   "outputs": [
    {
     "data": {
      "text/plain": [
       "219.14901978172847"
      ]
     },
     "execution_count": 46,
     "metadata": {},
     "output_type": "execute_result"
    }
   ],
   "source": [
    "def critical_value_norm(alpha):\n",
    "    return stats.norm.ppf(1 - (alpha) / 2)\n",
    "\n",
    "def samplesize_confint_norm(std, half_length, alpha):\n",
    "    z = critical_value_norm(alpha)\n",
    "    return (z**2 * std**2) / half_length**2\n",
    "\n",
    "samplesize_confint_norm(45, 5, 1 - 0.9)"
   ]
  },
  {
   "attachments": {},
   "cell_type": "markdown",
   "metadata": {
    "slideshow": {
     "slide_type": "slide"
    }
   },
   "source": [
    "### Determining Sample Size for Proportion\n",
    "\n",
    "$$\n",
    "e = Z \\cdot \\sqrt{\\frac{p \\cdot (1 - p)}{n}}\n",
    "\\qquad \\Rarr \\qquad\n",
    "n = \\frac{Z^2 \\cdot p \\cdot (1 - p)}{e^2}\n",
    "$$"
   ]
  },
  {
   "attachments": {},
   "cell_type": "markdown",
   "metadata": {
    "slideshow": {
     "slide_type": "subslide"
    }
   },
   "source": [
    "### Determining Sample Size for Proportion (cont.)\n",
    "\n",
    "How large a sample would be necessary to estimate the true proportion defective in a large population within $\\pm 3\\%$, with $95\\%$ confidence?\n",
    "\n",
    "Assume a pilot sample yields $p = .12$."
   ]
  },
  {
   "cell_type": "code",
   "execution_count": 47,
   "metadata": {
    "slideshow": {
     "slide_type": "fragment"
    }
   },
   "outputs": [
    {
     "data": {
      "text/plain": [
       "450.7311682947776"
      ]
     },
     "execution_count": 47,
     "metadata": {},
     "output_type": "execute_result"
    }
   ],
   "source": [
    "from statsmodels.stats.proportion import samplesize_confint_proportion\n",
    "\n",
    "samplesize_confint_proportion(proportion=.12, half_length=0.03, alpha=.05)"
   ]
  }
 ],
 "metadata": {
  "kernelspec": {
   "display_name": "Python 3",
   "language": "python",
   "name": "python3"
  },
  "language_info": {
   "codemirror_mode": {
    "name": "ipython",
    "version": 3
   },
   "file_extension": ".py",
   "mimetype": "text/x-python",
   "name": "python",
   "nbconvert_exporter": "python",
   "pygments_lexer": "ipython3",
   "version": "3.8.10"
  },
  "orig_nbformat": 4,
  "vscode": {
   "interpreter": {
    "hash": "767d51c1340bd893661ea55ea3124f6de3c7a262a8b4abca0554b478b1e2ff90"
   }
  }
 },
 "nbformat": 4,
 "nbformat_minor": 2
}
