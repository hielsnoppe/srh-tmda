{
 "cells": [
  {
   "attachments": {},
   "cell_type": "markdown",
   "metadata": {
    "slideshow": {
     "slide_type": "slide"
    }
   },
   "source": [
    "# Test of Hypotheses Based on One Sample"
   ]
  },
  {
   "cell_type": "code",
   "execution_count": 1,
   "metadata": {},
   "outputs": [],
   "source": [
    "import math\n",
    "from pyreadr import read_r\n",
    "from scipy import stats\n",
    "from statsmodels.stats.proportion \\\n",
    "    import proportion_confint, proportions_ztest"
   ]
  },
  {
   "attachments": {},
   "cell_type": "markdown",
   "metadata": {
    "slideshow": {
     "slide_type": "slide"
    }
   },
   "source": [
    "## 1) Radon Detectors\n",
    "\n",
    "A sample of 12 radon detectors of a certain type was selected, and each was exposed to 100 pCi/L of radon.\n",
    "The resulting readings were as follows. (Data ex08.32) \n",
    "\n",
    "Does this data suggest that the population mean reading under these conditions differs from 100?\n",
    "\n",
    "State and test the appropriate hypotheses using (α = .05). "
   ]
  },
  {
   "attachments": {},
   "cell_type": "markdown",
   "metadata": {
    "slideshow": {
     "slide_type": "fragment"
    }
   },
   "source": [
    "* $H_0: \\mu = 100$\n",
    "* $H_1: \\mu \\neq 100$"
   ]
  },
  {
   "cell_type": "code",
   "execution_count": 2,
   "metadata": {
    "slideshow": {
     "slide_type": "fragment"
    }
   },
   "outputs": [
    {
     "data": {
      "text/plain": [
       "0.37661608746499975"
      ]
     },
     "execution_count": 2,
     "metadata": {},
     "output_type": "execute_result"
    }
   ],
   "source": [
    "data = read_r('../data/devore7/ex08.32.rda')\n",
    "df = data['ex08.32']\n",
    "\n",
    "stat, pval = stats.ttest_1samp(a=df['C1'], popmean=100)\n",
    "pval"
   ]
  },
  {
   "attachments": {},
   "cell_type": "markdown",
   "metadata": {
    "slideshow": {
     "slide_type": "slide"
    }
   },
   "source": [
    "## 2) Batteries\n",
    "\n",
    "A manufacturer of nickel-hydrogen batteries randomly selects 100 nickel plates for test cells, cycles them a specified number of times, and determines that 14 of the plates have blistered. \n",
    "\n",
    "1. Does this provide compelling evidence for concluding that more than 10% of all plates blister under such circumstances? State and test the appropriate hypotheses using a significance level of α = .05.\n",
    "2. In reaching your conclusion, what type of error might you have committed?"
   ]
  },
  {
   "cell_type": "code",
   "execution_count": 4,
   "metadata": {
    "slideshow": {
     "slide_type": "fragment"
    }
   },
   "outputs": [
    {
     "data": {
      "text/plain": [
       "0.12450017622604997"
      ]
     },
     "execution_count": 4,
     "metadata": {},
     "output_type": "execute_result"
    }
   ],
   "source": [
    "stat, pval = proportions_ztest(count=14, nobs=100, value=0.1,\n",
    "                               alternative='larger')\n",
    "pval"
   ]
  },
  {
   "attachments": {},
   "cell_type": "markdown",
   "metadata": {
    "slideshow": {
     "slide_type": "fragment"
    }
   },
   "source": [
    "A possible β error (type II)"
   ]
  },
  {
   "attachments": {},
   "cell_type": "markdown",
   "metadata": {
    "slideshow": {
     "slide_type": "slide"
    }
   },
   "source": [
    "## 3) Organic Matter in Soil\n",
    "\n",
    "A random sample of soil specimens was obtained, and the amount of organic matter (%) in the soil was determined for each specimen, resulting in the accompanying data (from “Engineering Properties of Soil,” Soil Science, 1998: 93–102). (Data: ex08.54)\n",
    "\n",
    "1. Calculate the sample mean, sample standard deviation, and (estimated) standard error of the mean.\n",
    "2. Does this data suggest that the true average percentage of organic matter in such soil is something other than 3%? Carry out a test of the appropriate hypotheses at significance level .10.\n",
    "3. Would your conclusion be different if α = .05 had been used?"
   ]
  },
  {
   "attachments": {},
   "cell_type": "markdown",
   "metadata": {
    "slideshow": {
     "slide_type": "subslide"
    }
   },
   "source": [
    "## 3) Organic Matter in Soil (cont.)"
   ]
  },
  {
   "cell_type": "code",
   "execution_count": 5,
   "metadata": {},
   "outputs": [
    {
     "name": "stdout",
     "output_type": "stream",
     "text": [
      "2.481333333333333 1.615640650839065 0.2949742764289613\n"
     ]
    }
   ],
   "source": [
    "data = read_r('../data/devore7/ex08.54.rda')\n",
    "df = data['ex08.54']\n",
    "\n",
    "mean, std = df['percorg'].mean(), df['percorg'].std()\n",
    "n = df['percorg'].size\n",
    "std_err = std / math.sqrt(n)\n",
    "print(mean, std, std_err)"
   ]
  },
  {
   "cell_type": "code",
   "execution_count": 6,
   "metadata": {
    "slideshow": {
     "slide_type": "fragment"
    }
   },
   "outputs": [
    {
     "data": {
      "text/plain": [
       "0.08923961541442524"
      ]
     },
     "execution_count": 6,
     "metadata": {},
     "output_type": "execute_result"
    }
   ],
   "source": [
    "stat, pval = stats.ttest_1samp(a=df['percorg'], popmean=3)\n",
    "pval"
   ]
  },
  {
   "attachments": {},
   "cell_type": "markdown",
   "metadata": {
    "slideshow": {
     "slide_type": "fragment"
    }
   },
   "source": [
    "1. $pval < 0.1$ => reject $H_0$\n",
    "2. $0.05 < pval$ => do not reject $H_0$"
   ]
  },
  {
   "attachments": {},
   "cell_type": "markdown",
   "metadata": {
    "slideshow": {
     "slide_type": "slide"
    }
   },
   "source": [
    "## 4) Drywall\n",
    "\n",
    "With domestic sources of building supplies running low several years ago, roughly 60,000 homes were built with imported Chinese drywall.\n",
    "According to the article “Report Links Chinese Drywall to Home Problems” (New York Times, Nov. 24, 2009),\n",
    "federal investigators identified a strong association between chemicals in the drywall and electrical problems,\n",
    "and there is also strong evidence of respiratory difficulties due to the emission of hydrogen sulfide gas.\n",
    "An extensive examination of 51 homes found that 41 had such problems.\n",
    "Suppose these 51 were randomly sampled from the population of all homes having Chinese drywall.\n",
    "\n",
    "1. Does the data provide strong evidence for concluding that more than 50% of all homes with Chinese drywall have electrical/environmental problems? Carry out a test of hypotheses using α = .01.\n",
    "2. Calculate a confidence interval using a confidence level of 99% for the percentage of all such homes that have electrical/environmental problems."
   ]
  },
  {
   "attachments": {},
   "cell_type": "markdown",
   "metadata": {
    "slideshow": {
     "slide_type": "fragment"
    }
   },
   "source": [
    "* $H_0: \\pi \\leq \\pi_0 = 50%$\n",
    "* $H_1: \\pi > \\pi_0 = 50%$"
   ]
  },
  {
   "attachments": {},
   "cell_type": "markdown",
   "metadata": {
    "slideshow": {
     "slide_type": "subslide"
    }
   },
   "source": [
    "## 4) Drywall (cont.)"
   ]
  },
  {
   "cell_type": "code",
   "execution_count": 7,
   "metadata": {
    "slideshow": {
     "slide_type": "fragment"
    }
   },
   "outputs": [
    {
     "data": {
      "text/plain": [
       "2.292517684598636e-08"
      ]
     },
     "execution_count": 7,
     "metadata": {},
     "output_type": "execute_result"
    }
   ],
   "source": [
    "stat, pval = proportions_ztest(count=41, nobs=51, value=0.5,\n",
    "                               alternative='larger')\n",
    "pval"
   ]
  },
  {
   "cell_type": "code",
   "execution_count": 8,
   "metadata": {
    "slideshow": {
     "slide_type": "fragment"
    }
   },
   "outputs": [
    {
     "data": {
      "text/plain": [
       "(0.6607180319569749, 0.9471251052979272)"
      ]
     },
     "execution_count": 8,
     "metadata": {},
     "output_type": "execute_result"
    }
   ],
   "source": [
    "proportion_confint(41, 51, 0.01)"
   ]
  },
  {
   "attachments": {},
   "cell_type": "markdown",
   "metadata": {
    "slideshow": {
     "slide_type": "slide"
    }
   },
   "source": [
    "## 5) Soil Heat\n",
    "\n",
    "The article “Orchard Floor Management Utilizing Soil-Applied Coal Dust for Frost Protection” (Agri. and Forest Meteorology, 1988: 71–82) reports the following values for soil heat flux of eight plots covered with coal dust. (Data: ex08.66)\n",
    "The mean soil heat flux for plots covered only with grass is 29.0.\n",
    "\n",
    "Assuming that the heat-flux distribution is approximately normal,\n",
    "does the data suggest that the coal dust is effective in increasing the mean heat flux over that for grass?\n",
    "\n",
    "Test the appropriate hypotheses using α = .05. In reaching your conclusion, what type of error might you have committed? "
   ]
  },
  {
   "attachments": {},
   "cell_type": "markdown",
   "metadata": {
    "slideshow": {
     "slide_type": "fragment"
    }
   },
   "source": [
    "* $H_0: \\mu \\leq \\mu_0 = 29.0$\n",
    "* $H_1: \\mu > \\mu_0 = 29.0$"
   ]
  },
  {
   "attachments": {},
   "cell_type": "markdown",
   "metadata": {
    "slideshow": {
     "slide_type": "subslide"
    }
   },
   "source": [
    "## 5) Soil Heat (cont.)"
   ]
  },
  {
   "cell_type": "code",
   "execution_count": 9,
   "metadata": {
    "slideshow": {
     "slide_type": "fragment"
    }
   },
   "outputs": [
    {
     "data": {
      "text/plain": [
       "0.2320653906988781"
      ]
     },
     "execution_count": 9,
     "metadata": {},
     "output_type": "execute_result"
    }
   ],
   "source": [
    "data = read_r('../data/devore7/ex08.66.rda')\n",
    "df = data['ex08.66']\n",
    "\n",
    "stat, pval = stats.ttest_1samp(df['SoilHeat'], popmean=29.,\n",
    "                               alternative='greater')\n",
    "pval"
   ]
  },
  {
   "attachments": {},
   "cell_type": "markdown",
   "metadata": {
    "slideshow": {
     "slide_type": "fragment"
    }
   },
   "source": [
    "A possible β (type II) error"
   ]
  },
  {
   "attachments": {},
   "cell_type": "markdown",
   "metadata": {
    "slideshow": {
     "slide_type": "slide"
    }
   },
   "source": [
    "## 6) Robots\n",
    "\n",
    "Scientists think that robots will play a crucial role in factories in the next several decades.\n",
    "Suppose that in an experiment to determine whether the use of robots to weave computer cables is feasible,\n",
    "a robot was used to assemble 500 cables.\n",
    "The cables were examined and there were 10 defectives.\n",
    "\n",
    "If human assemblers have a defect rate of .035 (3.5%),\n",
    "does this data support the hypothesis that the proportion of defectives is lower for robots than for humans?\n",
    "\n",
    "Use a α = .05 significance level. Determine the type of possible error."
   ]
  },
  {
   "cell_type": "code",
   "execution_count": 10,
   "metadata": {
    "slideshow": {
     "slide_type": "fragment"
    }
   },
   "outputs": [
    {
     "data": {
      "text/plain": [
       "0.008292359711399333"
      ]
     },
     "execution_count": 10,
     "metadata": {},
     "output_type": "execute_result"
    }
   ],
   "source": [
    "stat, pval = proportions_ztest(count=10, nobs=500, value=0.035,\n",
    "                               alternative='smaller')\n",
    "pval"
   ]
  },
  {
   "attachments": {},
   "cell_type": "markdown",
   "metadata": {
    "slideshow": {
     "slide_type": "slide"
    }
   },
   "source": [
    "## 7) Flame Time\n",
    "\n",
    "The accompanying observations on residual flame time (sec) for strips of treated children’s nightwear were given in the article “An Introduction to Some Precision and Accuracy of Measurement Problems” (J. of Testing and Eval., 1982: 132–140).\n",
    "Suppose a true average flame time of at most 9.75 had been mandated.\n",
    "\n",
    "Does the data suggest that this condition has not been met?\n",
    "Carry out an appropriate two tailed test using α = .05. (Data: ex08.70)"
   ]
  },
  {
   "cell_type": "code",
   "execution_count": 11,
   "metadata": {
    "slideshow": {
     "slide_type": "fragment"
    }
   },
   "outputs": [
    {
     "data": {
      "text/plain": [
       "0.00013857175434982256"
      ]
     },
     "execution_count": 11,
     "metadata": {},
     "output_type": "execute_result"
    }
   ],
   "source": [
    "data = read_r('../data/devore7/ex08.70.rda')\n",
    "df = data['ex08.70']\n",
    "\n",
    "stat, pval = stats.ttest_1samp(df['time'], popmean=9.75)\n",
    "pval"
   ]
  }
 ],
 "metadata": {
  "kernelspec": {
   "display_name": "Python 3",
   "language": "python",
   "name": "python3"
  },
  "language_info": {
   "codemirror_mode": {
    "name": "ipython",
    "version": 3
   },
   "file_extension": ".py",
   "mimetype": "text/x-python",
   "name": "python",
   "nbconvert_exporter": "python",
   "pygments_lexer": "ipython3",
   "version": "3.8.10"
  },
  "orig_nbformat": 4,
  "vscode": {
   "interpreter": {
    "hash": "767d51c1340bd893661ea55ea3124f6de3c7a262a8b4abca0554b478b1e2ff90"
   }
  }
 },
 "nbformat": 4,
 "nbformat_minor": 2
}
