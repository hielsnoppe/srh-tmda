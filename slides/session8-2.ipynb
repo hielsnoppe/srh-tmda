{
 "cells": [
  {
   "attachments": {},
   "cell_type": "markdown",
   "metadata": {},
   "source": [
    "# Tools and Methods of Data Analysis\n",
    "## Session 8 - Part 2\n",
    "\n",
    "Niels Hoppe <<niels.hoppe.extern@srh.de>>"
   ]
  },
  {
   "cell_type": "code",
   "execution_count": 1,
   "metadata": {},
   "outputs": [],
   "source": [
    "from pyreadr import read_r\n",
    "from scipy import stats\n",
    "from statsmodels.stats.proportion import proportions_ztest"
   ]
  },
  {
   "attachments": {},
   "cell_type": "markdown",
   "metadata": {
    "slideshow": {
     "slide_type": "slide"
    }
   },
   "source": [
    "## 1) Cement Mortar\n",
    "\n",
    "An experiment to compare the tension bond strength of polymer latex modified mortar (Portland cement mortar to which polymer latex emulsions have been added during mixing) to that of unmodified mortar resulted in \n",
    "\n",
    "Generate similar data by:"
   ]
  },
  {
   "cell_type": "code",
   "execution_count": 2,
   "metadata": {},
   "outputs": [],
   "source": [
    "modified = stats.norm.rvs(size=40, loc=18, scale=1.6)\n",
    "unmodified = stats.norm.rvs(size=32, loc=16.8, scale=1.4)"
   ]
  },
  {
   "attachments": {},
   "cell_type": "markdown",
   "metadata": {},
   "source": [
    "Assume that the bond strength distributions are both normal.\n",
    "\n",
    "1. Test $H_0: \\mu_{mod} \\leq \\mu_{unmod}$ versus $H_1: \\mu_{mod} > \\mu_{unmod}$ at a significance level of .01.\n",
    "2. Interpret your test result and the possible test error type."
   ]
  },
  {
   "cell_type": "code",
   "execution_count": 3,
   "metadata": {
    "slideshow": {
     "slide_type": "fragment"
    }
   },
   "outputs": [
    {
     "data": {
      "text/plain": [
       "1.3193987019000564e-07"
      ]
     },
     "execution_count": 3,
     "metadata": {},
     "output_type": "execute_result"
    }
   ],
   "source": [
    "stat, pval = stats.ttest_ind(modified, unmodified, alternative='greater')\n",
    "pval"
   ]
  },
  {
   "attachments": {},
   "cell_type": "markdown",
   "metadata": {
    "slideshow": {
     "slide_type": "slide"
    }
   },
   "source": [
    "## 2) Food Contamination\n",
    "\n",
    "Recent incidents of food contamination have caused great concern among consumers.\n",
    "The article: “How Safe Is That Chicken?” (Consumer Reports, Jan. 2010: 19–23) reported that 35 of 80 randomly selected Perdue brand broilers tested positively for either campylobacter or salmonella (or both),\n",
    "the leading bacterial causes of food-borne disease,\n",
    "whereas 66 of 80 Tyson brand broilers tested positive.\n",
    "\n",
    "Does it appear that the true proportion of non-contaminated Perdue broilers differs from that for the Tyson brand?\n",
    "Carry out a test of hypotheses using a significance level .01."
   ]
  },
  {
   "cell_type": "code",
   "execution_count": 4,
   "metadata": {
    "slideshow": {
     "slide_type": "fragment"
    }
   },
   "outputs": [
    {
     "data": {
      "text/plain": [
       "3.7810285696151036e-07"
      ]
     },
     "execution_count": 4,
     "metadata": {},
     "output_type": "execute_result"
    }
   ],
   "source": [
    "stat, pval = proportions_ztest(count=[35, 66], nobs=[80, 80])\n",
    "pval"
   ]
  },
  {
   "attachments": {},
   "cell_type": "markdown",
   "metadata": {
    "slideshow": {
     "slide_type": "slide"
    }
   },
   "source": [
    "## 3) Bearings.\n",
    "\n",
    "The derailment of a freight train due to the catastrophic failure of a traction motor armature bearing provided the impetus for a study reported in the article “Locomotive Traction Motor Armature Bearing Life Study” (Lubrication Engr., Aug. 1997: 12–19).\n",
    "A sample of 17 high-mileage traction motors was selected,\n",
    "and the amount of cone penetration (mm/10) was determined both for the pinion bearing and for the commutator armature bearing, resulting in the given data (Data: ex09.72)\n",
    "\n",
    "Calculate a 95% confidence interval estimate of the population mean difference between penetration for the commutator armature bearing and penetration for the pinion bearing.\n",
    "\n",
    "Does the population mean penetration differ for the two types of bearings? (α = .05)"
   ]
  },
  {
   "cell_type": "code",
   "execution_count": 5,
   "metadata": {
    "slideshow": {
     "slide_type": "fragment"
    }
   },
   "outputs": [
    {
     "data": {
      "text/plain": [
       "0.681567462952498"
      ]
     },
     "execution_count": 5,
     "metadata": {},
     "output_type": "execute_result"
    }
   ],
   "source": [
    "data = read_r('../data/devore7/ex09.72.rda')\n",
    "df = data['ex09.72']\n",
    "\n",
    "stat, pval = stats.ttest_ind(df['Commutator'], df['Pinion'])\n",
    "pval"
   ]
  },
  {
   "attachments": {},
   "cell_type": "markdown",
   "metadata": {
    "slideshow": {
     "slide_type": "slide"
    }
   },
   "source": [
    "## 4) Ultimate Strength of Alloys\n",
    "\n",
    "Two different types of alloy, A and B, have been used to manufacture experimental specimens of a small tension link to be used in a certain engineering application.\n",
    "The ultimate strength (kilopounds per square inch, ksi) of each specimen was determined,\n",
    "and the results are summarized in the following frequency distribution.\n",
    "\n",
    "|       | A  | B  |\n",
    "|-------|----|----|\n",
    "|  < 34 | 18 | 13 |\n",
    "| >= 34 | 22 | 29 |\n",
    "| Sum   | 40 | 42 |\n",
    "\n",
    "Compute a 95% CI for the difference between the true proportions of all specimens of alloys A and B that have an ultimate strength of at least 34 ksi."
   ]
  },
  {
   "cell_type": "code",
   "execution_count": 6,
   "metadata": {
    "slideshow": {
     "slide_type": "fragment"
    }
   },
   "outputs": [
    {
     "data": {
      "text/plain": [
       "0.18976020932219406"
      ]
     },
     "execution_count": 6,
     "metadata": {},
     "output_type": "execute_result"
    }
   ],
   "source": [
    "stat, pval = proportions_ztest(count=[22, 29], nobs=[40, 42])\n",
    "pval"
   ]
  },
  {
   "attachments": {},
   "cell_type": "markdown",
   "metadata": {
    "slideshow": {
     "slide_type": "slide"
    }
   },
   "source": [
    "## 5) Sweetgum Lumber\n",
    "\n",
    "The article “Development of Novel Industrial Laminated Planks from Sweetgum Lumber” (J. of Bridge Engr., 2008: 64–66) described the manufacturing and testing of composite beams designed to add value to low-grade sweetgum lumber.\n",
    "The data set contains the modulus of elasticity obtained 1 minute after loading in a certain configuration and also 4 weeks after loading for the same lumber specimens. (Data: ex09.44)\n",
    "\n",
    "Calculate and interpret a 95%-confidence interval for the true average difference between 1-minute modulus and 4-week modulus. Is the difference significant? (α = .05)"
   ]
  },
  {
   "attachments": {},
   "cell_type": "markdown",
   "metadata": {
    "slideshow": {
     "slide_type": "subslide"
    }
   },
   "source": [
    "## 5) Sweetgum Lumber (cont.)\n",
    "\n",
    "* $H_0: \\mu_{1m} = \\mu_{4w}$\n",
    "* $H_1: \\mu_{1m} \\neq \\mu_{4w}$"
   ]
  },
  {
   "cell_type": "code",
   "execution_count": 7,
   "metadata": {
    "slideshow": {
     "slide_type": "fragment"
    }
   },
   "outputs": [
    {
     "data": {
      "text/plain": [
       "1.8801208096001095e-12"
      ]
     },
     "execution_count": 7,
     "metadata": {},
     "output_type": "execute_result"
    }
   ],
   "source": [
    "data = read_r('../data/devore7/ex09.44.rda')\n",
    "df = data['ex09.44']\n",
    "df['Difference'] = df['X1min'] - df['X4weeks']\n",
    "\n",
    "stat, pval = stats.ttest_1samp(df['Difference'], popmean=0.)\n",
    "pval"
   ]
  },
  {
   "cell_type": "code",
   "execution_count": 8,
   "metadata": {
    "slideshow": {
     "slide_type": "fragment"
    }
   },
   "outputs": [
    {
     "data": {
      "text/plain": [
       "1.8801208096001095e-12"
      ]
     },
     "execution_count": 8,
     "metadata": {},
     "output_type": "execute_result"
    }
   ],
   "source": [
    "stat, pval = stats.ttest_rel(df['X1min'], df['X4weeks'])\n",
    "pval"
   ]
  },
  {
   "attachments": {},
   "cell_type": "markdown",
   "metadata": {
    "slideshow": {
     "slide_type": "slide"
    }
   },
   "source": [
    "## 6) Survey Response Rate\n",
    "\n",
    "It is thought that the front cover and the nature of the first question on mail surveys influence the response rate.\n",
    "The article “The Impact of Cover Design and First Questions on Response Rates for a Mail Survey of Skydivers” (Leisure Sciences, 1991: 67–76) tested this theory by experimenting with different cover designs.\n",
    "One cover was plain; the other used a picture of a skydiver.\n",
    "The researchers speculated that the return rate would be lower for the plain cover.\n",
    "\n",
    "| Cover    | Number Sent | Number Returned |\n",
    "|----------|-------------|-----------------|\n",
    "| Plain    | 207 | 104 |\n",
    "| Skydiver | 213 | 109 |\n",
    "\n",
    "Does this data support the researchers’ hypothesis? Test the relevant hypotheses using $\\alpha =.5$."
   ]
  },
  {
   "attachments": {},
   "cell_type": "markdown",
   "metadata": {
    "slideshow": {
     "slide_type": "fragment"
    }
   },
   "source": [
    "* $H_0: p_{plain} \\geq p_{skydiver}$\n",
    "* $H_1: p_{plain} < p_{skydiver}$"
   ]
  },
  {
   "cell_type": "code",
   "execution_count": 9,
   "metadata": {
    "slideshow": {
     "slide_type": "fragment"
    }
   },
   "outputs": [
    {
     "data": {
      "text/plain": [
       "0.42424846993179954"
      ]
     },
     "execution_count": 9,
     "metadata": {},
     "output_type": "execute_result"
    }
   ],
   "source": [
    "stat, pval = proportions_ztest(count=[104, 109], nobs=[207, 213],\n",
    "                               alternative='smaller')\n",
    "pval"
   ]
  },
  {
   "attachments": {},
   "cell_type": "markdown",
   "metadata": {
    "slideshow": {
     "slide_type": "slide"
    }
   },
   "source": [
    "## 7) Arsenic in Water\n",
    "\n",
    "Arsenic is a known carcinogen and poison.\n",
    "The standard laboratory procedures for measuring arsenic concentration (μg/L) in water are expensive.\n",
    "A new relatively quick and inexpensive field laboratory method has been introduced.\n",
    "See the article “Evaluation of a New Field Measurement Method for Arsenic in Drinking Water Samples,” J. of Envir. Engr., 2008: 382–388).\n",
    "Suppose the arsenic concentration was measured with two methods.\n",
    "\n",
    "Generate exercise data by"
   ]
  },
  {
   "cell_type": "code",
   "execution_count": 10,
   "metadata": {},
   "outputs": [],
   "source": [
    "method1 = stats.norm.rvs(size=20, loc=19.70, scale=1.1)\n",
    "method2 = stats.norm.rvs(size=20, loc=19.70, scale=1.1)"
   ]
  },
  {
   "attachments": {},
   "cell_type": "markdown",
   "metadata": {},
   "source": [
    "1. Is there a significant difference between the means of arsenic concentration measured by method1 and method2? (α = .05)\n",
    "2. Is this an appropriate way of comparing the two methods?"
   ]
  },
  {
   "attachments": {},
   "cell_type": "markdown",
   "metadata": {
    "slideshow": {
     "slide_type": "subslide"
    }
   },
   "source": [
    "* $H_0: \\mu_2 = \\mu_1$\n",
    "* $H_1: \\mu_2 \\neq \\mu_1$"
   ]
  },
  {
   "cell_type": "code",
   "execution_count": 11,
   "metadata": {
    "slideshow": {
     "slide_type": "fragment"
    }
   },
   "outputs": [
    {
     "data": {
      "text/plain": [
       "0.022059506204102356"
      ]
     },
     "execution_count": 11,
     "metadata": {},
     "output_type": "execute_result"
    }
   ],
   "source": [
    "stat, pval = stats.ttest_rel(method1, method2)\n",
    "pval"
   ]
  },
  {
   "cell_type": "code",
   "execution_count": 12,
   "metadata": {
    "slideshow": {
     "slide_type": "fragment"
    }
   },
   "outputs": [
    {
     "data": {
      "text/plain": [
       "0.00021057692318965517"
      ]
     },
     "execution_count": 12,
     "metadata": {},
     "output_type": "execute_result"
    }
   ],
   "source": [
    "stat, pval = stats.ttest_1samp(abs(method1 - method2), popmean=0.)\n",
    "pval"
   ]
  },
  {
   "attachments": {},
   "cell_type": "markdown",
   "metadata": {
    "slideshow": {
     "slide_type": "slide"
    }
   },
   "source": [
    "## 8) Effect of Temperature\n",
    "\n",
    "An experiment to determine the effects of temperature on the survival of insect eggs was described in the article “Development Rates and a Temperature-Dependent Model of Pales Weevil” (Environ. Entomology, 1987: 956–962).\n",
    "At 11°C, 73 of 91 eggs survived to the next stage of development.\n",
    "At 30°C, 102 of 110 eggs survived.\n",
    "\n",
    "Do the results of this experiment suggest that the survival rate (proportion surviving in the population) is higher for 30°C temperature?\n",
    "Calculate the P-value and use it to test the appropriate hypotheses. (α = .05)"
   ]
  },
  {
   "attachments": {},
   "cell_type": "markdown",
   "metadata": {
    "slideshow": {
     "slide_type": "fragment"
    }
   },
   "source": [
    "* $H_0: p_{11} \\geq p_{30}$\n",
    "* $H_1: p_{11} < p_{30}$"
   ]
  },
  {
   "cell_type": "code",
   "execution_count": 13,
   "metadata": {
    "slideshow": {
     "slide_type": "fragment"
    }
   },
   "outputs": [
    {
     "data": {
      "text/plain": [
       "0.004267428251156687"
      ]
     },
     "execution_count": 13,
     "metadata": {},
     "output_type": "execute_result"
    }
   ],
   "source": [
    "stat, pval = proportions_ztest(count=[73, 102], nobs=[91, 110],\n",
    "                               alternative='smaller')\n",
    "pval"
   ]
  }
 ],
 "metadata": {
  "kernelspec": {
   "display_name": "Python 3",
   "language": "python",
   "name": "python3"
  },
  "language_info": {
   "codemirror_mode": {
    "name": "ipython",
    "version": 3
   },
   "file_extension": ".py",
   "mimetype": "text/x-python",
   "name": "python",
   "nbconvert_exporter": "python",
   "pygments_lexer": "ipython3",
   "version": "3.8.10"
  },
  "orig_nbformat": 4,
  "vscode": {
   "interpreter": {
    "hash": "767d51c1340bd893661ea55ea3124f6de3c7a262a8b4abca0554b478b1e2ff90"
   }
  }
 },
 "nbformat": 4,
 "nbformat_minor": 2
}
