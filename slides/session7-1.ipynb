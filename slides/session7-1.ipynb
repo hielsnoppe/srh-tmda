{
 "cells": [
  {
   "attachments": {},
   "cell_type": "markdown",
   "metadata": {
    "slideshow": {
     "slide_type": "slide"
    }
   },
   "source": [
    "# Tools and Methods of Data Analysis\n",
    "## Session 7 - Part 1\n",
    "\n",
    "Niels Hoppe <<niels.hoppe.extern@srh.de>>"
   ]
  },
  {
   "attachments": {},
   "cell_type": "markdown",
   "metadata": {
    "slideshow": {
     "slide_type": "slide"
    }
   },
   "source": [
    "### The Idea of Hypothesis Testing\n",
    "\n",
    "Does the data support a **hypothesis** or not?\n",
    "\n",
    "A hypothesis is **accepted** or **rejected** based on the test result.\n",
    "\n",
    "Tests give **no absolute certainty**, but only a **probability of error**."
   ]
  },
  {
   "attachments": {},
   "cell_type": "markdown",
   "metadata": {
    "slideshow": {
     "slide_type": "subslide"
    }
   },
   "source": [
    "### The Idea of Hypothesis Testing (cont.)\n",
    "\n",
    "1. What is the question (hypothesis)?\n",
    "2. Which test is applicable?\n",
    "3. How to perform the test?\n",
    "4. How to interpret the result?"
   ]
  },
  {
   "attachments": {},
   "cell_type": "markdown",
   "metadata": {
    "slideshow": {
     "slide_type": "slide"
    }
   },
   "source": [
    "### 1. What is the question (hypothesis)?\n",
    "\n",
    "A hypothesis is a claim (assumption) about a **population parameter**, e.g.,\n",
    "\n",
    "Assumption about the **population mean** $\\mu$:\n",
    "\n",
    "\"The average income in a country has fallen in the past 20 years.\"\n",
    "\n",
    "Assumption about the **population proportion** $\\pi$:\n",
    "\n",
    "\"The proportion of voters for a particular party has increased since the last election.\""
   ]
  },
  {
   "attachments": {},
   "cell_type": "markdown",
   "metadata": {
    "slideshow": {
     "slide_type": "subslide"
    }
   },
   "source": [
    "### 1. What is the question (hypothesis)?\n",
    "\n",
    "There are three kinds of hypotheses we learn to test for:\n",
    "\n",
    "* the parameter has **increased** wrt. a reference value\n",
    "* the parameter has **decreased** wrt. a reference value\n",
    "* the parameter has **changed** (increased or decreased) wrt. a reference value\n",
    "\n",
    "There are always two hypothesis:\n",
    "\n",
    "* The **null-hypothesis** ($H_0$) expresses the **absence** of the assumed effect.\n",
    "* The **alternative hypothesis** ($H_1$) expresses the **presence** of the assumed effect."
   ]
  },
  {
   "attachments": {},
   "cell_type": "markdown",
   "metadata": {
    "slideshow": {
     "slide_type": "subslide"
    }
   },
   "source": [
    "### 1. What is the question (hypothesis)?\n",
    "\n",
    "When testing for an **increase** of a population parameter $p$ with regard to a reference value $p_0$, the hypotheses look like this:\n",
    "\n",
    "$$H_0: p \\le p_0$$\n",
    "$$H_1: p \\gt p_0$$\n",
    "\n",
    "We call this a **one-sided** test."
   ]
  },
  {
   "attachments": {},
   "cell_type": "markdown",
   "metadata": {
    "slideshow": {
     "slide_type": "subslide"
    }
   },
   "source": [
    "### 1. What is the question (hypothesis)?\n",
    "\n",
    "When testing for an **decrease** of a population parameter $p$ with regard to a reference value $p_0$, the hypotheses look like this:\n",
    "\n",
    "$$H_0: p \\ge p_0$$\n",
    "$$H_1: p \\lt p_0$$\n",
    "\n",
    "We call this a **one-sided** test."
   ]
  },
  {
   "attachments": {},
   "cell_type": "markdown",
   "metadata": {
    "slideshow": {
     "slide_type": "subslide"
    }
   },
   "source": [
    "### 1. What is the question (hypothesis)?\n",
    "\n",
    "When testing for a **change** of a population parameter $p$ with regard to a reference value $p_0$, the hypotheses look like this:\n",
    "\n",
    "$$H_0: p = p_0$$\n",
    "$$H_1: p \\ne p_0$$\n",
    "\n",
    "We call this a **two-sided** test."
   ]
  },
  {
   "attachments": {},
   "cell_type": "markdown",
   "metadata": {
    "slideshow": {
     "slide_type": "subslide"
    }
   },
   "source": [
    "### Example: Fuel Consumption\n",
    "\n",
    "A certain type of an engine currently in use has an average fuel consumption of 8 l/100 km.\n",
    "\n",
    "Claim: A new type engine has an average fuel consumption less than 8 l/100 km.\n",
    "\n",
    "$\\mu_0 = 8 \\text{l/100km}$ .\n",
    "\n",
    "$\\mu \\lt 8 \\text{l/100km}$ ?"
   ]
  },
  {
   "attachments": {},
   "cell_type": "markdown",
   "metadata": {
    "slideshow": {
     "slide_type": "subslide"
    }
   },
   "source": [
    "### Example: Fuel Consumption (cont.)\n",
    "\n",
    "H0 refers to the status quo of the assumption to be tested, i.e. no change.\n",
    "\n",
    "H1 is the hypothesis that the researcher is trying to prove. It represents a significant change.\n",
    "\n",
    "* $H_0: \\mu \\ge \\mu_0 = 8 l/100km$\n",
    "* $H_1: \\mu \\lt \\mu_0 = 8 l/100km$\n",
    "\n",
    "We use a sample to check the hypotheses."
   ]
  },
  {
   "attachments": {},
   "cell_type": "markdown",
   "metadata": {
    "slideshow": {
     "slide_type": "subslide"
    }
   },
   "source": [
    "### Example: Fuel Consumption (cont.)\n",
    "\n",
    "The problem with samples.\n",
    "Population with a mean $\\mu = 8 l/100 km$:"
   ]
  },
  {
   "cell_type": "code",
   "execution_count": 36,
   "metadata": {},
   "outputs": [],
   "source": [
    "data = [8.1, 7.5, 7.3, 8.0, 8.1, 7.8, 8.7, 8.3, 8.2]"
   ]
  },
  {
   "attachments": {},
   "cell_type": "markdown",
   "metadata": {},
   "source": [
    "* $\\bar{x} = 7.6$ for `sample = [7.5, 7.3, 8.0]`\n",
    "* $\\bar{x} = 8.4$ for `sample = [8.7, 8.3, 8.2]`"
   ]
  },
  {
   "attachments": {},
   "cell_type": "markdown",
   "metadata": {
    "slideshow": {
     "slide_type": "slide"
    }
   },
   "source": [
    "### 2. Which test is applicable?\n",
    "\n",
    "Many statistical tests exist, but we will focus on two of them:\n",
    "\n",
    "* Student's **t-test** for hypotheses about the mean $\\mu$\n",
    "* **Z-test** for hypotheses about the proportion $\\pi$"
   ]
  },
  {
   "attachments": {},
   "cell_type": "markdown",
   "metadata": {
    "slideshow": {
     "slide_type": "subslide"
    }
   },
   "source": [
    "#### When to use Student's t-test\n",
    "\n",
    "The following hypotheses about the population mean $\\mu$ and a reference value $\\mu_0$ can be tested using Student's t-test:\n",
    "\n",
    "* $H_1: \\mu \\lt \\mu_0$ , i.e., the mean is less than the reference value; left-sided test\n",
    "* $H_1: \\mu \\gt \\mu_0$ , i.e., the mean is greater than the reference value; right-sided test\n",
    "* $H_1: \\mu \\ne \\mu_0$ , i.e., the mean is different from the reference value; two-sided test"
   ]
  },
  {
   "attachments": {},
   "cell_type": "markdown",
   "metadata": {
    "slideshow": {
     "slide_type": "subslide"
    }
   },
   "source": [
    "#### When to use Z-test for proportions\n",
    "\n",
    "The following hypotheses about a proportion $\\pi$ and a reference value $\\pi_0$ can be tested using the Z-test for proportions:\n",
    "\n",
    "* $H_1: \\pi \\lt \\pi_0$ , i.e., the proportion is less than the reference value; left-sided test\n",
    "* $H_1: \\pi \\gt \\pi_0$ , i.e., the proportion is greater than the reference value; right-sided test\n",
    "* $H_1: \\pi \\ne \\pi_0$ , i.e., the proportion is different from the reference value; two-sided test"
   ]
  },
  {
   "attachments": {},
   "cell_type": "markdown",
   "metadata": {
    "slideshow": {
     "slide_type": "slide"
    }
   },
   "source": [
    "### 3. How to perform the test?\n",
    "\n",
    "The general procedure is:\n",
    "\n",
    "1. Calculate a test statistics / summary statistics from the data\n",
    "2. Calculate a p-value from the test statistics\n",
    "\n",
    "The calculation of the test statistics is specific to the respective test."
   ]
  },
  {
   "attachments": {},
   "cell_type": "markdown",
   "metadata": {
    "slideshow": {
     "slide_type": "subslide"
    }
   },
   "source": [
    "#### What is a \"p-value\"?\n",
    "\n",
    "* The test statistics is known to follow a certain theoretical distribution, e.g., the normal distribution.\n",
    "* The \"p-value\" is\n",
    "  - the **probability** of obtaining a sample resulting in a given test statistics **under the condition** that the null-hypothesis is correct, i.e., $\\text{p-value} = P(t | H_0)$\n",
    "  - the **probability** of making an error when rejecting the null-hypothesis."
   ]
  },
  {
   "attachments": {},
   "cell_type": "markdown",
   "metadata": {
    "slideshow": {
     "slide_type": "subslide"
    }
   },
   "source": [
    "#### Calculating the p-value\n",
    "\n",
    "* The p-value is calculated based on the theoretical distribution of the test statistics.\n",
    "* We use the **inverse cumulative density function** aka. **survival function** of the distribution, i.e.,\n",
    "\n",
    "$$1 - CDF = SF$$\n",
    "\n",
    "* The p-value is calculated as\n",
    "\n",
    "$$\\text{p-value} = \\begin{cases}\n",
    "SF(t)         & \\text{when left-sided}\\\\\n",
    "1 - SF(t)     & \\text{when right-sided}\\\\\n",
    "2 \\cdot SF(t) & \\text{when two-sided} \\\\\n",
    "\\end{cases}$$"
   ]
  },
  {
   "attachments": {},
   "cell_type": "markdown",
   "metadata": {
    "slideshow": {
     "slide_type": "subslide"
    }
   },
   "source": [
    "#### Calculating the p-value (cont.)"
   ]
  },
  {
   "cell_type": "code",
   "execution_count": 37,
   "metadata": {
    "slideshow": {
     "slide_type": "skip"
    }
   },
   "outputs": [],
   "source": [
    "import numpy as np\n",
    "import matplotlib.pyplot as plt\n",
    "from scipy import stats"
   ]
  },
  {
   "cell_type": "code",
   "execution_count": 38,
   "metadata": {},
   "outputs": [
    {
     "data": {
      "image/png": "[encoded data removed]",
      "text/plain": [
       "<Figure size 640x480 with 1 Axes>"
      ]
     },
     "metadata": {},
     "output_type": "display_data"
    }
   ],
   "source": [
    "\n",
    "x = np.arange(-4, 4, 0.001)\n",
    "plt.plot(x, stats.norm.pdf(x, loc=0, scale=1))\n",
    "plt.plot(x, stats.norm.cdf(x, loc=0, scale=1))\n",
    "plt.plot(x, stats.norm.sf(x, loc=0, scale=1)); None"
   ]
  },
  {
   "attachments": {},
   "cell_type": "markdown",
   "metadata": {
    "slideshow": {
     "slide_type": "subslide"
    }
   },
   "source": [
    "### Student's t-test for means\n",
    "\n",
    "Calculating the test statistics for Student's t-test:\n",
    "\n",
    "$$t = \\frac{\\bar{x} - \\mu_0}{s / \\sqrt{n}}$$\n",
    "\n",
    "Calculate the p-value based on the t-distribution with $n - 1$ degrees of freedom."
   ]
  },
  {
   "cell_type": "code",
   "execution_count": 39,
   "metadata": {},
   "outputs": [
    {
     "data": {
      "text/plain": [
       "0.5"
      ]
     },
     "execution_count": 39,
     "metadata": {},
     "output_type": "execute_result"
    }
   ],
   "source": [
    "from scipy.stats import ttest_1samp\n",
    "\n",
    "stat, pval = ttest_1samp(data, popmean=8.0, alternative='less')\n",
    "pval"
   ]
  },
  {
   "attachments": {},
   "cell_type": "markdown",
   "metadata": {
    "slideshow": {
     "slide_type": "subslide"
    }
   },
   "source": [
    "### Z-test for proportions\n",
    "\n",
    "Calculating the test statistics for proportions z-test:\n",
    "\n",
    "$$z = (p - p_0) \\div \\sqrt{\\frac{p_0 \\cdot (1 - p_0)}{n}}$$\n",
    "\n",
    "Calculate the p-value based on the normal distribution."
   ]
  },
  {
   "cell_type": "code",
   "execution_count": 40,
   "metadata": {},
   "outputs": [
    {
     "data": {
      "text/plain": [
       "0.1485732651742352"
      ]
     },
     "execution_count": 40,
     "metadata": {},
     "output_type": "execute_result"
    }
   ],
   "source": [
    "from statsmodels.stats.proportion import proportions_ztest\n",
    "\n",
    "stat, pval = proportions_ztest(count=16, nobs=200, value=0.1,\n",
    "                               alternative='smaller')\n",
    "pval"
   ]
  },
  {
   "attachments": {},
   "cell_type": "markdown",
   "metadata": {
    "slideshow": {
     "slide_type": "slide"
    }
   },
   "source": [
    "### 4. How to interpret the result?\n",
    "\n",
    "Based on the p-value and the desired level of significance $\\alpha$, we make a decision:\n",
    "\n",
    "| p-value | $H_0$ | $H_1$ |\n",
    "|-|-|-|\n",
    "| $\\lt \\alpha$ | reject | accept |\n",
    "| $\\ge \\alpha$ | accept | reject |"
   ]
  },
  {
   "attachments": {},
   "cell_type": "markdown",
   "metadata": {
    "slideshow": {
     "slide_type": "subslide"
    }
   },
   "source": [
    "#### Errors in Making Decisions\n",
    "\n",
    "Our test decision is ultimately based on the result of a sample.\n",
    "\n",
    "This **can** lead to two types of errors (wrong decisions) if the samples are biased:\n",
    "\n",
    "| p-value | $H_0$ | $H_1$ | Possible error |\n",
    "|-|-|-|-|\n",
    "| $\\lt \\alpha$ | reject | accept | Type I aka. $\\alpha$  when $H_0$ is actually true |\n",
    "| $\\ge \\alpha$ | accept | reject | Type II aka. $\\beta$ when $H_0$ is actually false |"
   ]
  },
  {
   "attachments": {},
   "cell_type": "markdown",
   "metadata": {
    "slideshow": {
     "slide_type": "slide"
    }
   },
   "source": [
    "### Further Examples"
   ]
  },
  {
   "attachments": {},
   "cell_type": "markdown",
   "metadata": {
    "slideshow": {
     "slide_type": "subslide"
    }
   },
   "source": [
    "#### Test for Reduction of Mean μ of a Population\n",
    "\n",
    "Sample of cars with the new engine:"
   ]
  },
  {
   "cell_type": "code",
   "execution_count": 41,
   "metadata": {},
   "outputs": [
    {
     "data": {
      "text/plain": [
       "7.94"
      ]
     },
     "execution_count": 41,
     "metadata": {},
     "output_type": "execute_result"
    }
   ],
   "source": [
    "import pandas as pd\n",
    "\n",
    "new = pd.Series([7.9, 8.2, 8.1, 7.9, 7.8, 7.9, 8.0, 7.8, 7.9, 7.9])\n",
    "new.mean()"
   ]
  },
  {
   "attachments": {},
   "cell_type": "markdown",
   "metadata": {},
   "source": [
    "Do we have, with this result of a sample of 10 cars, the proof of a significant reduction of the mean $\\mu$ of all cars of this type?\n",
    "Level of significance $\\alpha  = 5\\%$."
   ]
  },
  {
   "cell_type": "code",
   "execution_count": 42,
   "metadata": {},
   "outputs": [
    {
     "data": {
      "text/plain": [
       "0.08392532802853826"
      ]
     },
     "execution_count": 42,
     "metadata": {},
     "output_type": "execute_result"
    }
   ],
   "source": [
    "stat, pval = ttest_1samp(new, popmean=8, alternative='less')\n",
    "pval"
   ]
  },
  {
   "attachments": {},
   "cell_type": "markdown",
   "metadata": {},
   "source": [
    "$\\text{p-value} \\gt \\alpha = 0.05$: $H_0$ **can not** be rejected."
   ]
  },
  {
   "attachments": {},
   "cell_type": "markdown",
   "metadata": {
    "slideshow": {
     "slide_type": "subslide"
    }
   },
   "source": [
    "#### Example: Mean Lifespan of a Product\n",
    "\n",
    "The lifespan of a product is approximately normally distributed with an average value of 50 months.\n",
    "By using a new material, we intend to increase the average lifespan of the product.\n",
    "What are the hypotheses? Level of significance $\\alpha = 0.05$.\n",
    "\n",
    "* $H_0: \\mu \\le \\mu_0 = 50$\n",
    "* $H_1: \\mu \\gt \\mu_0 = 50$"
   ]
  },
  {
   "cell_type": "code",
   "execution_count": 43,
   "metadata": {
    "slideshow": {
     "slide_type": "fragment"
    }
   },
   "outputs": [
    {
     "data": {
      "text/plain": [
       "0.0024577593105012127"
      ]
     },
     "execution_count": 43,
     "metadata": {},
     "output_type": "execute_result"
    }
   ],
   "source": [
    "x = [50, 54, 52, 52, 48, 53, 53, 51, 52, 52, 51, 51]\n",
    "stat, pval = ttest_1samp(a=x, popmean=50, alternative='greater')\n",
    "pval"
   ]
  },
  {
   "attachments": {},
   "cell_type": "markdown",
   "metadata": {},
   "source": [
    "$\\text{p-value} \\lt \\alpha = 0.05$: $H_0$ **can** be rejected. Mean lifespan is greater than 50 months."
   ]
  },
  {
   "attachments": {},
   "cell_type": "markdown",
   "metadata": {
    "slideshow": {
     "slide_type": "subslide"
    }
   },
   "source": [
    "#### Example: Passengers\n",
    "\n",
    "In the past, an airport handled an average of 6,000 passengers per day.\n",
    "In order to ensure service quality on the one hand and to minimize costs on the other hand,\n",
    "we want to examine whether this average number has changed.\n",
    "Test with $\\alpha = 5\\%$.\n",
    "\n",
    "* $H_0: \\mu = \\mu_0 = 6000$\n",
    "* $H_1: \\mu \\ne \\mu_0 = 6000$"
   ]
  },
  {
   "cell_type": "code",
   "execution_count": 44,
   "metadata": {},
   "outputs": [
    {
     "data": {
      "text/plain": [
       "0.008625321343415048"
      ]
     },
     "execution_count": 44,
     "metadata": {},
     "output_type": "execute_result"
    }
   ],
   "source": [
    "from scipy import stats\n",
    "\n",
    "x = [6204 , 6294 , 6480 , 6186 , 6493 , 5921 , 6388 , 6072]\n",
    "stat, pval = stats.ttest_1samp(a=x, popmean=6000)\n",
    "pval"
   ]
  },
  {
   "attachments": {},
   "cell_type": "markdown",
   "metadata": {
    "slideshow": {
     "slide_type": "subslide"
    }
   },
   "source": [
    "#### Example: Test of Proportions π\n",
    "\n",
    "The proportion of defective parts in a production was up to now 10%.\n",
    "We want to reduce the proportion of defective parts with a new production technology.\n",
    "In a sample of 200 parts from the new production, 16 defective parts were found.\n",
    "\n",
    "$$p = 16 / 200 = 8\\%$$\n",
    "\n",
    "This is an indication of the reduction,\n",
    "but not yet proof of a significant reduction in the proportion of defective parts in the entire production. \n",
    "Test with $\\alpha = 5\\%$.\n",
    "\n",
    "* $H_0: \\pi \\ge \\pi_0 = 10\\%$\n",
    "* $H_1: \\pi \\lt \\pi_0 = 10\\%$"
   ]
  },
  {
   "attachments": {},
   "cell_type": "markdown",
   "metadata": {
    "slideshow": {
     "slide_type": "subslide"
    }
   },
   "source": [
    "#### Test of Proportions π with Python"
   ]
  },
  {
   "cell_type": "code",
   "execution_count": 45,
   "metadata": {},
   "outputs": [
    {
     "data": {
      "text/plain": [
       "0.1485732651742352"
      ]
     },
     "execution_count": 45,
     "metadata": {},
     "output_type": "execute_result"
    }
   ],
   "source": [
    "stat, pval = proportions_ztest(count=16, nobs=200, value=0.1, alternative='smaller')\n",
    "pval"
   ]
  },
  {
   "attachments": {},
   "cell_type": "markdown",
   "metadata": {},
   "source": [
    "$\\text{p-value} \\gt \\alpha = 0.05$: $H_0$ **can not** be rejected."
   ]
  },
  {
   "attachments": {},
   "cell_type": "markdown",
   "metadata": {
    "slideshow": {
     "slide_type": "subslide"
    }
   },
   "source": [
    "#### Effect of Large Sample Sizes"
   ]
  },
  {
   "cell_type": "code",
   "execution_count": 46,
   "metadata": {},
   "outputs": [
    {
     "data": {
      "text/plain": [
       "0.0004887873855964199"
      ]
     },
     "execution_count": 46,
     "metadata": {},
     "output_type": "execute_result"
    }
   ],
   "source": [
    "from statsmodels.stats.proportion import proportions_ztest\n",
    "\n",
    "stat, pval = proportions_ztest(count=160, nobs=2000, value=0.1, alternative='smaller')\n",
    "pval"
   ]
  },
  {
   "attachments": {},
   "cell_type": "markdown",
   "metadata": {},
   "source": [
    "$\\text{p-value} \\lt \\alpha = 0.05$: $H_0$ **can** be rejected.\n",
    "\n",
    "With a larger sample size we are able to show that the proportion of defective parts is less than 10%."
   ]
  }
 ],
 "metadata": {
  "kernelspec": {
   "display_name": "Python 3",
   "language": "python",
   "name": "python3"
  },
  "language_info": {
   "codemirror_mode": {
    "name": "ipython",
    "version": 3
   },
   "file_extension": ".py",
   "mimetype": "text/x-python",
   "name": "python",
   "nbconvert_exporter": "python",
   "pygments_lexer": "ipython3",
   "version": "3.8.10"
  },
  "orig_nbformat": 4,
  "vscode": {
   "interpreter": {
    "hash": "767d51c1340bd893661ea55ea3124f6de3c7a262a8b4abca0554b478b1e2ff90"
   }
  }
 },
 "nbformat": 4,
 "nbformat_minor": 2
}
