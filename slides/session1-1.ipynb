{
 "cells": [
  {
   "attachments": {},
   "cell_type": "markdown",
   "metadata": {
    "slideshow": {
     "slide_type": "slide"
    }
   },
   "source": [
    "# Tools and Methods of Data Analysis\n",
    "## Session 1 - Part 1\n",
    "\n",
    "Niels Hoppe <<niels.hoppe.extern@srh.de>>"
   ]
  },
  {
   "attachments": {},
   "cell_type": "markdown",
   "metadata": {
    "slideshow": {
     "slide_type": "slide"
    }
   },
   "source": [
    "### Agenda 04/13\n",
    "\n",
    "* Introduction\n",
    "  - Course Organization\n",
    "* Statistics for Data Analysis\n",
    "* Types of Variables\n",
    "* Scales of Measure"
   ]
  },
  {
   "attachments": {},
   "cell_type": "markdown",
   "metadata": {
    "slideshow": {
     "slide_type": "slide"
    }
   },
   "source": [
    "### Niels Hoppe, M.Sc., 31yo\n",
    "\n",
    "#### About\n",
    "\n",
    "* **B.Sc. Computer Science** at Freie Universität Berlin\n",
    "* **M.Sc. Computer Science** at Technische Universität Berlin\n",
    "* ex. **Teaching Assistant, Guest Lecturer** at FU and TU Berlin\n",
    "* ex. **Software-Engineer** at Sendinblue (ex. Newsletter2Go)\n",
    "* ex. **Researcher** at Fraunhofer FOKUS\n",
    "* Competitive Ballroom Dancer and Teacher of Dancing\n",
    "\n",
    "#### Contact\n",
    "\n",
    "* Email: <niels.hoppe.extern@srh.de>\n",
    "* LinkedIn: https://www.linkedin.com/in/hielsnoppe/"
   ]
  },
  {
   "attachments": {},
   "cell_type": "markdown",
   "metadata": {
    "slideshow": {
     "slide_type": "slide"
    }
   },
   "source": [
    "### Course Organization\n",
    "\n",
    "10 sessions à 2 parts à 90 min.\n",
    "\n",
    "| Date  | Topic |\n",
    "|-------|-------|\n",
    "| 04/13 | Introduction and Python Basics |\n",
    "| 04/14 | Empirical Distributions + Statistical Parameters |\n",
    "| 04/20 | Probability Theory |\n",
    "| 04/21 | Theoretical Distributions |\n",
    "| 05/04 | Confidence Intervals |\n",
    "| 05/11 | Test of Hypotheses Based on One and Two Samples |\n",
    "| 05/19 | Test of Hypotheses Based on One and Two Samples |\n",
    "| 05/26 | Recap and exercises |\n",
    "| 06/09 | Exam |\n",
    "| TBD   | Exam retake |"
   ]
  },
  {
   "attachments": {},
   "cell_type": "markdown",
   "metadata": {
    "slideshow": {
     "slide_type": "subslide"
    }
   },
   "source": [
    "#### Course Organization (cont.)\n",
    "\n",
    "* Slides will be made available after the lecture\n",
    "* Exercises and other material will be provided through Teams\n",
    "* Questions?"
   ]
  },
  {
   "attachments": {},
   "cell_type": "markdown",
   "metadata": {
    "slideshow": {
     "slide_type": "slide"
    }
   },
   "source": [
    "### Statistics for Data Analysis\n",
    "\n",
    "Original meaning: Statistics describes the economical status of a country.\n",
    "\n",
    "As a field in mathematics: Methods for collecting, preparing, and analysing empirical data."
   ]
  },
  {
   "attachments": {},
   "cell_type": "markdown",
   "metadata": {
    "slideshow": {
     "slide_type": "subslide"
    }
   },
   "source": [
    "### Statistics for Data Analysis (cont.)\n",
    "\n",
    "* Terminology\n",
    "* Descriptive Statistics\n",
    "* Inferential Statistics"
   ]
  },
  {
   "attachments": {},
   "cell_type": "markdown",
   "metadata": {
    "slideshow": {
     "slide_type": "subslide"
    }
   },
   "source": [
    "#### Terminology\n",
    "\n",
    "**Subject**: an entity of interest\n",
    "\n",
    "**Parameter**: an observable characteristic of an entity (aka. attribute, feature, property)\n",
    "\n",
    "**Population**: the complete set of all *subjects* of interest\n",
    "\n",
    "**Sample**: a subset of the *population*\n",
    "\n",
    "**Variable**: *parameter* of interest\n",
    "\n",
    "**Value**: concrete expression of a *variable* in a *subject*"
   ]
  },
  {
   "attachments": {},
   "cell_type": "markdown",
   "metadata": {
    "slideshow": {
     "slide_type": "subslide"
    }
   },
   "source": [
    "#### Determining the Subject\n",
    "\n",
    "What is the subject in the following examples?\n",
    "\n",
    "1. daily blood pressure of a patient\n",
    "2. incidence of a disease in a country per year\n",
    "3. prevalence of a disease in multiple countries in a specific year\n",
    "4. number of rain days in the month of June in a specific region\n",
    "5. number of rain days in the month of June in multiple regions"
   ]
  },
  {
   "attachments": {},
   "cell_type": "markdown",
   "metadata": {
    "slideshow": {
     "slide_type": "subslide"
    }
   },
   "source": [
    "#### Comparability of Subjects\n",
    "\n",
    "> \"You can't compare apples with oranges\"\n",
    "\n",
    "Actually, you can.\n",
    "\n",
    "* Subjects must be comparable with regard to a variable, i.e., all subjects must in principle be able to express that parameter.\n",
    "* Comparability does not imply usefulness!"
   ]
  },
  {
   "attachments": {},
   "cell_type": "markdown",
   "metadata": {
    "slideshow": {
     "slide_type": "subslide"
    }
   },
   "source": [
    "#### Generalization and Transfer of Findings\n",
    "\n",
    "* Findings are always limited to the studied sample.\n",
    "* Findings from representative samples can be generalized to the population.\n",
    "* Findings can not generally be transferred to another population.\n",
    "* Even if two populations are technically comparable, there may be unknown parameters in play."
   ]
  },
  {
   "attachments": {},
   "cell_type": "markdown",
   "metadata": {
    "slideshow": {
     "slide_type": "subslide"
    }
   },
   "source": [
    "#### What is Data?\n",
    "\n",
    "**Data**: the entirety of variables and values contained in the sample\n",
    "\n",
    "Data is collected by observing the parameters of interest (variables) from every subject contained in the sample."
   ]
  },
  {
   "attachments": {},
   "cell_type": "markdown",
   "metadata": {
    "slideshow": {
     "slide_type": "subslide"
    }
   },
   "source": [
    "#### Descriptive Statistics\n",
    "\n",
    "* How does the data look like?\n",
    "  - What kind of data do we have?\n",
    "  - What are interesting values from the data?\n",
    "  - How focused or dispersed is the data?"
   ]
  },
  {
   "attachments": {},
   "cell_type": "markdown",
   "metadata": {},
   "source": [
    "#### Inferential Statistics\n",
    "\n",
    "* What can we learn from the data?\n",
    "* Does it support our assumptions (hypotheses)?"
   ]
  },
  {
   "attachments": {},
   "cell_type": "markdown",
   "metadata": {
    "slideshow": {
     "slide_type": "slide"
    }
   },
   "source": [
    "### Types of Variables\n",
    "\n",
    "| Number | Name | Sex | Age | BMI | Packed Cell Volume | Stage of Disease | # OPs | Blood pressure | Cigarettes / day |\n",
    "|--------|------|-----|-----|-----|--------------------|------------------|-------|----------------|------------------|\n",
    "| 23-8   | G.L. | f   | 57  | Normal | 47%             | I                | 4     | 125 mmHg       | 0 |\n",
    "| 49-1   | S.P. | m   | 62  | Adipose | 49%            | III              | 1     | 130 mmHg       | 10 |"
   ]
  },
  {
   "attachments": {},
   "cell_type": "markdown",
   "metadata": {
    "slideshow": {
     "slide_type": "subslide"
    }
   },
   "source": [
    "### Types of Variables (cont.)\n",
    "\n",
    "**Variable**: *parameter* of interest\n",
    "\n",
    "* Can be classified as\n",
    "  - qualitative/categorical or quantitative\n",
    "  - discrete or continuous\n",
    "* Are measured on scales"
   ]
  },
  {
   "attachments": {},
   "cell_type": "markdown",
   "metadata": {
    "slideshow": {
     "slide_type": "subslide"
    }
   },
   "source": [
    "#### Qualitative vs. Quantitative Variables\n",
    "\n",
    "Qualitative aka. categorical variables take values from a **defined set of categories**, e.g.,\n",
    "\n",
    "* gender of a person\n",
    "* blood type\n",
    "* disease or therapy method (in clinical trials)\n",
    "\n"
   ]
  },
  {
   "cell_type": "markdown",
   "metadata": {
    "slideshow": {
     "slide_type": "fragment"
    }
   },
   "source": [
    "Quantitative variables take **numerical values** obtained by counting or measuring, e.g.,\n",
    "\n",
    "* age of a person\n",
    "* weight, height\n",
    "* blood pressure\n",
    "* number of siblings"
   ]
  },
  {
   "attachments": {},
   "cell_type": "markdown",
   "metadata": {
    "slideshow": {
     "slide_type": "subslide"
    }
   },
   "source": [
    "#### Discrete vs. Continuous Variables\n",
    "\n",
    "Discrete variables take values from a finite or countably infinite set.\n",
    "\n",
    "* Qualitative variables are always discrete.\n",
    "* Quantitative variables are discrete iff they take integer values, e.g.,\n",
    "  - number of patients\n",
    "  - number of children\n",
    "\n",
    "Continuous variables take any numerical value, e.g.,\n",
    "\n",
    "* weight, height\n",
    "* temperature\n",
    "* blood pressure"
   ]
  },
  {
   "attachments": {},
   "cell_type": "markdown",
   "metadata": {
    "slideshow": {
     "slide_type": "slide"
    }
   },
   "source": [
    "### Scales of Measure\n",
    "\n",
    "aka. Levels of Measurement\n",
    "\n",
    "Different scales are used depending on the type of variable:\n",
    "\n",
    "* Nominal scale\n",
    "* Ordinal scale\n",
    "* Interval scale\n",
    "* Ratio scale"
   ]
  },
  {
   "attachments": {},
   "cell_type": "markdown",
   "metadata": {
    "slideshow": {
     "slide_type": "subslide"
    }
   },
   "source": [
    "#### Nominal Scale\n",
    "\n",
    "* For **categorical data**\n",
    "* Values can be **discerned**, but **not ranked**,\n",
    "* i.e., no value is inherently less or greater than any other, **just different**."
   ]
  },
  {
   "attachments": {},
   "cell_type": "markdown",
   "metadata": {
    "slideshow": {
     "slide_type": "fragment"
    }
   },
   "source": [
    "Examples:\n",
    "\n",
    "* Categories, e.g.,\n",
    "  - gender of a person\n",
    "  - music, literature or movie genre\n",
    "  - disease or therapy method (in clinical trials)\n",
    "  - ...\n",
    "* Names, adresses, telephone numbers, ..."
   ]
  },
  {
   "attachments": {},
   "cell_type": "markdown",
   "metadata": {
    "slideshow": {
     "slide_type": "subslide"
    }
   },
   "source": [
    "#### Nominal Scale (cont.)\n",
    "\n",
    "**Question**: But I can rank\n",
    "\n",
    "* names by lexicographical order or length\n",
    "* movie genres by my personal preference\n",
    "* therapy methods by their success rate\n",
    "* adresses by their proximity to where I am\n",
    "* ...\n",
    "\n",
    "Why are they on a nominal scale?"
   ]
  },
  {
   "attachments": {},
   "cell_type": "markdown",
   "metadata": {
    "slideshow": {
     "slide_type": "fragment"
    }
   },
   "source": [
    "**Answer**: You are creating a **derived variable** on another scale.\n",
    "\n",
    "* The original variable is still on a nominal scale.\n",
    "* The derived variable **relates to** and **interpretes** the original variable.\n",
    "* The original and the derived variable are **not the same**.\n",
    "* Interpretation **adds opinion** to the original data and can be **biased**."
   ]
  },
  {
   "attachments": {},
   "cell_type": "markdown",
   "metadata": {
    "slideshow": {
     "slide_type": "subslide"
    }
   },
   "source": [
    "#### Ordinal Scale\n",
    "\n",
    "* For **categorical data**\n",
    "* Values can be **discerned and ranked**, but **not arithmetically compared**,\n",
    "* i.e., we can tell one value is less or greater than another, but not by how much.\n",
    "\n"
   ]
  },
  {
   "cell_type": "markdown",
   "metadata": {
    "slideshow": {
     "slide_type": "fragment"
    }
   },
   "source": [
    "Examples:\n",
    "\n",
    "* Age categories, e.g., child, adolescent, adult, ...\n",
    "* Dress sizes, e.g., XS, S, M, L, XL, XXL\n",
    "* School grades, e.g., A, B, C, D, E, F"
   ]
  },
  {
   "attachments": {},
   "cell_type": "markdown",
   "metadata": {
    "slideshow": {
     "slide_type": "subslide"
    }
   },
   "source": [
    "#### Interval Scale\n",
    "\n",
    "* For **quantitative data**\n",
    "* Values can be **discerned and arithmetically compared**, but only linearly,\n",
    "* i.e., sums and differences are allowed, products and quotients are not.\n",
    "\n"
   ]
  },
  {
   "cell_type": "markdown",
   "metadata": {
    "slideshow": {
     "slide_type": "fragment"
    }
   },
   "source": [
    "Examples:\n",
    "\n",
    "* Date and time of day\n",
    "* Temperature in Celsius or Fahrenheit (but not Kelvin!)"
   ]
  },
  {
   "attachments": {},
   "cell_type": "markdown",
   "metadata": {
    "slideshow": {
     "slide_type": "subslide"
    }
   },
   "source": [
    "#### Interval Scale (cont.)\n",
    "\n",
    "**Question**: If quotients are not allowed, can I calculate an average?"
   ]
  },
  {
   "attachments": {},
   "cell_type": "markdown",
   "metadata": {
    "slideshow": {
     "slide_type": "fragment"
    }
   },
   "source": [
    "**Answer**: Yes. Quotients *of values* are not allowed, but the average is the quotient of the **sum of values** divided by the **number of values**. No values are multiplied or divided, but only added and counted."
   ]
  },
  {
   "attachments": {},
   "cell_type": "markdown",
   "metadata": {
    "slideshow": {
     "slide_type": "subslide"
    }
   },
   "source": [
    "#### Ratio Scale\n",
    "\n",
    "* For **quantitative data**\n",
    "* Values can be **discerned and arithmetically compared** without limitation,\n",
    "* i.e., sums, differences, products and quotients are allowed."
   ]
  },
  {
   "cell_type": "markdown",
   "metadata": {
    "slideshow": {
     "slide_type": "fragment"
    }
   },
   "source": [
    "Examples:\n",
    "\n",
    "* Durations (in contrast to date and time of day!)\n",
    "* Temperature in Kelvin\n",
    "* Weight [kg] and height [cm] of a person\n",
    "* Most physical measurements"
   ]
  },
  {
   "attachments": {},
   "cell_type": "markdown",
   "metadata": {
    "slideshow": {
     "slide_type": "subslide"
    }
   },
   "source": [
    "#### Absolute and Metric Scale\n",
    "\n",
    "* **Absolute scale**: ratio scale for discrete values.\n",
    "* **Metric scale**: effective a synonym for ratio scale; summarizes interval, ratio and absolute scale."
   ]
  },
  {
   "attachments": {},
   "cell_type": "markdown",
   "metadata": {
    "slideshow": {
     "slide_type": "skip"
    }
   },
   "source": [
    "### Summary\n",
    "\n",
    "* Variables are classified as qualitative or quantitative and discrete or continuous.\n",
    "* Variables are measured on scales."
   ]
  },
  {
   "attachments": {},
   "cell_type": "markdown",
   "metadata": {
    "slideshow": {
     "slide_type": "slide"
    }
   },
   "source": [
    "### Exercises\n",
    "\n",
    "**Classification of Variables**: Determine the **type** (qualitative or quantitative, discrete or continuous) and **level of scale** for the following variables:\n",
    "\n",
    "1. Name of a patient\n",
    "2. Gender\n",
    "3. Age\n",
    "4. Body-Mass-Index\n",
    "5. Body-Mass-Index (as categories)\n",
    "6. Packed cell volume in blood sample\n",
    "7. Stage of a disease\n",
    "8. Number of operative procedures\n",
    "9. Blood pressure\n",
    "10. Number of smoked cigarettes per day\n",
    "11. Dose of a medication (low, medium, high)\n",
    "12. Dose of a medication [mg/day]\n",
    "13. Blood group\n",
    "14. Body temperature\n",
    "15. Presence of a symptom (yes, no)"
   ]
  }
 ],
 "metadata": {
  "kernelspec": {
   "display_name": "Python 3",
   "language": "python",
   "name": "python3"
  },
  "language_info": {
   "codemirror_mode": {
    "name": "ipython",
    "version": 3
   },
   "file_extension": ".py",
   "mimetype": "text/x-python",
   "name": "python",
   "nbconvert_exporter": "python",
   "pygments_lexer": "ipython3",
   "version": "3.8.10 (default, Nov 14 2022, 12:59:47) \n[GCC 9.4.0]"
  },
  "orig_nbformat": 4,
  "vscode": {
   "interpreter": {
    "hash": "767d51c1340bd893661ea55ea3124f6de3c7a262a8b4abca0554b478b1e2ff90"
   }
  }
 },
 "nbformat": 4,
 "nbformat_minor": 2
}
