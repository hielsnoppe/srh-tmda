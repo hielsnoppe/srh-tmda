{
 "cells": [
  {
   "attachments": {},
   "cell_type": "markdown",
   "metadata": {
    "slideshow": {
     "slide_type": "slide"
    }
   },
   "source": [
    "# Tools and Methods of Data Analysis\n",
    "## Session 1 - Part 1\n",
    "\n",
    "Niels Hoppe <<niels.hoppe.extern@srh.de>>"
   ]
  },
  {
   "attachments": {},
   "cell_type": "markdown",
   "metadata": {
    "slideshow": {
     "slide_type": "slide"
    }
   },
   "source": [
    "### Agenda 01/05\n",
    "\n",
    "* Introduction\n",
    "  - Course Organization\n",
    "* Statistics for Data Analysis\n",
    "* (Random) Variables\n",
    "* Scales of Measure"
   ]
  },
  {
   "attachments": {},
   "cell_type": "markdown",
   "metadata": {
    "slideshow": {
     "slide_type": "slide"
    }
   },
   "source": [
    "### Niels Hoppe, M.Sc., 31yo\n",
    "\n",
    "#### About\n",
    "\n",
    "* **B.Sc. Computer Science** at Freie Universität Berlin\n",
    "* **M.Sc. Computer Science** at Technische Universität Berlin\n",
    "* ex. **Teaching Assistant, Guest Lecturer** at FU and TU Berlin\n",
    "* ex. **Software-Engineer** at Sendinblue (ex. Newsletter2Go)\n",
    "* **Researcher** at Fraunhofer FOKUS\n",
    "* Competitive Ballroom Dancer and Teacher of Dancing\n",
    "* Massage-Therapist\n",
    "\n",
    "#### Contact\n",
    "\n",
    "* Email: <niels.hoppe.extern@srh.de>\n",
    "* LinkedIn: https://www.linkedin.com/in/hielsnoppe/"
   ]
  },
  {
   "attachments": {},
   "cell_type": "markdown",
   "metadata": {
    "slideshow": {
     "slide_type": "slide"
    }
   },
   "source": [
    "### Course Organization\n",
    "\n",
    "10 sessions à 2 parts à 90 min.\n",
    "\n",
    "| Date  | Topic |\n",
    "|-------|-------|\n",
    "| 01/05 | Introduction + Python Basics |\n",
    "| 01/06 | Empirical Distributions + Statistical Parameters |\n",
    "| 01/12 | Probability Theory |\n",
    "| 01/13 | Theoretical Distributions |\n",
    "| 01/19 | *No lecture* |\n",
    "| 01/20 | *No lecture* |\n",
    "| 01/26 | Confidence Intervals |\n",
    "| 01/27 | Test of Hypotheses Based on One and Two Samples |\n",
    "| 02/02 | Analysis of Variance (ANOVA) |\n",
    "| 02/03 | Categorical Data Analysis (Analysis of Frequency of Qualitative Data) |\n",
    "| 02/09 | Recap. Descriptive Statistics |\n",
    "| 02/10 | Recap. Inferential Statistics |\n",
    "| TBD   | Exam |\n",
    "| TBD   | Exam retake |"
   ]
  },
  {
   "attachments": {},
   "cell_type": "markdown",
   "metadata": {
    "slideshow": {
     "slide_type": "slide"
    }
   },
   "source": [
    "### Statistics for Data Analysis\n",
    "\n",
    "* Descriptive Statistics\n",
    "* Inferential Statistics"
   ]
  },
  {
   "attachments": {},
   "cell_type": "markdown",
   "metadata": {
    "slideshow": {
     "slide_type": "slide"
    }
   },
   "source": [
    "#### Terms\n",
    "\n",
    "**Subject**: an entity of interest\n",
    "\n",
    "**Parameter**: an observable characteristic of an entity (aka. attribute, feature, property)\n",
    "\n",
    "**Population**: the complete set of all *subjects* of interest\n",
    "\n",
    "**Sample**: a subset of the *population*\n",
    "\n",
    "**Variable**: *parameter* of interest\n",
    "\n",
    "**Value**: concrete expression of a *variable* in a *subject*"
   ]
  },
  {
   "attachments": {},
   "cell_type": "markdown",
   "metadata": {
    "slideshow": {
     "slide_type": "subslide"
    }
   },
   "source": [
    "#### Comparability of Subjects\n",
    "\n",
    "> \"You can't compare apples with oranges\"\n",
    "\n",
    "Actually, you can.\n",
    "\n",
    "Subjects must be comparable with regard to a variable,\n",
    "i.e., all subjects must in principle be able to express that parameter.\n",
    "\n",
    "Comparability does not imply usefulness!"
   ]
  },
  {
   "attachments": {},
   "cell_type": "markdown",
   "metadata": {
    "slideshow": {
     "slide_type": "subslide"
    }
   },
   "source": [
    "#### Generalization and Transfer of Findings\n",
    "\n",
    "Findings are always limited to the studied sample.\n",
    "\n",
    "Findings from representative samples can carefully be generalized to the population.\n",
    "\n",
    "Findings can not generally be transferred to another population.\n",
    "\n",
    "Even if two populations are technically comparable, there may be unstudied properties in play."
   ]
  },
  {
   "attachments": {},
   "cell_type": "markdown",
   "metadata": {
    "slideshow": {
     "slide_type": "subslide"
    }
   },
   "source": [
    "#### What is Data?\n",
    "\n",
    "**Data**: the entirety of variables and values contained in the sample\n",
    "\n",
    "Data is collected by observing the parameters of interest (variables) from every subject contained in the sample."
   ]
  },
  {
   "attachments": {},
   "cell_type": "markdown",
   "metadata": {
    "slideshow": {
     "slide_type": "subslide"
    }
   },
   "source": [
    "#### Descriptive Statistics\n",
    "\n",
    "* How does the data look like?\n",
    "  - What kind of data do we have?\n",
    "  - What are interesting values from the data?\n",
    "  - How focused or dispersed is the data?"
   ]
  },
  {
   "attachments": {},
   "cell_type": "markdown",
   "metadata": {
    "slideshow": {
     "slide_type": "subslide"
    }
   },
   "source": [
    "#### Inferential Statistics\n",
    "\n",
    "* What can we learn from the data?\n",
    "* Does it support our assumptions (hypotheses)?"
   ]
  },
  {
   "attachments": {},
   "cell_type": "markdown",
   "metadata": {
    "slideshow": {
     "slide_type": "slide"
    }
   },
   "source": [
    "### (Random) Variables\n",
    "\n",
    "Feature of interest in a study\n",
    "\n",
    "* Qualitative vs. quantitative\n",
    "* Discrete vs. continuous/steady"
   ]
  },
  {
   "attachments": {},
   "cell_type": "markdown",
   "metadata": {
    "slideshow": {
     "slide_type": "subslide"
    }
   },
   "source": [
    "#### Qualitative vs. Quantitative Variables"
   ]
  },
  {
   "attachments": {},
   "cell_type": "markdown",
   "metadata": {
    "slideshow": {
     "slide_type": "subslide"
    }
   },
   "source": [
    "#### Discrete vs. Steady Variables"
   ]
  },
  {
   "attachments": {},
   "cell_type": "markdown",
   "metadata": {
    "slideshow": {
     "slide_type": "slide"
    }
   },
   "source": [
    "### Scales of Measure\n",
    "\n",
    "aka. Levels of Measurement\n",
    "\n",
    "* Nominal scale\n",
    "* Ordinal scale\n",
    "* Interval scale\n",
    "* Ratio scale\n",
    "* Absolute scale\n",
    "* Metric scale"
   ]
  },
  {
   "attachments": {},
   "cell_type": "markdown",
   "metadata": {
    "slideshow": {
     "slide_type": "subslide"
    }
   },
   "source": [
    "#### Nominal Scale\n",
    "\n",
    "* For **categorical data**\n",
    "* Values can be **discerned**, but **not ranked**,\n",
    "* i.e., no value is inherently less or greater than any other, **just different**.\n",
    "\n",
    "Examples:\n",
    "\n",
    "* Categories, e.g.,\n",
    "  - gender of a person\n",
    "  - music, literature or movie genre\n",
    "  - disease or therapy method (in clinical trials)\n",
    "  - ...\n",
    "* Names, adresses, telephone numbers, ..."
   ]
  },
  {
   "attachments": {},
   "cell_type": "markdown",
   "metadata": {
    "slideshow": {
     "slide_type": "subslide"
    }
   },
   "source": [
    "#### Nominal Scale\n",
    "\n",
    "**Question**: But I can rank\n",
    "\n",
    "* names by lexicographical order or length\n",
    "* movie genres by my personal preference\n",
    "* therapy methods by their success rate\n",
    "* adresses by their proximity to where I am\n",
    "* ...\n",
    "\n",
    "Why are they on a nominal scale?"
   ]
  },
  {
   "attachments": {},
   "cell_type": "markdown",
   "metadata": {
    "slideshow": {
     "slide_type": "fragment"
    }
   },
   "source": [
    "**Answer**: You are creating a **derived variable** on another scale.\n",
    "\n",
    "* The original variable is still on a nominal scale.\n",
    "* The derived variable **relates to** and **interpretes** the original variable.\n",
    "* The original and the derived variable are **not the same**.\n",
    "* Interpretation **adds opinion** to the original data and can be **biased**."
   ]
  },
  {
   "attachments": {},
   "cell_type": "markdown",
   "metadata": {
    "slideshow": {
     "slide_type": "subslide"
    }
   },
   "source": [
    "#### Ordinal Scale\n",
    "\n",
    "* For **categorical data**\n",
    "* Values can be **discerned and ranked**, but **not arithmetically compared**,\n",
    "* i.e., we can tell one value is less or greater than another, but not by how much.\n",
    "\n",
    "Examples:\n",
    "\n",
    "* Age categories, e.g., child, adolescent, adult, ...\n",
    "* Dress sizes, e.g., XS, S, M, L, XL, XXL\n",
    "* School grades, e.g., A, B, C, D, E, F"
   ]
  },
  {
   "attachments": {},
   "cell_type": "markdown",
   "metadata": {
    "slideshow": {
     "slide_type": "subslide"
    }
   },
   "source": [
    "#### Interval Scale\n",
    "\n",
    "* For **quantitative data**\n",
    "* Values can be **discerned and arithmetically compared**, but only linearly,\n",
    "* i.e., sums and differences are allowed, products and quotients are not.\n",
    "\n",
    "Examples:\n",
    "\n",
    "* Date and time of day\n",
    "* Temperature in Celsius or Fahrenheit (but not Kelvin!)"
   ]
  },
  {
   "attachments": {},
   "cell_type": "markdown",
   "metadata": {
    "slideshow": {
     "slide_type": "subslide"
    }
   },
   "source": [
    "#### Interval Scale\n",
    "\n",
    "**Question**: If quotients are not allowed, can I calculate an average?"
   ]
  },
  {
   "attachments": {},
   "cell_type": "markdown",
   "metadata": {
    "slideshow": {
     "slide_type": "fragment"
    }
   },
   "source": [
    "**Answer**: Yes. Quotients *of values* are not allowed, but the average is the quotient of the **sum of values** divided by the **number of values**. No values are multiplied or divided, but only added and counted."
   ]
  },
  {
   "attachments": {},
   "cell_type": "markdown",
   "metadata": {
    "slideshow": {
     "slide_type": "subslide"
    }
   },
   "source": [
    "#### Ratio Scale\n",
    "\n",
    "* For **quantitative data**\n",
    "* Values can be **discerned and arithmetically compared** without limitation,\n",
    "* i.e., sums, differences, products and quotients are allowed.\n",
    "\n",
    "Examples:\n",
    "\n",
    "* Durations (in contrast to date and time of day!)\n",
    "* Temperature in Kelvin\n",
    "* Weight [kg] and height [cm] of a person\n",
    "* Most physical measurements"
   ]
  },
  {
   "attachments": {},
   "cell_type": "markdown",
   "metadata": {
    "slideshow": {
     "slide_type": "subslide"
    }
   },
   "source": [
    "#### Absolute and Metric Scale\n",
    "\n",
    "* *Absolute scale*: ratio scale for discrete values.\n",
    "* *Metric scale*: effective a synonym for ratio scale; summarizes interval, ratio and absolute scale."
   ]
  }
 ],
 "metadata": {
  "kernelspec": {
   "display_name": "Python 3",
   "language": "python",
   "name": "python3"
  },
  "language_info": {
   "codemirror_mode": {
    "name": "ipython",
    "version": 3
   },
   "file_extension": ".py",
   "mimetype": "text/x-python",
   "name": "python",
   "nbconvert_exporter": "python",
   "pygments_lexer": "ipython3",
   "version": "3.8.10 (default, Jun 22 2022, 20:18:18) \n[GCC 9.4.0]"
  },
  "orig_nbformat": 4,
  "vscode": {
   "interpreter": {
    "hash": "767d51c1340bd893661ea55ea3124f6de3c7a262a8b4abca0554b478b1e2ff90"
   }
  }
 },
 "nbformat": 4,
 "nbformat_minor": 2
}
