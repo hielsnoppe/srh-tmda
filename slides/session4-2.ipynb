{
 "cells": [
  {
   "attachments": {},
   "cell_type": "markdown",
   "metadata": {},
   "source": [
    "# Tools and Methods of Data Analysis\n",
    "## Session 4 - Part 2\n",
    "\n",
    "Niels Hoppe <<niels.hoppe.extern@srh.de>>"
   ]
  },
  {
   "attachments": {},
   "cell_type": "markdown",
   "metadata": {
    "slideshow": {
     "slide_type": "slide"
    }
   },
   "source": [
    "# Exercises"
   ]
  },
  {
   "attachments": {},
   "cell_type": "markdown",
   "metadata": {
    "slideshow": {
     "slide_type": "slide"
    }
   },
   "source": [
    "## 1) System\n",
    "\n",
    "Consider the given system of connected components.\n",
    "Components 1 and 2 are connected in parallel, so that subsystem works if either I or II works.\n",
    "Components III and IV are connected in series, that subsystem works if both III and IV work.\n",
    "Suppose all components work independently of one another and the probability for each component to work is 0.8 calculate `P(system works)`."
   ]
  },
  {
   "attachments": {},
   "cell_type": "markdown",
   "metadata": {
    "slideshow": {
     "slide_type": "skip"
    }
   },
   "source": [
    "$$P(I \\lor II) = (0.8 + 0.8 - 0.8 \\cdot 0.8) = 0.96$$\n",
    "$$P(III \\land IV) = (0.8 \\cdot 0.8) = 0.64$$\n",
    "$$P((I \\lor II) \\lor (III \\land IV)) = 0.96 + 0.64 - 0.96 \\cdot 0.64 = 0.9856$$"
   ]
  },
  {
   "attachments": {},
   "cell_type": "markdown",
   "metadata": {
    "slideshow": {
     "slide_type": "slide"
    }
   },
   "source": [
    "## 2) Blood Phenotypes\n",
    "\n",
    "The proportions of blood phenotypes in the U.S. population are as follows:\n",
    "\n",
    "| A   | B   | AB  | 0   |\n",
    "|-----|-----|-----|-----|\n",
    "| 40% | 11% |  4% | 45% |\n",
    "\n",
    "Assuming that the phenotypes of two randomly selected individuals are independent of one another,\n",
    "what is the probability that both phenotypes are 0?"
   ]
  },
  {
   "cell_type": "code",
   "execution_count": 30,
   "metadata": {
    "slideshow": {
     "slide_type": "skip"
    }
   },
   "outputs": [
    {
     "data": {
      "text/plain": [
       "0.2025"
      ]
     },
     "execution_count": 30,
     "metadata": {},
     "output_type": "execute_result"
    }
   ],
   "source": [
    "0.45 * 0.45"
   ]
  },
  {
   "attachments": {},
   "cell_type": "markdown",
   "metadata": {
    "slideshow": {
     "slide_type": "slide"
    }
   },
   "source": [
    "## 3) Pumps\n",
    "\n",
    "Two pumps connected in parallel fail independently of one another on any given day.\n",
    "The probability that only the older pump will fail is `.10`,\n",
    "and the probability that only the newer pump will fail is `.05`.\n",
    "What is the probability that the pumping system will fail on any given day (which happens if both pumps fail)?"
   ]
  },
  {
   "attachments": {},
   "cell_type": "markdown",
   "metadata": {
    "slideshow": {
     "slide_type": "skip"
    }
   },
   "source": [
    "$$P(\\neg A \\land \\neg B) = P(\\neg A) \\cdot P(\\neg B) = 0.1 \\cdot 0.05 = 0.005$$\n",
    "\n",
    "    1 - P(A or B) = 1 - ( P(A) + P(B) - P(A) * P(B) )\n",
    "                  = 1 - (0.9 + 0.95 - 0.9 * 0.95)\n",
    "                  = 0.005"
   ]
  },
  {
   "attachments": {},
   "cell_type": "markdown",
   "metadata": {
    "slideshow": {
     "slide_type": "slide"
    }
   },
   "source": [
    "## 4) Impurity\n",
    "\n",
    "A chemical engineer is interested in determining whether a certain trace impurity is present in a product.\n",
    "The prior probability of the impurity being present is `0.40`.\n",
    "A method has a probability of `0.8` of detecting the impurity if it is present.\n",
    "The probability of not detecting the impurity if it is absent is `0.9`.\n",
    "What is the posterior probability that the impurity is present?"
   ]
  },
  {
   "cell_type": "code",
   "execution_count": 31,
   "metadata": {
    "slideshow": {
     "slide_type": "skip"
    }
   },
   "outputs": [
    {
     "data": {
      "text/plain": [
       "0.8421052631578948"
      ]
     },
     "execution_count": 31,
     "metadata": {},
     "output_type": "execute_result"
    }
   ],
   "source": [
    "p = 0.4 # probability\n",
    "s = 0.8 # sensitivity\n",
    "z = 0.9 # specificity\n",
    "ppv = (s * p) / (s * p + (1 - z) * (1 - p))\n",
    "ppv"
   ]
  },
  {
   "attachments": {},
   "cell_type": "markdown",
   "metadata": {
    "slideshow": {
     "slide_type": "slide"
    }
   },
   "source": [
    "## 5) Disease\n",
    "\n",
    "One percent of all individuals in a certain population are carriers of a particular disease $(event D)$.\n",
    "A diagnostic test for this disease has a $90\\%$ detection rate for carriers $(event +|D)$ and a $5\\%$ detection rate for non carriers $(event +|\\bar{D})$.\n",
    "Calculate the following probabilities and interpret each result.\n",
    "\n",
    "$$ P(D|+); P(D|-); P(\\bar{D}|+); P(\\bar{D}|-) $$"
   ]
  },
  {
   "attachments": {},
   "cell_type": "markdown",
   "metadata": {
    "slideshow": {
     "slide_type": "skip"
    }
   },
   "source": [
    "\n",
    "|       | D     | not D  | Total  |\n",
    "|-------|-------|--------|--------|\n",
    "| +     | 0.009 | 0.0495 | 0.0585 |\n",
    "| -     | 0.001 | 0.9405 | 0.9415 |\n",
    "| Total | 0.01  | 0.99   | 1.0    |"
   ]
  },
  {
   "cell_type": "markdown",
   "metadata": {
    "slideshow": {
     "slide_type": "skip"
    }
   },
   "source": [
    "\n",
    "    P(D|+) = 0.009/0.0585 = 0.1538462\n",
    "    P(D|-) = 0.001/0.9415 =  0.001062135\n",
    "    P(D̅|+) = 0.0495/0.0585 = 0.8461538\n",
    "    P(D̅|-) = 0.9405/0.9451 = 0.9951328"
   ]
  },
  {
   "attachments": {},
   "cell_type": "markdown",
   "metadata": {
    "slideshow": {
     "slide_type": "slide"
    }
   },
   "source": [
    "## 6) Emission Inspection\n",
    "\n",
    "Seventy percent of all vehicles examined at a certain emissions inspection station pass the inspection.\n",
    "Assuming that successive vehicles pass or fail independently of one another, calculate the following probabilities:\n",
    "\n",
    "1. P(all of the next three vehicles inspected pass)\n",
    "2. P(at least one of the next three inspected fails)\n",
    "3. P(exactly one of the next three inspected passes)\n",
    "4. P(at most one of the next three vehicles inspected passes)\n",
    "5. Given that at least one of the next three vehicles passes inspection, what is the probability that all three pass (a conditional probability)?"
   ]
  },
  {
   "cell_type": "code",
   "execution_count": 32,
   "metadata": {
    "slideshow": {
     "slide_type": "skip"
    }
   },
   "outputs": [],
   "source": [
    "all_pass = 0.7 ** 3\n",
    "at_least_one = 1 - all_pass\n",
    "exactly_one = 3 * 0.7 * 0.3 * 0.3\n",
    "at_most_one = 0.3 ** 3 + exactly_one\n",
    "all_conditional = all_pass / (1 - 0.3 ** 3)"
   ]
  }
 ],
 "metadata": {
  "kernelspec": {
   "display_name": "Python 3",
   "language": "python",
   "name": "python3"
  },
  "language_info": {
   "codemirror_mode": {
    "name": "ipython",
    "version": 3
   },
   "file_extension": ".py",
   "mimetype": "text/x-python",
   "name": "python",
   "nbconvert_exporter": "python",
   "pygments_lexer": "ipython3",
   "version": "3.8.10"
  },
  "orig_nbformat": 4,
  "vscode": {
   "interpreter": {
    "hash": "767d51c1340bd893661ea55ea3124f6de3c7a262a8b4abca0554b478b1e2ff90"
   }
  }
 },
 "nbformat": 4,
 "nbformat_minor": 2
}
