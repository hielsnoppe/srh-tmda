{
 "cells": [
  {
   "attachments": {},
   "cell_type": "markdown",
   "metadata": {
    "slideshow": {
     "slide_type": "slide"
    }
   },
   "source": [
    "# Tools and Methods of Data Analysis\n",
    "## Session 1 - Part 2\n",
    "\n",
    "Niels Hoppe <<niels.hoppe.extern@srh.de>>"
   ]
  },
  {
   "attachments": {},
   "cell_type": "markdown",
   "metadata": {
    "slideshow": {
     "slide_type": "slide"
    }
   },
   "source": [
    "### Setup\n",
    "\n",
    "* Install Visual Studio Code\n",
    "* Install Anaconda\n",
    "* Create conda environment\n",
    "* Open Visual Studio Code\n",
    "* Create Jupyter Notebook\n",
    "* Select conda environment as kernel"
   ]
  },
  {
   "attachments": {},
   "cell_type": "markdown",
   "metadata": {
    "slideshow": {
     "slide_type": "subslide"
    }
   },
   "source": [
    "#### Install Visual Studio Code and Anaconda\n",
    "\n",
    "* Download VS Code from ...\n",
    "* Run installer\n",
    "* Download Anaconda from ...\n",
    "* Run installer\n",
    "* Restart"
   ]
  },
  {
   "attachments": {},
   "cell_type": "markdown",
   "metadata": {
    "slideshow": {
     "slide_type": "subslide"
    }
   },
   "source": [
    "#### Create conda environment\n",
    "\n",
    "Open conda PowerShell and run:\n",
    "\n",
    "    conda create -n tmda python=3.10 pandas jupyter seaborn\n",
    "\n",
    "This will create a conda environment in `C:\\Users\\...\\anaconda3\\envs\\tmda`"
   ]
  },
  {
   "attachments": {},
   "cell_type": "markdown",
   "metadata": {
    "slideshow": {
     "slide_type": "slide"
    }
   },
   "source": [
    "### Getting started\n",
    "\n",
    "* Jupyter Notebooks\n",
    "* Python\n",
    "* Pandas"
   ]
  },
  {
   "attachments": {},
   "cell_type": "markdown",
   "metadata": {
    "slideshow": {
     "slide_type": "slide"
    }
   },
   "source": [
    "#### Getting started with Jupyter Notebooks"
   ]
  },
  {
   "attachments": {},
   "cell_type": "markdown",
   "metadata": {
    "slideshow": {
     "slide_type": "slide"
    }
   },
   "source": [
    "#### Getting started with Python\n",
    "\n",
    "Imports\n",
    "\n",
    "Simple calculations\n",
    "\n",
    "Variables\n",
    "\n",
    "Output"
   ]
  },
  {
   "attachments": {},
   "cell_type": "markdown",
   "metadata": {
    "slideshow": {
     "slide_type": "subslide"
    }
   },
   "source": [
    "##### Python Imports\n",
    "\n",
    "* Python code is organized in modules and distributed in **packages**\n",
    "* Public packages are available from the [Python Package Index (PyPI)](https://pypi.org)\n",
    "* Packages must be **imported** before objects and methods can be used"
   ]
  },
  {
   "cell_type": "code",
   "execution_count": null,
   "metadata": {},
   "outputs": [],
   "source": [
    "import numpy as np\n",
    "\n"
   ]
  },
  {
   "attachments": {},
   "cell_type": "markdown",
   "metadata": {},
   "source": [
    "Packages we will be using:\n",
    "\n",
    "* numpy\n",
    "* pandas\n",
    "* (seaborn)"
   ]
  },
  {
   "attachments": {},
   "cell_type": "markdown",
   "metadata": {
    "slideshow": {
     "slide_type": "subslide"
    }
   },
   "source": [
    "##### Simple Calculations in Python"
   ]
  },
  {
   "cell_type": "code",
   "execution_count": null,
   "metadata": {},
   "outputs": [
    {
     "name": "stdout",
     "output_type": "stream",
     "text": [
      "7\n",
      "16\n"
     ]
    }
   ],
   "source": [
    "print(3 + 4)\n",
    "print(2 * 8)"
   ]
  },
  {
   "attachments": {},
   "cell_type": "markdown",
   "metadata": {
    "slideshow": {
     "slide_type": "subslide"
    }
   },
   "source": [
    "#### Getting started with Pandas\n",
    "\n",
    "* Series\n",
    "* Dataframes\n",
    "* Operations on data frames\n",
    "* Reading data from files"
   ]
  },
  {
   "attachments": {},
   "cell_type": "markdown",
   "metadata": {},
   "source": [
    "Series"
   ]
  },
  {
   "attachments": {},
   "cell_type": "markdown",
   "metadata": {},
   "source": [
    "Dataframes"
   ]
  },
  {
   "cell_type": "code",
   "execution_count": null,
   "metadata": {},
   "outputs": [],
   "source": [
    "df.loc[row_locator, column_locator]\n",
    "\n",
    "df.iloc[row_locator, column_locator]"
   ]
  },
  {
   "attachments": {},
   "cell_type": "markdown",
   "metadata": {
    "slideshow": {
     "slide_type": "slide"
    }
   },
   "source": [
    "##### Loading data"
   ]
  },
  {
   "cell_type": "code",
   "execution_count": null,
   "metadata": {},
   "outputs": [],
   "source": [
    "import pandas as pd\n",
    "import numpy as np\n",
    "\n",
    "data = pd.read_csv('data.csv')"
   ]
  },
  {
   "attachments": {},
   "cell_type": "markdown",
   "metadata": {
    "slideshow": {
     "slide_type": "slide"
    }
   },
   "source": [
    "Accessing data\n",
    "\n",
    "* Loading data from files\n",
    "* Sampling fake data\n",
    "\n",
    "Exploring data\n",
    "\n",
    "* Sampling data\n",
    "* Frequency distributions\n",
    "* Creating tables and plots"
   ]
  },
  {
   "cell_type": "code",
   "execution_count": 3,
   "metadata": {},
   "outputs": [
    {
     "name": "stdout",
     "output_type": "stream",
     "text": [
      "['F' 'B' 'F' 'C' 'A' 'A' 'B' 'F' 'C' 'D' 'D' 'B' 'D' 'D' 'D' 'A' 'A' 'C'\n",
      " 'D' 'C' 'C' 'A' 'C' 'C' 'C' 'C' 'C' 'D' 'F' 'F']\n"
     ]
    }
   ],
   "source": [
    "import pandas as pd\n",
    "import seaborn as sns\n",
    "\n",
    "labels = ['A', 'B', 'C', 'D', 'F']\n",
    "df = pd.DataFrame(labels).sample(30, replace=True)\n",
    "\n",
    "print(df[0].to_numpy())"
   ]
  },
  {
   "cell_type": "markdown",
   "metadata": {
    "slideshow": {
     "slide_type": "subslide"
    }
   },
   "source": [
    "Absolute frequency"
   ]
  },
  {
   "cell_type": "code",
   "execution_count": 4,
   "metadata": {},
   "outputs": [
    {
     "name": "stdout",
     "output_type": "stream",
     "text": [
      "C    10\n",
      "D     7\n",
      "A     5\n",
      "F     5\n",
      "B     3\n",
      "dtype: int64\n"
     ]
    },
    {
     "data": {
      "text/plain": [
       "<matplotlib.axes._subplots.AxesSubplot at 0x7fa383e56e50>"
      ]
     },
     "execution_count": 4,
     "metadata": {},
     "output_type": "execute_result"
    },
    {
     "data": {
      "image/png": "[encoded data removed]",
      "text/plain": [
       "<Figure size 640x480 with 1 Axes>"
      ]
     },
     "metadata": {},
     "output_type": "display_data"
    }
   ],
   "source": [
    "abs = df.value_counts()\n",
    "print(abs)\n",
    "abs.plot.bar()"
   ]
  },
  {
   "cell_type": "code",
   "execution_count": 5,
   "metadata": {},
   "outputs": [
    {
     "data": {
      "text/html": [
       "<style type=\"text/css\">\n",
       "#T_cdbae_row0_col0 {\n",
       "  width: 10em;\n",
       "  background: linear-gradient(90deg, #d65f5f 100.0%, transparent 100.0%);\n",
       "}\n",
       "#T_cdbae_row1_col0 {\n",
       "  width: 10em;\n",
       "  background: linear-gradient(90deg, #d65f5f 70.0%, transparent 70.0%);\n",
       "}\n",
       "#T_cdbae_row2_col0, #T_cdbae_row3_col0 {\n",
       "  width: 10em;\n",
       "  background: linear-gradient(90deg, #d65f5f 50.0%, transparent 50.0%);\n",
       "}\n",
       "#T_cdbae_row4_col0 {\n",
       "  width: 10em;\n",
       "  background: linear-gradient(90deg, #d65f5f 30.0%, transparent 30.0%);\n",
       "}\n",
       "</style>\n",
       "<table id=\"T_cdbae\">\n",
       "  <thead>\n",
       "    <tr>\n",
       "      <th class=\"blank level0\" >&nbsp;</th>\n",
       "      <th id=\"T_cdbae_level0_col0\" class=\"col_heading level0 col0\" >0</th>\n",
       "    </tr>\n",
       "    <tr>\n",
       "      <th class=\"index_name level0\" >0</th>\n",
       "      <th class=\"blank col0\" >&nbsp;</th>\n",
       "    </tr>\n",
       "  </thead>\n",
       "  <tbody>\n",
       "    <tr>\n",
       "      <th id=\"T_cdbae_level0_row0\" class=\"row_heading level0 row0\" >C</th>\n",
       "      <td id=\"T_cdbae_row0_col0\" class=\"data row0 col0\" >0.333333</td>\n",
       "    </tr>\n",
       "    <tr>\n",
       "      <th id=\"T_cdbae_level0_row1\" class=\"row_heading level0 row1\" >D</th>\n",
       "      <td id=\"T_cdbae_row1_col0\" class=\"data row1 col0\" >0.233333</td>\n",
       "    </tr>\n",
       "    <tr>\n",
       "      <th id=\"T_cdbae_level0_row2\" class=\"row_heading level0 row2\" >A</th>\n",
       "      <td id=\"T_cdbae_row2_col0\" class=\"data row2 col0\" >0.166667</td>\n",
       "    </tr>\n",
       "    <tr>\n",
       "      <th id=\"T_cdbae_level0_row3\" class=\"row_heading level0 row3\" >F</th>\n",
       "      <td id=\"T_cdbae_row3_col0\" class=\"data row3 col0\" >0.166667</td>\n",
       "    </tr>\n",
       "    <tr>\n",
       "      <th id=\"T_cdbae_level0_row4\" class=\"row_heading level0 row4\" >B</th>\n",
       "      <td id=\"T_cdbae_row4_col0\" class=\"data row4 col0\" >0.100000</td>\n",
       "    </tr>\n",
       "  </tbody>\n",
       "</table>\n"
      ],
      "text/plain": [
       "<pandas.io.formats.style.Styler at 0x7fa3d808cfd0>"
      ]
     },
     "execution_count": 5,
     "metadata": {},
     "output_type": "execute_result"
    }
   ],
   "source": [
    "df.value_counts(normalize=True).to_frame().style.bar()\n",
    "#rel.plot.pie(colors=sns.color_palette('deep')[0:5], autopct='%.0f%%')"
   ]
  },
  {
   "attachments": {},
   "cell_type": "markdown",
   "metadata": {
    "slideshow": {
     "slide_type": "subslide"
    }
   },
   "source": [
    "Relative frequency"
   ]
  },
  {
   "cell_type": "code",
   "execution_count": 6,
   "metadata": {},
   "outputs": [
    {
     "name": "stdout",
     "output_type": "stream",
     "text": [
      "C    0.333333\n",
      "D    0.233333\n",
      "A    0.166667\n",
      "F    0.166667\n",
      "B    0.100000\n",
      "dtype: float64\n"
     ]
    },
    {
     "data": {
      "text/plain": [
       "<matplotlib.axes._subplots.AxesSubplot at 0x7fa381c2f430>"
      ]
     },
     "execution_count": 6,
     "metadata": {},
     "output_type": "execute_result"
    },
    {
     "data": {
      "image/png": "[encoded data removed]",
      "text/plain": [
       "<Figure size 640x480 with 1 Axes>"
      ]
     },
     "metadata": {},
     "output_type": "display_data"
    }
   ],
   "source": [
    "rel = df.value_counts(normalize=True)\n",
    "print(rel)\n",
    "rel.plot.bar(color=sns.color_palette('deep')[0])"
   ]
  },
  {
   "cell_type": "code",
   "execution_count": 7,
   "metadata": {},
   "outputs": [
    {
     "data": {
      "text/plain": [
       "<matplotlib.axes._subplots.AxesSubplot at 0x7fa381b3e670>"
      ]
     },
     "execution_count": 7,
     "metadata": {},
     "output_type": "execute_result"
    },
    {
     "data": {
      "image/png": "[encoded data removed]",
      "text/plain": [
       "<Figure size 640x480 with 1 Axes>"
      ]
     },
     "metadata": {},
     "output_type": "display_data"
    }
   ],
   "source": [
    "rel = df.value_counts(normalize=True)\n",
    "rel.plot.pie(colors=sns.color_palette('deep')[0:5], autopct='%.0f%%')"
   ]
  }
 ],
 "metadata": {
  "kernelspec": {
   "display_name": "Python 3",
   "language": "python",
   "name": "python3"
  },
  "language_info": {
   "codemirror_mode": {
    "name": "ipython",
    "version": 3
   },
   "file_extension": ".py",
   "mimetype": "text/x-python",
   "name": "python",
   "nbconvert_exporter": "python",
   "pygments_lexer": "ipython3",
   "version": "3.8.10 (default, Jun 22 2022, 20:18:18) \n[GCC 9.4.0]"
  },
  "orig_nbformat": 4,
  "vscode": {
   "interpreter": {
    "hash": "767d51c1340bd893661ea55ea3124f6de3c7a262a8b4abca0554b478b1e2ff90"
   }
  }
 },
 "nbformat": 4,
 "nbformat_minor": 2
}
