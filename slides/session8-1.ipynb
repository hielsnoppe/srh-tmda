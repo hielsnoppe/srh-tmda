{
 "cells": [
  {
   "attachments": {},
   "cell_type": "markdown",
   "metadata": {
    "slideshow": {
     "slide_type": "slide"
    }
   },
   "source": [
    "# Tools and Methods of Data Analysis\n",
    "## Session 8 - Part 1\n",
    "\n",
    "Niels Hoppe <<niels.hoppe.extern@srh.de>>"
   ]
  },
  {
   "cell_type": "code",
   "execution_count": 1,
   "metadata": {
    "slideshow": {
     "slide_type": "skip"
    }
   },
   "outputs": [],
   "source": [
    "import math\n",
    "import pandas as pd\n",
    "from scipy import stats"
   ]
  },
  {
   "attachments": {},
   "cell_type": "markdown",
   "metadata": {
    "slideshow": {
     "slide_type": "slide"
    }
   },
   "source": [
    "### Recap: The Idea of Hypothesis Testing\n",
    "\n",
    "Does the data support a **hypothesis** or not?\n",
    "\n",
    "A hypothesis is **accepted** or **rejected** based on the test result.\n",
    "\n",
    "Tests give **no absolute certainty**, but only a **probability of error**."
   ]
  },
  {
   "attachments": {},
   "cell_type": "markdown",
   "metadata": {
    "slideshow": {
     "slide_type": "subslide"
    }
   },
   "source": [
    "### Recap: The Idea of Hypothesis Testing (cont.)\n",
    "\n",
    "1. What is the question (hypothesis)?\n",
    "2. Which test is applicable?\n",
    "3. How to perform the test?\n",
    "4. How to interpret the result?"
   ]
  },
  {
   "attachments": {},
   "cell_type": "markdown",
   "metadata": {
    "slideshow": {
     "slide_type": "slide"
    }
   },
   "source": [
    "### 1. What is the question (hypothesis)?\n",
    "\n",
    "A hypothesis is a claim (assumption) about a **population parameter**, e.g.,\n",
    "\n",
    "Assumption about the **population mean** $\\mu$:\n",
    "\n",
    "\"The average income in a country has fallen in the past 20 years.\"\n",
    "\n",
    "Assumption about the **population proportion** $\\pi$:\n",
    "\n",
    "\"The proportion of voters for a particular party has increased since the last election.\""
   ]
  },
  {
   "attachments": {},
   "cell_type": "markdown",
   "metadata": {
    "slideshow": {
     "slide_type": "subslide"
    }
   },
   "source": [
    "### 1. What is the question (hypothesis)?\n",
    "\n",
    "There are three kinds of hypotheses we learn to test for:\n",
    "\n",
    "* the parameter has **increased** wrt. a reference value\n",
    "* the parameter has **decreased** wrt. a reference value\n",
    "* the parameter has **changed** (increased or decreased) wrt. a reference value\n",
    "\n",
    "There are always two hypothesis:\n",
    "\n",
    "* The **null-hypothesis** ($H_0$) expresses the **absence** of the assumed effect.\n",
    "* The **alternative hypothesis** ($H_1$) expresses the **presence** of the assumed effect."
   ]
  },
  {
   "attachments": {},
   "cell_type": "markdown",
   "metadata": {
    "slideshow": {
     "slide_type": "slide"
    }
   },
   "source": [
    "### 2. Which test is applicable?\n",
    "\n",
    "Many statistical tests exist, but we will focus on two of them:\n",
    "\n",
    "* Student's **t-test** for hypotheses about the mean $\\mu$\n",
    "* **Z-test** for hypotheses about the proportion $\\pi$"
   ]
  },
  {
   "attachments": {},
   "cell_type": "markdown",
   "metadata": {
    "slideshow": {
     "slide_type": "slide"
    }
   },
   "source": [
    "### 3. How to perform the test?\n",
    "\n",
    "The general procedure is:\n",
    "\n",
    "1. Calculate a test statistics / summary statistics from the data\n",
    "2. Calculate a p-value from the test statistics\n",
    "\n",
    "The calculation of the test statistics is specific to the respective test."
   ]
  },
  {
   "attachments": {},
   "cell_type": "markdown",
   "metadata": {
    "slideshow": {
     "slide_type": "slide"
    }
   },
   "source": [
    "### Student's t-test for means (two samples)\n",
    "\n",
    "Calculating the test statistics for Student's t-test:\n",
    "\n",
    "$$t = \\frac{\\bar{x}_1 - \\bar{x}_2}{s_p \\cdot \\sqrt{\\frac{2}{n}}}$$\n",
    "\n",
    "where:\n",
    "\n",
    "$$s_p = \\sqrt{\\frac{s^2_1 + s^2_2}{2}}$$\n",
    "\n",
    "Assumptions:\n",
    "\n",
    "* Sample sizes are equal, i.e., $n_1 = n_2$\n",
    "* Variances are equal, i.e., $\\sigma_1 = \\sigma_2$\n",
    "\n",
    "Calculate the p-value based on the t-distribution with $2n - 2$ degrees of freedom."
   ]
  },
  {
   "attachments": {},
   "cell_type": "markdown",
   "metadata": {
    "slideshow": {
     "slide_type": "subslide"
    }
   },
   "source": [
    "### Student's t-test for means (two samples)\n",
    "\n",
    "Calculating the test statistics for Student's t-test:\n",
    "\n",
    "$$t = \\frac{\\bar{x}_1 - \\bar{x}_2}{s_p \\cdot \\sqrt{\\frac{1}{n_1} + \\frac{1}{n_2}}}$$\n",
    "\n",
    "where:\n",
    "\n",
    "$$s_p = \\sqrt{\\frac{(n_1 - 1) \\cdot s^2_1 + (n_2 - 1) \\cdot s^2_2}{n_1 + n_2 - 2}}$$\n",
    "\n",
    "Assumptions:\n",
    "\n",
    "* Sample sizes are equal, i.e., $n_1 \\ne n_2$\n",
    "* Variances are similar, i.e., $\\frac{1}{2} \\lt \\frac{\\sigma_1}{\\sigma_2} \\lt 2$\n",
    "\n",
    "Calculate the p-value based on the t-distribution with $n_1 + n_2 - 2$ degrees of freedom."
   ]
  },
  {
   "attachments": {},
   "cell_type": "markdown",
   "metadata": {
    "slideshow": {
     "slide_type": "subslide"
    }
   },
   "source": [
    "### Student's t-test for means (two independent samples)\n",
    "\n",
    "Calculating the test statistics for Student's t-test:\n",
    "\n",
    "$$t = \\frac{\\bar{x}_1 - \\bar{x}_2}{s_{\\bar{\\Delta}}}$$\n",
    "\n",
    "where:\n",
    "\n",
    "$$s_{\\bar{\\Delta}} = \\sqrt{\\frac{s^2_1}{n_1} + \\frac{s^2_2}{n_2}}$$\n",
    "\n",
    "Assumptions:\n",
    "\n",
    "* Sample sizes are unequal, i.e., $n_1 \\ne n_2$\n",
    "* Variances are unequal, i.e., $\\sigma_1 \\gt 2 \\sigma_2$ or $\\sigma_2 \\gt 2 \\sigma_1$\n",
    "\n",
    "Calculate the p-value based on the t-distribution.\n",
    "Use [Welch-Satterthwaite](https://en.wikipedia.org/wiki/Welch%E2%80%93Satterthwaite_equation) equation to calculate the degrees of freedom."
   ]
  },
  {
   "attachments": {},
   "cell_type": "markdown",
   "metadata": {
    "slideshow": {
     "slide_type": "subslide"
    }
   },
   "source": [
    "### Example: Stopping Distance\n",
    "\n",
    "Suppose $\\mu_x$ and $\\mu_y$ are true mean stopping distances at 50 mph for cars of a certain type equipped with two different types of braking systems.\n",
    "\n",
    "Do both systems have the same mean stopping distance? Use significance level α = .01"
   ]
  },
  {
   "cell_type": "code",
   "execution_count": 2,
   "metadata": {},
   "outputs": [],
   "source": [
    "x = pd.Series([114, 114, 118, 118, 112, 111])\n",
    "y = pd.Series([133, 120, 124, 120, 116, 121, 110])"
   ]
  },
  {
   "attachments": {},
   "cell_type": "markdown",
   "metadata": {
    "slideshow": {
     "slide_type": "fragment"
    }
   },
   "source": [
    "* $H_0: \\mu_x = \\mu_y$\n",
    "* $H_1: \\mu_x \\neq \\mu_y$"
   ]
  },
  {
   "attachments": {},
   "cell_type": "markdown",
   "metadata": {
    "slideshow": {
     "slide_type": "subslide"
    }
   },
   "source": [
    "### Student's t-test for means (two independent samples)"
   ]
  },
  {
   "cell_type": "code",
   "execution_count": 3,
   "metadata": {},
   "outputs": [
    {
     "data": {
      "text/plain": [
       "0.07663322278868127"
      ]
     },
     "execution_count": 3,
     "metadata": {},
     "output_type": "execute_result"
    }
   ],
   "source": [
    "stat, pval = stats.ttest_ind(x, y)\n",
    "pval"
   ]
  },
  {
   "attachments": {},
   "cell_type": "markdown",
   "metadata": {
    "slideshow": {
     "slide_type": "slide"
    }
   },
   "source": [
    "### Student's t-test for means (two related samples)\n",
    "\n",
    "Calculating the test statistics for Student's t-test:\n",
    "\n",
    "$$t = \\frac{\\bar{x}_D - \\mu_0}{s_D / \\sqrt{n}}$$\n",
    "\n",
    "Calculate the p-value based on the t-distribution with $n - 1$ degrees of freedom."
   ]
  },
  {
   "attachments": {},
   "cell_type": "markdown",
   "metadata": {
    "slideshow": {
     "slide_type": "subslide"
    }
   },
   "source": [
    "### Example: Test Scores\n",
    "\n",
    "Test scores for 20 students before and after a training program:"
   ]
  },
  {
   "cell_type": "code",
   "execution_count": 4,
   "metadata": {},
   "outputs": [],
   "source": [
    "before = pd.Series([38, 53, 61, 27, 54, 55, 44, 45, 44, 41, 45, 40, 42, 51, 60, 49, 45, 41, 42, 74])\n",
    "after = pd.Series([61, 55, 56, 65, 53, 46, 66, 50, 60, 51, 71, 55, 53, 55, 44, 48, 38, 47, 57, 55])"
   ]
  },
  {
   "attachments": {},
   "cell_type": "markdown",
   "metadata": {},
   "source": [
    "Does the training improve in average the students scores? Use α = 5%"
   ]
  },
  {
   "attachments": {},
   "cell_type": "markdown",
   "metadata": {
    "slideshow": {
     "slide_type": "fragment"
    }
   },
   "source": [
    "* $H_0: \\mu_1 \\leq \\mu_0$\n",
    "* $H_1: \\mu_1 > \\mu_0$"
   ]
  },
  {
   "attachments": {},
   "cell_type": "markdown",
   "metadata": {
    "slideshow": {
     "slide_type": "subslide"
    }
   },
   "source": [
    "### Student's t-test for means (two related samples)"
   ]
  },
  {
   "cell_type": "code",
   "execution_count": 5,
   "metadata": {},
   "outputs": [
    {
     "data": {
      "text/plain": [
       "0.025676121095572903"
      ]
     },
     "execution_count": 5,
     "metadata": {},
     "output_type": "execute_result"
    }
   ],
   "source": [
    "stat, pval = stats.ttest_rel(after, before, alternative='greater')\n",
    "pval"
   ]
  },
  {
   "cell_type": "code",
   "execution_count": 6,
   "metadata": {},
   "outputs": [
    {
     "data": {
      "text/plain": [
       "0.025676121095572903"
      ]
     },
     "execution_count": 6,
     "metadata": {},
     "output_type": "execute_result"
    }
   ],
   "source": [
    "stat, pval = stats.ttest_1samp(after - before, popmean=0, alternative='greater')\n",
    "pval"
   ]
  },
  {
   "attachments": {},
   "cell_type": "markdown",
   "metadata": {
    "slideshow": {
     "slide_type": "slide"
    }
   },
   "source": [
    "### Excursion: Confidence Interval for Difference of Means\n",
    "\n",
    "Confidence interval:\n",
    "\n",
    "$$ \\bar{x}_1 - \\bar{x}_2 \\pm Z \\cdot s $$\n",
    "\n",
    "where $Z$ is the critical value and $s$ is the standard error:\n",
    "\n",
    "$$ s = \\sqrt{\\frac{s_1^2}{n_1} + \\frac{s_2^2}{n_2}} $$"
   ]
  },
  {
   "cell_type": "code",
   "execution_count": 7,
   "metadata": {
    "slideshow": {
     "slide_type": "subslide"
    }
   },
   "outputs": [
    {
     "data": {
      "text/plain": [
       "(-13.402367156297982, 1.2595100134408437)"
      ]
     },
     "execution_count": 7,
     "metadata": {},
     "output_type": "execute_result"
    }
   ],
   "source": [
    "def std_err(a, b):\n",
    "    return math.sqrt(a.std()**2 / a.size + b.std()**2 / b.size)\n",
    "\n",
    "def critical_value_t(alpha, df):\n",
    "    return stats.t.ppf(1 - alpha / 2, df)\n",
    "\n",
    "def ttest_ind_confint(a, b, alpha: float = .05):\n",
    "    x = a.mean() - b.mean() # center of CI\n",
    "    n = (a.size + b.size) / 2 # mean sample size\n",
    "    s = std_err(a, b) # standard error of the mean difference\n",
    "    z = critical_value_t(alpha, df=n-1)\n",
    "    half_length = s * z\n",
    "    return (x - half_length, x + half_length)\n",
    "\n",
    "ci = ttest_ind_confint(x, y, alpha=0.05)\n",
    "ci"
   ]
  },
  {
   "attachments": {},
   "cell_type": "markdown",
   "metadata": {
    "slideshow": {
     "slide_type": "slide"
    }
   },
   "source": [
    "### Z-test for proportions (two samples)\n",
    "\n",
    "Calculating the test statistics for proportions z-test:\n",
    "\n",
    "$$z = (p_1 - p_2) \\cdot \\sqrt{\\frac{p \\cdot (1 - p)}{\\frac{1}{n_1} + \\frac{1}{n_2}}}$$\n",
    "\n",
    "where:\n",
    "\n",
    "$$p = \\frac{p_1 \\cdot n_1 + p_2 \\cdot n_2}{n_1 + n_2}$$\n",
    "\n",
    "Calculate the p-value based on the normal distribution."
   ]
  },
  {
   "attachments": {},
   "cell_type": "markdown",
   "metadata": {
    "slideshow": {
     "slide_type": "subslide"
    }
   },
   "source": [
    "### Example: Production Plants\n",
    "\n",
    "Defective Items produced on two different production lines: \n",
    "\n",
    "* A: 12 defectives in a batch of 200\n",
    "$$12/200 = 0.06 = 6\\%$$\n",
    "* B: 24 defectives in a batch of 300\n",
    "$$24/300 = 0.08 = 8\\%$$\n",
    "\n",
    "Does B produce more defectives? Use $\\alpha = 5\\%$."
   ]
  },
  {
   "attachments": {},
   "cell_type": "markdown",
   "metadata": {
    "slideshow": {
     "slide_type": "fragment"
    }
   },
   "source": [
    "* $H_0: \\pi_B \\leq \\pi_A$\n",
    "* $H_1: \\pi_B > \\pi_A$"
   ]
  },
  {
   "attachments": {},
   "cell_type": "markdown",
   "metadata": {
    "slideshow": {
     "slide_type": "subslide"
    }
   },
   "source": [
    "### Z-test for proportions (two samples)"
   ]
  },
  {
   "cell_type": "code",
   "execution_count": 8,
   "metadata": {},
   "outputs": [
    {
     "data": {
      "text/plain": [
       "0.1983361310972807"
      ]
     },
     "execution_count": 8,
     "metadata": {},
     "output_type": "execute_result"
    }
   ],
   "source": [
    "from statsmodels.stats.proportion import proportions_ztest\n",
    "\n",
    "stat, pval = proportions_ztest(count=[24, 12], nobs=[300, 200],\n",
    "                               alternative='larger')\n",
    "pval"
   ]
  },
  {
   "attachments": {},
   "cell_type": "markdown",
   "metadata": {
    "slideshow": {
     "slide_type": "slide"
    }
   },
   "source": [
    "### Excursion: Confidence Interval for Difference of Proportions\n",
    "\n",
    "Confidence interval\n",
    "\n",
    "$$ \\hat{p_1} - \\hat{p_2} \\pm Z \\cdot s $$\n",
    "\n",
    "Where $Z$ is the critical value and the $s$ is the standard error:\n",
    "\n",
    "$$ s = \\sqrt{\\frac{\\hat{p_1} (1-\\hat{p_1})}{n_1} + \\frac{\\hat{p_2} (1-\\hat{p_2})}{n_2}}$$"
   ]
  },
  {
   "cell_type": "code",
   "execution_count": 9,
   "metadata": {
    "slideshow": {
     "slide_type": "subslide"
    }
   },
   "outputs": [
    {
     "data": {
      "text/plain": [
       "(-0.02500810243477687, 0.06500810243477688)"
      ]
     },
     "execution_count": 9,
     "metadata": {},
     "output_type": "execute_result"
    }
   ],
   "source": [
    "def proportions_std_err(count, nobs):\n",
    "    p1 = count[0] / nobs[0]\n",
    "    p2 = count[1] / nobs[1]\n",
    "    return math.sqrt(p1 * (1 - p1) / nobs[0] + p2 * (1 - p2) / nobs[1])\n",
    "\n",
    "def critical_value_norm(alpha):\n",
    "    return stats.norm.ppf(1 - alpha / 2)\n",
    "\n",
    "def proportions_ztest_confint(count, nobs, alpha: float = .05):\n",
    "    p1 = count[0] / nobs[0]\n",
    "    p2 = count[1] / nobs[1]\n",
    "    p = p1 - p2\n",
    "    s = proportions_std_err(count, nobs)\n",
    "    z = critical_value_norm(alpha)\n",
    "    half_length = s * z\n",
    "    return (p - half_length, p + half_length)\n",
    "\n",
    "ci = proportions_ztest_confint(count=[24, 12], nobs=[300, 200], alpha=0.05)\n",
    "ci"
   ]
  },
  {
   "attachments": {},
   "cell_type": "markdown",
   "metadata": {
    "slideshow": {
     "slide_type": "slide"
    }
   },
   "source": [
    "### Recap: Hypothesis Testing\n",
    "\n",
    "1. Answer the following questions, then select appropriate test:\n",
    "\n",
    "* One or two samples?\n",
    "* Mean or proportion?\n",
    "* If mean: independent or related populations?\n",
    "* Test for increase, decrease or any change?\n",
    "\n",
    "2. If one sample, find reference value.\n",
    "\n",
    "3. Execute test to find p-value and decide:\n",
    "\n",
    "* reject $H_0$ when $pval < \\alpha$\n",
    "* do not reject $H_0$ when $pval \\geq \\alpha$"
   ]
  }
 ],
 "metadata": {
  "kernelspec": {
   "display_name": "Python 3",
   "language": "python",
   "name": "python3"
  },
  "language_info": {
   "codemirror_mode": {
    "name": "ipython",
    "version": 3
   },
   "file_extension": ".py",
   "mimetype": "text/x-python",
   "name": "python",
   "nbconvert_exporter": "python",
   "pygments_lexer": "ipython3",
   "version": "3.8.10"
  },
  "orig_nbformat": 4,
  "vscode": {
   "interpreter": {
    "hash": "767d51c1340bd893661ea55ea3124f6de3c7a262a8b4abca0554b478b1e2ff90"
   }
  }
 },
 "nbformat": 4,
 "nbformat_minor": 2
}
