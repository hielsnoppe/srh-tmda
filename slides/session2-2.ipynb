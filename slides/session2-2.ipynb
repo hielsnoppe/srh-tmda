{
 "cells": [
  {
   "attachments": {},
   "cell_type": "markdown",
   "metadata": {
    "slideshow": {
     "slide_type": "slide"
    }
   },
   "source": [
    "# Tools and Methods of Data Analysis\n",
    "## Session 2 - Part 2\n",
    "\n",
    "Niels Hoppe <<niels.hoppe.extern@srh.de>>"
   ]
  },
  {
   "attachments": {},
   "cell_type": "markdown",
   "metadata": {
    "slideshow": {
     "slide_type": "slide"
    }
   },
   "source": [
    "## 1) Water Quality\n",
    "\n",
    "In a study, the quality of water was categorized as \"A\", \"B\", \"C\", \"D\" and \"F\".\n",
    "\n",
    "Generate sample data of 30 measurements in Python by:"
   ]
  },
  {
   "cell_type": "code",
   "execution_count": null,
   "metadata": {},
   "outputs": [],
   "source": [
    "df = pd.DataFrame(['A', 'B', 'C', 'D', 'F']).sample(30, replace=True)\n",
    "df.describe()"
   ]
  },
  {
   "attachments": {},
   "cell_type": "markdown",
   "metadata": {},
   "source": [
    "1. Form the frequency and the relative frequency (percentage) distributions.\n",
    "2. Plot the bar chart.\n",
    "3. Plot the pie chart."
   ]
  },
  {
   "attachments": {},
   "cell_type": "markdown",
   "metadata": {
    "slideshow": {
     "slide_type": "slide"
    }
   },
   "source": [
    "## 2) Design Specifications\n",
    "\n",
    "(quantitative and discrete variable)\n",
    "\n",
    "Temperature transducers of a certain type are shipped in batches of 50.\n",
    "A sample of 60 batches was selected, and the number of transducers in each batch not conforming to design specifications was determined, resulting in the following data.\n",
    "\n",
    "(Data: ex01.17)\n",
    "\n",
    "1. Determine absolute frequencies and relative frequencies for the observed values of x = number of nonconforming transducers in a batch.\n",
    "\n",
    "2. \n",
    "* What proportion of batches in the sample have at most five nonconforming transducers?\n",
    "* What proportion have fewer than five?\n",
    "* What proportion have at least five nonconforming units?\n",
    "\n",
    "3. Draw a bar plot of the data using relative frequency on the vertical scale, and comment on its features.\n",
    "4. Draw a pie chart of the data.\n",
    "5. Determine absolute cumulative frequencies and relative cumulative frequencies.\n",
    "6. Plot the empirical cumulative distribution function."
   ]
  },
  {
   "attachments": {},
   "cell_type": "markdown",
   "metadata": {
    "slideshow": {
     "slide_type": "slide"
    }
   },
   "source": [
    "## 3) Tensile Ultimate Strength (quantitative and continuous variable)\n",
    "\n",
    "Allowable mechanical properties for structural design of metallic aerospace vehicles requires an approved method for statistically analyzing empirical test data. The article “Establishing Mechanical Property Allowables for Metals” (J. of Testing and Evaluation, 1998: 293–299) used the accompanying data on tensile ultimate strength (ksi) as a basis for addressing the difficulties in developing such a method. (Data: ex01.13)\n",
    "\n",
    "1. Construct a histogram using equal-width classes with the first class having a lower limit of 122 and an upper limit of 126 (7 class intervals from 122 to 150). Then comment on any interesting features of the histogram.\n",
    "2. Determine absolute frequencies and relative frequencies.\n",
    "3. Determine absolute cumulative frequencies and relative cumulative frequencies.\n",
    "4. Plot the empirical cumulative distribution function."
   ]
  },
  {
   "attachments": {},
   "cell_type": "markdown",
   "metadata": {
    "slideshow": {
     "slide_type": "slide"
    }
   },
   "source": [
    "## 4) Plastic Rebars\n",
    "\n",
    "Corrosion of reinforcing steel is a serious problem in concrete structures located in environments affected by severe weather conditions.\n",
    "For this reason, researchers have been investigating the use of reinforcing bars made of composite material.\n",
    "One study was carried out to develop guidelines for bonding glass-fiber-reinforced plastic rebars to concrete (“Design Recommendations for Bond of GFRP Rebars to Concrete,” J. of Structural Engr., 1996: 247–254).\n",
    "Consider the following 48 observations on measured bond strength: (Data: xmp01.11)\n",
    "\n",
    "1. Construct a histogram. \n",
    "2. Determine absolute frequencies and relative frequencies.\n",
    "3. Determine absolute cumulative frequencies and relative cumulative frequencies.\n",
    "4. Plot the empirical cumulative distribution function."
   ]
  },
  {
   "attachments": {},
   "cell_type": "markdown",
   "metadata": {
    "slideshow": {
     "slide_type": "slide"
    }
   },
   "source": [
    "## 5) Electrical Power\n",
    "\n",
    "The article “Determination of Most Representative Subdivision” (J. of Energy Engr., 1993: 43–55) gave data on various characteristics of subdivisions that could be used in deciding whether to provide electrical power using overhead lines or underground lines. Here are the values of the variable $x$: total length of streets within a subdivision: (Data: ex01.20)\n",
    "\n",
    "1. Construct a histogram using class boundaries 0, 1000, 2000, 3000, 4000, 5000, and 6000. What proportion of subdivisions have total length less than 2000? Between 2000 and 4000? How would you describe the shape of the histogram?\n",
    "2. Determine absolute cumulative frequencies and relative cumulative frequencies.\n",
    "3. Plot the empirical cumulative distribution function.\n",
    "4. The article also gave the following values of the variables $y$ = number of culs-de-sac and $z$ = number of intersections. (Data: ex01.21) Construct a bar plot for the $y$ data. What proportion of these subdivisions had no culs-de-sac? At least one cul-de-sac?\n",
    "5. Construct a bar plot for the $z$ data. What proportion of these subdivisions had at most five intersections? Fewer than five intersections?"
   ]
  },
  {
   "attachments": {},
   "cell_type": "markdown",
   "metadata": {
    "slideshow": {
     "slide_type": "slide"
    }
   },
   "source": [
    "## 6) Wood\n",
    "\n",
    "The accompanying specific gravity values for various wood types used in construction appeared in the article “Bolted Connection Design Values Based on European Yield Model” (J. of Structural Engr., 1993: 2169–2186). (Data: ex01.12)\n",
    "\n",
    "1. Construct a histogram using class boundaries 0.3, 0.4, 0.5, 0.6, 0.7, and 0.8 .\n",
    "2. Determine absolute frequencies and relative frequencies.\n",
    "3. Determine absolute cumulative frequencies and relative cumulative frequencies."
   ]
  },
  {
   "attachments": {},
   "cell_type": "markdown",
   "metadata": {
    "slideshow": {
     "slide_type": "slide"
    }
   },
   "source": [
    "## 7) Work Stress and Pesticide Exposure\n",
    "\n",
    "Consider the following data on types of health complaint \n",
    "(J =  joint swelling, F = fatigue, B = back pain, M = muscle weakness, C = coughing, N = nose running/irritation, O = other) made by tree planters. Obtain absolute frequencies and relative frequencies for the various categories, and draw a bar plot and a pie chart. (The data is consistent with percentages given in the article “Physiological Effects of Work Stress and Pesticide Exposure in Tree Planting by British Columbia Silviculture Workers,” Ergonomics, 1993: 951–961.) (Data: ex01.29)"
   ]
  },
  {
   "attachments": {},
   "cell_type": "markdown",
   "metadata": {
    "slideshow": {
     "slide_type": "slide"
    }
   },
   "source": [
    "## 8) Alclad\n",
    "\n",
    "The accompanying data set consists of observations on shear strength (lb) of ultrasonic spot welds made on a certain type of alclad sheet. Construct a relative frequency histogram based on ten equal-width classes with boundaries 4000, 4200, …\n",
    "Calculate the relative cumulative frequencies.\n",
    "[The histogram will agree with the one in “Comparison of Properties of Joints Prepared by Ultrasonic Welding and Other Means” (J. of Aircraft, 1983: 552–556).] Comment on its features. (Data: ex01.24)"
   ]
  },
  {
   "attachments": {},
   "cell_type": "markdown",
   "metadata": {
    "slideshow": {
     "slide_type": "slide"
    }
   },
   "source": [
    "## 9) Cell Interdivision Time\n",
    "\n",
    "A transformation of data values by means of some mathematical function, such as log(x), or 1/x, can often yield a set of numbers that has “nicer” statistical properties than the original data. In particular, it may be possible to find a function for which the histogram of transformed values is more symmetric (or, even better, more like a bell-shaped curve) than the original data. As an example, the article “Time Lapse Cinematographic Analysis of Beryllium–Lung Fibroblast Interactions” (Environ. Research, 1983: 34–43) reported the results of experiments designed to study the behavior of certain individual cells that had been exposed to beryllium. An important characteristic of such an individual cell is its interdivision time (IDT). IDTs were determined for a large number of cells, both in exposed (treatment) and unexposed (control) conditions. The authors of the article used a logarithmic transformation, that is, transformed value = log(original value) (Data: ex01.25)\n",
    "\n",
    "Use class intervals 10, 20, 20, 30 … to construct a histogram of the original data. Use intervals 1.1, 1.2, 1.3 … to do the same for the transformed data. What is the effect of the transformation?"
   ]
  }
 ],
 "metadata": {
  "kernelspec": {
   "display_name": "Python 3",
   "language": "python",
   "name": "python3"
  },
  "language_info": {
   "codemirror_mode": {
    "name": "ipython",
    "version": 3
   },
   "file_extension": ".py",
   "mimetype": "text/x-python",
   "name": "python",
   "nbconvert_exporter": "python",
   "pygments_lexer": "ipython3",
   "version": "3.8.10"
  },
  "orig_nbformat": 4,
  "vscode": {
   "interpreter": {
    "hash": "767d51c1340bd893661ea55ea3124f6de3c7a262a8b4abca0554b478b1e2ff90"
   }
  }
 },
 "nbformat": 4,
 "nbformat_minor": 2
}
