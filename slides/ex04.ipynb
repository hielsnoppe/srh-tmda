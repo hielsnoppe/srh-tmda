{
 "cells": [
  {
   "attachments": {},
   "cell_type": "markdown",
   "metadata": {},
   "source": [
    "# Theoretical Probability Distributions"
   ]
  },
  {
   "cell_type": "code",
   "execution_count": 7,
   "metadata": {},
   "outputs": [],
   "source": [
    "from scipy import stats\n",
    "import seaborn as sns"
   ]
  },
  {
   "attachments": {},
   "cell_type": "markdown",
   "metadata": {},
   "source": [
    "## 1) Flaws\n",
    "\n",
    "A company knows from experience that 10% of its products have flaws and must be classified as \"seconds\".\n",
    "    \n",
    "1. Among six randomly selected products, how likely is it that only one is a second?\n",
    "2. Among six randomly selected products, what is the probability that at least two are seconds?\n",
    "3. If the products are examined one by one, what is the probability that at most five must be selected to find four that are not seconds?"
   ]
  },
  {
   "cell_type": "code",
   "execution_count": 31,
   "metadata": {},
   "outputs": [
    {
     "data": {
      "text/plain": [
       "<matplotlib.axes._subplots.AxesSubplot at 0x7f8c02897ac0>"
      ]
     },
     "execution_count": 31,
     "metadata": {},
     "output_type": "execute_result"
    },
    {
     "data": {
      "image/png": "[encoded data removed]",
      "text/plain": [
       "<Figure size 640x480 with 1 Axes>"
      ]
     },
     "metadata": {},
     "output_type": "display_data"
    }
   ],
   "source": [
    "sample = stats.binom.rvs(6, 0.1, size=10000)\n",
    "sns.histplot(data=sample, stat='proportion', discrete=True)\n",
    "sns.histplot(data=sample, stat='proportion', discrete=True, cumulative=True)"
   ]
  },
  {
   "cell_type": "code",
   "execution_count": 2,
   "metadata": {},
   "outputs": [
    {
     "data": {
      "text/plain": [
       "0.35429399999999994"
      ]
     },
     "execution_count": 2,
     "metadata": {},
     "output_type": "execute_result"
    }
   ],
   "source": [
    "# probability mass function\n",
    "stats.binom.pmf(1, 6, 0.1)"
   ]
  },
  {
   "cell_type": "code",
   "execution_count": 4,
   "metadata": {},
   "outputs": [
    {
     "data": {
      "text/plain": [
       "0.11426500000000006"
      ]
     },
     "execution_count": 4,
     "metadata": {},
     "output_type": "execute_result"
    }
   ],
   "source": [
    "# cumulative density function: 1 or 2 seconds\n",
    "1 - stats.binom.cdf(1, 6, 0.1)"
   ]
  },
  {
   "cell_type": "code",
   "execution_count": 5,
   "metadata": {},
   "outputs": [
    {
     "data": {
      "text/plain": [
       "0.91854"
      ]
     },
     "execution_count": 5,
     "metadata": {},
     "output_type": "execute_result"
    }
   ],
   "source": [
    "# cumulative density function\n",
    "stats.binom.cdf(1, 5, 0.1)"
   ]
  },
  {
   "attachments": {},
   "cell_type": "markdown",
   "metadata": {},
   "source": [
    "## 2) FDA Report on Pesticides in Food\n",
    "\n",
    "Every quarter, the U.S. Food and Drug Administration (FDA) produces a report called the Total Diet Study.\n",
    "The FDA’s report covers a variety of food items, each of which is analyzed for potentially harmful chemical compounds.\n",
    "A recent Total Diet Study reported that no pesticides at all were found in 60% of the domestically produced food samples (FDA Pesticide Program: Residue Monitoring, 2001).\n",
    "Consider a random sample of 100 food items analyzed for the presence of pesticides.\n",
    "\n",
    "1. Compute the expected value and the standard deviation for the random variable X, the number of food items found that showed no trace of pesticide.\n",
    "2. Based on a sample of 100 food items, is it likely you would observe less than half without any traces of pesticide! Calculate the probability.\n",
    "3. Repeat (b) using a normal distribution approximation."
   ]
  },
  {
   "cell_type": "code",
   "execution_count": 33,
   "metadata": {},
   "outputs": [
    {
     "data": {
      "text/plain": [
       "60.0"
      ]
     },
     "execution_count": 33,
     "metadata": {},
     "output_type": "execute_result"
    }
   ],
   "source": [
    "# expected value:\n",
    "100 * 0.6"
   ]
  },
  {
   "cell_type": "code",
   "execution_count": 38,
   "metadata": {},
   "outputs": [
    {
     "data": {
      "text/plain": [
       "4.898979485566356"
      ]
     },
     "execution_count": 38,
     "metadata": {},
     "output_type": "execute_result"
    }
   ],
   "source": [
    "import math\n",
    "# standard deviation\n",
    "std = math.sqrt(100 * 0.6 * 0.4)\n",
    "std"
   ]
  },
  {
   "cell_type": "code",
   "execution_count": 35,
   "metadata": {},
   "outputs": [
    {
     "data": {
      "text/plain": [
       "0.016761686503161465"
      ]
     },
     "execution_count": 35,
     "metadata": {},
     "output_type": "execute_result"
    }
   ],
   "source": [
    "stats.binom.cdf(49, 100, 0.6)"
   ]
  },
  {
   "cell_type": "code",
   "execution_count": 39,
   "metadata": {},
   "outputs": [
    {
     "data": {
      "text/plain": [
       "0.016044366989115627"
      ]
     },
     "execution_count": 39,
     "metadata": {},
     "output_type": "execute_result"
    }
   ],
   "source": [
    "stats.norm.cdf(49.5, 60, std)"
   ]
  },
  {
   "attachments": {},
   "cell_type": "markdown",
   "metadata": {},
   "source": [
    "## 3) Power Supply Units\n",
    "\n",
    "An electronics manufacturer claims that at most 5% of its power supply units need service during the warranty period.\n",
    "To investigate this claim, technicians at a testing laboratory purchase 20 units and subject each one to accelerated testing to simulate use during the warranty period.\n",
    "\n",
    "What is the expected value?\n",
    "\n",
    "Under the condition that the claim of the manufacturer is true, determine the probabilities of observing x = 0, x = 1, ..., x = 6 units among the 20 sampled that need repair. "
   ]
  },
  {
   "cell_type": "code",
   "execution_count": 41,
   "metadata": {},
   "outputs": [
    {
     "data": {
      "text/plain": [
       "1.0"
      ]
     },
     "execution_count": 41,
     "metadata": {},
     "output_type": "execute_result"
    }
   ],
   "source": [
    "ex = 20 * 0.05\n",
    "ex"
   ]
  },
  {
   "cell_type": "code",
   "execution_count": 44,
   "metadata": {},
   "outputs": [
    {
     "data": {
      "text/plain": [
       "[0.3584859224085419,\n",
       " 0.37735360253530753,\n",
       " 0.18867680126765404,\n",
       " 0.05958214776873281,\n",
       " 0.013327585685111266,\n",
       " 0.002244646010124003,\n",
       " 0.000295348159226843]"
      ]
     },
     "execution_count": 44,
     "metadata": {},
     "output_type": "execute_result"
    }
   ],
   "source": [
    "[stats.binom.pmf(x, 20, 0.05) for x in range(0, 7)]"
   ]
  },
  {
   "attachments": {},
   "cell_type": "markdown",
   "metadata": {},
   "source": [
    "## 4) Material Anomalies\n",
    "\n",
    "Let X be the number of material anomalies occurring in a particular region of an aircraft gas-turbine disk. The article “Methodology for Probabilistic Life Prediction of Multiple Anomaly Materials” (Amer. Inst. of Aeronautics and Astronautics J., 2006: 787–793) proposes a Poisson distribution for X. Suppose that expected value E(X) = 4.\n",
    "\n",
    "a. Compute both P(X ≤ 4) and P(X < 4).\n",
    "b. Compute P(4 ≤ X ≤ 8).\n",
    "c. Compute P(X ≥ 8).\n",
    "d. What is the probability that the number of anomalies exceeds its mean value by no more than one standard deviation?"
   ]
  },
  {
   "cell_type": "code",
   "execution_count": 45,
   "metadata": {},
   "outputs": [
    {
     "data": {
      "text/plain": [
       "0.6288369351798734"
      ]
     },
     "execution_count": 45,
     "metadata": {},
     "output_type": "execute_result"
    }
   ],
   "source": [
    "stats.poisson.cdf(4, 4)"
   ]
  },
  {
   "cell_type": "code",
   "execution_count": 46,
   "metadata": {},
   "outputs": [
    {
     "data": {
      "text/plain": [
       "0.43347012036670896"
      ]
     },
     "execution_count": 46,
     "metadata": {},
     "output_type": "execute_result"
    }
   ],
   "source": [
    "stats.poisson.cdf(3, 4)"
   ]
  },
  {
   "cell_type": "code",
   "execution_count": 47,
   "metadata": {},
   "outputs": [
    {
     "data": {
      "text/plain": [
       "0.5451664451453069"
      ]
     },
     "execution_count": 47,
     "metadata": {},
     "output_type": "execute_result"
    }
   ],
   "source": [
    "stats.poisson.cdf(8, 4) - stats.poisson.cdf(3, 4)"
   ]
  },
  {
   "cell_type": "code",
   "execution_count": 48,
   "metadata": {},
   "outputs": [
    {
     "data": {
      "text/plain": [
       "0.05113361579284725"
      ]
     },
     "execution_count": 48,
     "metadata": {},
     "output_type": "execute_result"
    }
   ],
   "source": [
    "1 - stats.poisson.cdf(7, 4)"
   ]
  },
  {
   "cell_type": "code",
   "execution_count": 51,
   "metadata": {},
   "outputs": [
    {
     "data": {
      "text/plain": [
       "0.7977478271537555"
      ]
     },
     "execution_count": 51,
     "metadata": {},
     "output_type": "execute_result"
    }
   ],
   "source": [
    "mean = 4 # = E(X)\n",
    "std = math.sqrt(mean) # 2\n",
    "stats.poisson.cdf(mean + std, mean) - stats.poisson.cdf(mean - std - 1, mean)"
   ]
  },
  {
   "attachments": {},
   "cell_type": "markdown",
   "metadata": {},
   "source": [
    "## 5) Airline fatalities\n",
    "\n",
    "US airlines average about 1.2 fatalities per month (Statistical Abstract of the United States: 2006). Assume the probability distribution for X, the number of fatalities per month, can be approximated by a Poisson probability distribution.\n",
    "\n",
    "a. What is the probability that no fatalities will occur during any given month?\n",
    "b. What is the probability that one fatality will occur during a month?\n",
    "c. Find E(X) and the standard deviation of X."
   ]
  },
  {
   "cell_type": "code",
   "execution_count": 52,
   "metadata": {},
   "outputs": [
    {
     "data": {
      "text/plain": [
       "0.30119421191220214"
      ]
     },
     "execution_count": 52,
     "metadata": {},
     "output_type": "execute_result"
    }
   ],
   "source": [
    "stats.poisson.pmf(0, 1.2)"
   ]
  },
  {
   "cell_type": "code",
   "execution_count": 53,
   "metadata": {},
   "outputs": [
    {
     "data": {
      "text/plain": [
       "0.36143305429464256"
      ]
     },
     "execution_count": 53,
     "metadata": {},
     "output_type": "execute_result"
    }
   ],
   "source": [
    "stats.poisson.pmf(1, 1.2)"
   ]
  },
  {
   "cell_type": "code",
   "execution_count": 55,
   "metadata": {},
   "outputs": [
    {
     "data": {
      "text/plain": [
       "1.0954451150103321"
      ]
     },
     "execution_count": 55,
     "metadata": {},
     "output_type": "execute_result"
    }
   ],
   "source": [
    "ex = 1.2\n",
    "std = math.sqrt(ex)\n",
    "std"
   ]
  },
  {
   "attachments": {},
   "cell_type": "markdown",
   "metadata": {},
   "source": [
    "## 6) Vinyl chloride emissions\n",
    "\n",
    "The U.S. Environmental Protection Agency (EPA) limits the amount of vinyl chloride in plant air emissions to no more than 10 parts per million. Suppose the mean emission of vinyl chloride for a particular plant is 4 parts per million. Assume that the number of parts per million of vinyl chloride in air samples X, follows a Poisson probability distribution.\n",
    "\n",
    "a. What is the standard deviation of X for the plant?\n",
    "b. Is it likely that a sample of air from the plant would yield a value of X that would exceed the EPA limit? Explain.\n",
    "c. Discuss conditions that would make the Poisson assumption plausible."
   ]
  },
  {
   "cell_type": "markdown",
   "metadata": {},
   "source": [
    "## 7) Concentration of Influent\n",
    "\n",
    "The article “Reliability of Domestic-Waste Biofilm Reactors” (J. of Envir. Engr., 1995: 785–790) suggests that substrate concentration (mg/cm³) of influent to a reactor is normally distributed with μ = 0.30 and σ = 0.06.\n",
    "    a. What is the probability that the concentration exceeds 0.25?\n",
    "    b. What is the probability that the concentration is at most 0.20?\n",
    "    c. How would you characterize the largest 5% of all concentration values?"
   ]
  },
  {
   "cell_type": "markdown",
   "metadata": {},
   "source": [
    "## 8) Steel\n",
    "\n",
    "The article “Monte Carlo Simulation—Tool for Better Understanding of LRFD” (J. of Structural Engr., 1993: 1586–1599) suggests that yield strength (ksi) for A36 grade steel is normally distributed with μ = 43 and σ = 4.5.\n",
    "    a. What is the probability that yield strength is at most 40? Greater than 50?\n",
    "    b. What yield strength value separates the strongest 75% from the others?\n",
    "    c. Find the symmetrical interval around mean that contains 95% of the cases."
   ]
  },
  {
   "cell_type": "markdown",
   "metadata": {},
   "source": [
    "## 9) Resistors\n",
    "\n",
    "The distribution of resistance for resistors of a certain type is known to be normal, with 10% of all resistors having a resistance exceeding 10.256 ohms and 5% having a resistance smaller than 9.671 ohms. What are the mean value and standard deviation of the resistance distribution? "
   ]
  },
  {
   "cell_type": "markdown",
   "metadata": {},
   "source": [
    "## 10) Rockwell Hardness\n",
    "\n",
    "The Rockwell hardness of a metal is determined by impressing a hardened point into the surface of the metal and then measuring the depth of penetration of the point. Suppose the Rockwell hardness of a particular alloy is normally distributed with mean 70 and standard deviation 3. (Rockwell hardness is measured on a continuous scale.)\n",
    "    a. If a specimen is acceptable only if its hardness is between 67 and 75, what is the probability that a randomly chosen specimen has an acceptable hardness?\n",
    "    b. If the acceptable range of hardness is (70 - c, 70 + c), for what value of c would 95% of all specimens have acceptable hardness?\n",
    "    c. If the acceptable range is as in part (a) and the hardness of each of ten randomly selected specimens is independently determined, what is the expected number of acceptable specimens among the ten?"
   ]
  }
 ],
 "metadata": {
  "kernelspec": {
   "display_name": "Python 3",
   "language": "python",
   "name": "python3"
  },
  "language_info": {
   "codemirror_mode": {
    "name": "ipython",
    "version": 3
   },
   "file_extension": ".py",
   "mimetype": "text/x-python",
   "name": "python",
   "nbconvert_exporter": "python",
   "pygments_lexer": "ipython3",
   "version": "3.8.10 (default, Nov 14 2022, 12:59:47) \n[GCC 9.4.0]"
  },
  "orig_nbformat": 4,
  "vscode": {
   "interpreter": {
    "hash": "767d51c1340bd893661ea55ea3124f6de3c7a262a8b4abca0554b478b1e2ff90"
   }
  }
 },
 "nbformat": 4,
 "nbformat_minor": 2
}
