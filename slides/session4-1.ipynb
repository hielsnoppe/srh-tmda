{
 "cells": [
  {
   "attachments": {},
   "cell_type": "markdown",
   "metadata": {
    "slideshow": {
     "slide_type": "slide"
    }
   },
   "source": [
    "# Tools and Methods of Data Analysis\n",
    "## Session 4 - Part 1\n",
    "\n",
    "Niels Hoppe <<niels.hoppe.extern@srh.de>>"
   ]
  },
  {
   "attachments": {},
   "cell_type": "markdown",
   "metadata": {
    "slideshow": {
     "slide_type": "slide"
    }
   },
   "source": [
    "### Terminology\n",
    "\n",
    "**Random experiment**: Procedure with well-defined set of possible outcomes\n",
    "\n",
    "**Outcome**: Result of a random experiment\n",
    "\n",
    "**Random variable**: Mapping from outcomes to measurable space"
   ]
  },
  {
   "attachments": {},
   "cell_type": "markdown",
   "metadata": {
    "slideshow": {
     "slide_type": "slide"
    }
   },
   "source": [
    "### More Terminology\n",
    "\n",
    "**Event**: Zero or more outcomes of a random experiement\n",
    "\n",
    "**Elementary event**: A single outcome in sample space\n",
    "\n",
    "**Composite event**: A combination of elementary events\n",
    "\n",
    "**Complementary event**: The event of another event **not** happening\n",
    "\n",
    "**Sample space**: Set of all possible outcomes of a random experiment\n",
    "\n",
    "**Probability**: The chance that an uncertainn event will occur [0.0 .. 1.0]"
   ]
  },
  {
   "attachments": {},
   "cell_type": "markdown",
   "metadata": {
    "slideshow": {
     "slide_type": "slide"
    }
   },
   "source": [
    "### Types of Probability\n",
    "\n",
    "There are three approaches to assess the probability of an uncertain event:\n",
    "\n",
    "1. **a priori probability**: the probability of an event is based on prior knowledge of the process involved.\n",
    "2. **empirical probability**: the probability of an event is based on observed data.\n",
    "3. **subjective probability**: the probability of an event is determined by an individual, based on that person's past experience and personal opinion."
   ]
  },
  {
   "attachments": {},
   "cell_type": "markdown",
   "metadata": {
    "slideshow": {
     "slide_type": "slide"
    }
   },
   "source": [
    "### Calculating Probability\n",
    "\n",
    "1. **a priori probability**: probability of occurrence\n",
    "\n",
    "$$= \\frac{X}{T} = \\frac{\\text{number of ways the event can occur}}{\\text{total number of possible outcomes}}$$\n",
    "\n",
    "2. **empirical a posteriori probability**: probability of occurrence\n",
    "\n",
    "$$= \\frac{\\text{number of favorable outcomes observed}}{\\text{total number of outcomes observed}}$$\n",
    "\n",
    "Assumption: All outcomes are equally likely"
   ]
  },
  {
   "attachments": {},
   "cell_type": "markdown",
   "metadata": {
    "slideshow": {
     "slide_type": "slide"
    }
   },
   "source": [
    "Example of empirical classical probability\n",
    "\n",
    "Find the probability of selecting a male student taking a statistics class from the population described in the following table:\n",
    "\n",
    "| | taking stats | not taking stats | total |\n",
    "|--------|-----|-----|-----|\n",
    "| male   |  84 | 145 | 229 |\n",
    "| female |  76 | 134 | 210 |\n",
    "| total  | 160 | 279 | 439 |\n",
    "\n",
    "P(male taking stats) = # males taking stats / total # of students = 84 / 439 = 0.191"
   ]
  },
  {
   "attachments": {},
   "cell_type": "markdown",
   "metadata": {
    "slideshow": {
     "slide_type": "slide"
    }
   },
   "source": [
    "### Examples of Sample Space\n",
    "\n",
    "The sample space is the collection of all possible events\n",
    "\n",
    "* All six faces of a die\n",
    "* All 52 cards in a deck of cards\n",
    "* All possible outcomes in a production, e.g., \"good\" or \"defective\""
   ]
  },
  {
   "attachments": {},
   "cell_type": "markdown",
   "metadata": {
    "slideshow": {
     "slide_type": "slide"
    }
   },
   "source": [
    "### Events in Sample Space\n",
    "\n",
    "**Elementary event**: An outcome from a sample space with *one characteristic*, e.g., a red card from a deck of cards\n",
    "\n",
    "**Complement of an event**: All outcomes that are not part of the event, e.g., all cards that are *not* diamonds\n",
    "\n",
    "**Composite event**: Involves *two or more characteristics* simultaneously, e.g., an ace *that is also* red from a deck of cards"
   ]
  },
  {
   "attachments": {},
   "cell_type": "markdown",
   "metadata": {
    "slideshow": {
     "slide_type": "slide"
    }
   },
   "source": [
    "#### Exercise: Elementary and Complementary Events\n",
    "\n",
    "Given a family consisting of a mother, a father and two children,\n",
    "we observe the following events:\n",
    "\n",
    "* M: mother is myopic (near-sighted)\n",
    "* F: father is myopic\n",
    "* C1: first child is myopic\n",
    "* C2: second child is myopic\n",
    "* C: At least one child is myopic\n",
    "* P: At least one parent is myopic\n",
    "* A: At least one person in the family is myopic\n",
    "\n",
    "1. What does D = (M and F) express?\n",
    "2. What does (M or F) express?\n",
    "3. Are C1 and C2 mutually exclusive?\n",
    "4. What does (C1 or C) express?\n",
    "5. What does (not C1 and C) express?\n",
    "6. Express P with M and F\n",
    "7. Express A with C and P\n",
    "8. What does not M express?\n",
    "9. Express not P with M and P\n",
    "10. Express not A with C and P\n",
    "11. Express not D with M and F"
   ]
  },
  {
   "attachments": {},
   "cell_type": "markdown",
   "metadata": {
    "slideshow": {
     "slide_type": "slide"
    }
   },
   "source": [
    "### Visualizing Events in Sample Space\n",
    "\n",
    "Contingency Tables:\n",
    "\n",
    "| | Ace | Not Ace | Total |\n",
    "|-------|-----|-|-|\n",
    "| Black | 2 | 24 | 26 |\n",
    "| Red   | 2 | 24 | 26 |\n",
    "| Total | 4 | 48 | 52 |\n",
    "\n",
    "Tree diagram: See whiteboard"
   ]
  },
  {
   "attachments": {},
   "cell_type": "markdown",
   "metadata": {
    "slideshow": {
     "slide_type": "slide"
    }
   },
   "source": [
    "### Definitions Simple vs. Joint Probability\n",
    "\n",
    "**Simple (Marginal) Probability**: probability of an elementary event, e.g.,\n",
    "\n",
    "$$P(King)$$\n",
    "\n",
    "**Joint Probability**: probabililty of an occurrence of two or more events, e.g.,\n",
    "\n",
    "$$P(King \\land Spades)$$"
   ]
  },
  {
   "attachments": {},
   "cell_type": "markdown",
   "metadata": {
    "slideshow": {
     "slide_type": "subslide"
    }
   },
   "source": [
    "#### Example: Marginal (Simple) Probability\n",
    "\n",
    "P(Ace) = P(Ace and Red) + P(Ace and Black) = 2/52 + 2/52 = 4/52\n",
    "\n",
    "| | Ace | Not Ace | Total |\n",
    "|-------|-----|-|-|\n",
    "| Black | 2 | 24 | 26 |\n",
    "| Red   | 2 | 24 | 26 |\n",
    "| Total | 4 | 48 | 52 |"
   ]
  },
  {
   "attachments": {},
   "cell_type": "markdown",
   "metadata": {
    "slideshow": {
     "slide_type": "subslide"
    }
   },
   "source": [
    "#### Example: Joint Probability\n",
    "\n",
    "P(Red and Ace) = # red cards that are aces / total # cards = 2 / 52\n",
    "\n",
    "| | Ace | Not Ace | Total |\n",
    "|-------|-----|-|-|\n",
    "| Black | 2 | 24 | 26 |\n",
    "| Red   | 2 | 24 | 26 |\n",
    "| Total | 4 | 48 | 52 |"
   ]
  },
  {
   "attachments": {},
   "cell_type": "markdown",
   "metadata": {
    "slideshow": {
     "slide_type": "slide"
    }
   },
   "source": [
    "### General Addition Rule\n",
    "\n",
    "$$P(A \\lor B) = P(A) + P(B) - P(A \\land B)$$\n",
    "\n",
    "If A and B are mutually exclusive, i.e., $P(A \\land B) = 0$, this simplifies to\n",
    "\n",
    "$$P(A \\lor B) = P(A) + P(B)$$"
   ]
  },
  {
   "attachments": {},
   "cell_type": "markdown",
   "metadata": {
    "slideshow": {
     "slide_type": "subslide"
    }
   },
   "source": [
    "### General Addition Rule: Example\n",
    "\n",
    "From the population described in the following contingency table, find the probability of selecting\n",
    "\n",
    "1. a male student\n",
    "2. a female student\n",
    "3. a female student taking stats\n",
    "4. a male student or a student taking stats\n",
    "\n",
    "| | taking stats | not taking stats | total |\n",
    "|--------|-----|-----|-----|\n",
    "| male   |  84 | 145 | 229 |\n",
    "| female |  76 | 134 | 210 |\n",
    "| total  | 160 | 279 | 439 |"
   ]
  },
  {
   "attachments": {},
   "cell_type": "markdown",
   "metadata": {
    "slideshow": {
     "slide_type": "fragment"
    }
   },
   "source": [
    "1. P(male) = 229/439\n",
    "2. P(female) = 210/439\n",
    "3. P(female and stats) = 76/439\n",
    "4. P(male or stats) = P(male) + P(stats) - P(male and stats) = 229/439 + 160/439 - 84/439 = 305/439"
   ]
  },
  {
   "attachments": {},
   "cell_type": "markdown",
   "metadata": {
    "slideshow": {
     "slide_type": "slide"
    }
   },
   "source": [
    "### Calculating Probabilities\n",
    "\n",
    "In a box there are six green and four red balls\n",
    "\n",
    "What is the probability of choosing a green ball?\n",
    "\n",
    "$$P(G) = 6 / 10$$"
   ]
  },
  {
   "attachments": {},
   "cell_type": "markdown",
   "metadata": {
    "slideshow": {
     "slide_type": "fragment"
    }
   },
   "source": [
    "\n",
    "What is the probability of choosing a green ball in the second attempt (without replacing the first ball)?\n",
    "\n",
    "It depends on the first outcome!\n",
    "\n",
    "$$P(G_2 | G_1) = 5 / 9$$\n",
    "$$P(G_2 | R_1) = 6 / 9$$"
   ]
  },
  {
   "attachments": {},
   "cell_type": "markdown",
   "metadata": {
    "slideshow": {
     "slide_type": "slide"
    }
   },
   "source": [
    "### Conditional Probability\n",
    "\n",
    "Conditional probability is the probability of one event, given that another event has occurred:\n",
    "\n",
    "$$P(A | B) = P(A \\land B) / P(B)$$\n",
    "\n",
    "$$P(B | A) = P(A \\land B) / P(A)$$\n",
    "\n",
    "Where P(A and B) is the *joint probability* of A and B and P(A) and P(B) are the *marginal probabilities* of A and B respectively."
   ]
  },
  {
   "attachments": {},
   "cell_type": "markdown",
   "metadata": {
    "slideshow": {
     "slide_type": "subslide"
    }
   },
   "source": [
    "#### Conditional Probability: Example\n",
    "\n",
    "From the population described in the following contingency table, find the probability of selecting\n",
    "\n",
    "1. from all male students one who is taking stats\n",
    "2. from all stats students one who is female\n",
    "\n",
    "| | taking stats | not taking stats | total |\n",
    "|--------|-----|-----|-----|\n",
    "| male   |  84 | 145 | 229 |\n",
    "| female |  76 | 134 | 210 |\n",
    "| total  | 160 | 279 | 439 |"
   ]
  },
  {
   "attachments": {},
   "cell_type": "markdown",
   "metadata": {
    "slideshow": {
     "slide_type": "fragment"
    }
   },
   "source": [
    "1. P(stats | male) = P(stats and male) / P(male) = 84/229\n",
    "2. P(female | stats) = P(female and stats) / P(stats) = 76/160"
   ]
  },
  {
   "attachments": {},
   "cell_type": "markdown",
   "metadata": {
    "slideshow": {
     "slide_type": "slide"
    }
   },
   "source": [
    "### Statistical Independence\n",
    "\n",
    "Two events are independent iff:\n",
    "\n",
    "$$P(A | B) = P(A)$$\n",
    "    \n",
    "$$P(B | A) = P(B)$$\n",
    "\n",
    "i.e., the probabililty of one event is not affected by the other"
   ]
  },
  {
   "attachments": {},
   "cell_type": "markdown",
   "metadata": {
    "slideshow": {
     "slide_type": "slide"
    }
   },
   "source": [
    "### Multiplication Rule\n",
    "\n",
    "The joint probability of A and B is calculated like this:\n",
    "\n",
    "$$P(A \\land B) = P(A | B) \\cdot P(B)$$\n",
    "\n",
    "For independent events where P(A | B) = P(A) this simplifies to\n",
    "\n",
    "$$P(A \\land B) = P(A) \\cdot P(B)$$"
   ]
  },
  {
   "attachments": {},
   "cell_type": "markdown",
   "metadata": {
    "slideshow": {
     "slide_type": "subslide"
    }
   },
   "source": [
    "#### Birthday Paradox\n",
    "\n",
    "In a group of N people, what is the probability of at least two people sharing their birthday?"
   ]
  },
  {
   "cell_type": "code",
   "execution_count": 5,
   "metadata": {
    "slideshow": {
     "slide_type": "fragment"
    }
   },
   "outputs": [
    {
     "data": {
      "text/plain": [
       "<matplotlib.axes._subplots.AxesSubplot at 0x7f1679eb19d0>"
      ]
     },
     "execution_count": 5,
     "metadata": {},
     "output_type": "execute_result"
    },
    {
     "data": {
      "image/png": "[encoded data removed]",
      "text/plain": [
       "<Figure size 640x480 with 1 Axes>"
      ]
     },
     "metadata": {},
     "output_type": "display_data"
    }
   ],
   "source": [
    "def birthday(n):\n",
    "    return 1.0 - math.prod([x / 365.0 for x in range(365 - n + 1, 365)])\n",
    "\n",
    "import pandas as pd\n",
    "\n",
    "df = pd.DataFrame([birthday(n) for n in range(1, 366)], columns=['p'])\n",
    "df.plot.bar()"
   ]
  },
  {
   "attachments": {},
   "cell_type": "markdown",
   "metadata": {
    "slideshow": {
     "slide_type": "slide"
    }
   },
   "source": [
    "### Screening Tests\n",
    "\n",
    "Screening tests are characterized by their sensitivity and specificity:\n",
    "\n",
    "**Sensitivity s**: Probability of detecting a condition when it is actually present\n",
    "\n",
    "$$s = P(T | C)$$\n",
    "\n",
    "**Specificity z**: Probability of not detecting a condition when it is actually not present\n",
    "\n",
    "$$z = P(\\neg T | \\neg C)$$\n",
    "\n",
    "**Prevalence p**: Proportion of people with a certain condition to the total number of people\n",
    "\n",
    "$$p = P(C)$$"
   ]
  },
  {
   "attachments": {},
   "cell_type": "markdown",
   "metadata": {
    "slideshow": {
     "slide_type": "subslide"
    }
   },
   "source": [
    "### Screening Tests (cont.)\n",
    "\n",
    "**Positive Predictive Value**: Probability of the condition being true, given that the test is positive\n",
    "\n",
    "$$PPV = P(C | T)$$\n",
    "\n",
    "**False Positive**: Probability of the condition being false, given that the test is positive\n",
    "\n",
    "$$FP = P(\\neg C | T)$$\n",
    "\n",
    "**Negative Predictive Value**: Probability of the condition being false, given that the test is negative\n",
    "\n",
    "$$NPV = P(\\neg C | \\neg T)$$\n",
    "\n",
    "**False Negative**: Probability of the condition being true, given that the test is negative\n",
    "\n",
    "$$FN = P(C | \\neg T)$$"
   ]
  },
  {
   "attachments": {},
   "cell_type": "markdown",
   "metadata": {
    "slideshow": {
     "slide_type": "subslide"
    }
   },
   "source": [
    "#### Screening Tests: Example\n",
    "\n",
    "|     | $C$  | $\\bar{C}$ | Sum   |\n",
    "|-----|------|-----------|-------|\n",
    "| T+  |  180 |      1470 |  1650 |\n",
    "| T-  |   20 |      8330 |  8350 |\n",
    "| Sum |  200 |      9800 | 10000 |\n",
    "\n",
    "$$PPV = P(C | T+) = 180 / (180 + 1470) = 0.109$$\n",
    "$$FP = P(\\bar{C} | T+) = 1470 / 1650 = 0.891$$\n",
    "$$NPV = P(\\bar{C} | T-) = 8330 / (20 + 8330) = 0.9976$$\n",
    "$$FN = P(C | T-) = 20 / 8350 = 0.0024$$"
   ]
  },
  {
   "attachments": {},
   "cell_type": "markdown",
   "metadata": {
    "slideshow": {
     "slide_type": "subslide"
    }
   },
   "source": [
    "#### Screening Tests: Exercise\n",
    "\n",
    "A screening test for PSA (Prostate-Specific Antigen) should be applied to a population of men.\n",
    "The test has a sensitivity $s = 80\\%$ and a specificity of $z = 65\\%$.\n",
    "The prevalence of prostate cancer in this group is $p = 3\\%$.\n",
    "\n",
    "Calculate the positive and negative predictive values."
   ]
  },
  {
   "attachments": {},
   "cell_type": "markdown",
   "metadata": {
    "slideshow": {
     "slide_type": "fragment"
    }
   },
   "source": [
    "|           | $C$                | $\\bar{C}$            | Total  |\n",
    "|-----------|--------------------|----------------------|--------|\n",
    "| $T$       | 0.8 * 0.03 = 0.024 | 0.35 * 0.97 = 0.3395 | 0.3635 |\n",
    "| $\\bar{T}$ | 0.2 * 0.03 = 0.006 | 0.65 * 0.97 = 0.6305 | 0.6365 |\n",
    "| Total     | 0.03               | 0.97                 | 1.0    |\n",
    "\n",
    "$$PPV = P(C | T) = 0.024 / (0.024 + 0.3395) = 0.066$$\n",
    "\n",
    "$$NPV = P(\\bar{C} | \\bar{T}) = 0.6305 / (0.006 + 0.6305) = 0.991$$"
   ]
  },
  {
   "attachments": {},
   "cell_type": "markdown",
   "metadata": {
    "slideshow": {
     "slide_type": "skip"
    }
   },
   "source": [
    "### Bayes' Theorem\n",
    "\n",
    "Bayes' Theorem is used to revise previously calculated probabilities based on new information.\n",
    "It is an extension of conditional probability\n",
    "\n",
    "$$P(A | B) = P(B | A) \\cdot \\frac{P(A)}{P(B)}$$"
   ]
  },
  {
   "cell_type": "markdown",
   "metadata": {
    "slideshow": {
     "slide_type": "slide"
    }
   },
   "source": [
    "### Combinatorics in Python"
   ]
  },
  {
   "cell_type": "code",
   "execution_count": null,
   "metadata": {},
   "outputs": [
    {
     "data": {
      "text/plain": [
       "[(2, 'Clubs'),\n",
       " (2, 'Hearts'),\n",
       " (2, 'Spades'),\n",
       " (2, 'Diamonds'),\n",
       " (3, 'Clubs'),\n",
       " (3, 'Hearts'),\n",
       " (3, 'Spades'),\n",
       " (3, 'Diamonds'),\n",
       " (4, 'Clubs'),\n",
       " (4, 'Hearts'),\n",
       " (4, 'Spades'),\n",
       " (4, 'Diamonds'),\n",
       " (5, 'Clubs'),\n",
       " (5, 'Hearts'),\n",
       " (5, 'Spades'),\n",
       " (5, 'Diamonds'),\n",
       " (6, 'Clubs'),\n",
       " (6, 'Hearts'),\n",
       " (6, 'Spades'),\n",
       " (6, 'Diamonds'),\n",
       " (7, 'Clubs'),\n",
       " (7, 'Hearts'),\n",
       " (7, 'Spades'),\n",
       " (7, 'Diamonds'),\n",
       " (8, 'Clubs'),\n",
       " (8, 'Hearts'),\n",
       " (8, 'Spades'),\n",
       " (8, 'Diamonds'),\n",
       " (9, 'Clubs'),\n",
       " (9, 'Hearts'),\n",
       " (9, 'Spades'),\n",
       " (9, 'Diamonds'),\n",
       " (10, 'Clubs'),\n",
       " (10, 'Hearts'),\n",
       " (10, 'Spades'),\n",
       " (10, 'Diamonds'),\n",
       " ('Jake', 'Clubs'),\n",
       " ('Jake', 'Hearts'),\n",
       " ('Jake', 'Spades'),\n",
       " ('Jake', 'Diamonds'),\n",
       " ('Queen', 'Clubs'),\n",
       " ('Queen', 'Hearts'),\n",
       " ('Queen', 'Spades'),\n",
       " ('Queen', 'Diamonds'),\n",
       " ('King', 'Clubs'),\n",
       " ('King', 'Hearts'),\n",
       " ('King', 'Spades'),\n",
       " ('King', 'Diamonds'),\n",
       " ('Ace', 'Clubs'),\n",
       " ('Ace', 'Hearts'),\n",
       " ('Ace', 'Spades'),\n",
       " ('Ace', 'Diamonds')]"
      ]
     },
     "metadata": {},
     "output_type": "display_data"
    }
   ],
   "source": [
    "import itertools\n",
    "\n",
    "cards = list(itertools.product(\n",
    "    [ 2, 3, 4, 5, 6, 7, 8, 9, 10, 'Jake', 'Queen', 'King', 'Ace' ],\n",
    "    [ 'Clubs', 'Hearts', 'Spades', 'Diamonds' ]\n",
    "))\n",
    "cards"
   ]
  },
  {
   "cell_type": "markdown",
   "metadata": {
    "slideshow": {
     "slide_type": "subslide"
    }
   },
   "source": [
    "### Combinatorics in Python"
   ]
  },
  {
   "cell_type": "code",
   "execution_count": null,
   "metadata": {},
   "outputs": [
    {
     "name": "stdout",
     "output_type": "stream",
     "text": [
      "10 [(1, 2), (1, 3), (1, 4), (1, 5), (1, 6), (2, 3), (2, 4), (2, 5), (2, 6), (3, 4), (3, 5), (3, 6), (4, 5), (4, 6), (5, 6)]\n",
      "   [(1, 1), (1, 2), (1, 3), (1, 4), (1, 5), (1, 6), (2, 2), (2, 3), (2, 4), (2, 5), (2, 6), (3, 3), (3, 4), (3, 5), (3, 6), (4, 4), (4, 5), (4, 6), (5, 5), (5, 6), (6, 6)]\n",
      "20 [(1, 2), (1, 3), (1, 4), (1, 5), (1, 6), (2, 1), (2, 3), (2, 4), (2, 5), (2, 6), (3, 1), (3, 2), (3, 4), (3, 5), (3, 6), (4, 1), (4, 2), (4, 3), (4, 5), (4, 6), (5, 1), (5, 2), (5, 3), (5, 4), (5, 6), (6, 1), (6, 2), (6, 3), (6, 4), (6, 5)]\n"
     ]
    }
   ],
   "source": [
    "import math\n",
    "import itertools\n",
    "\n",
    "comb = itertools.combinations(range(1, 7), 2)\n",
    "ncomb = math.comb(5, 2)\n",
    "\n",
    "combr = itertools.combinations_with_replacement(range(1, 7), 2)\n",
    "\n",
    "perm = itertools.permutations(range(1, 7), 2)\n",
    "nperm = math.perm(5, 2)\n",
    "\n",
    "print(ncomb, [c for c in comb])\n",
    "print('  ', [c for c in combr])\n",
    "print(nperm, [p for p in perm])"
   ]
  },
  {
   "cell_type": "markdown",
   "metadata": {
    "slideshow": {
     "slide_type": "slide"
    }
   },
   "source": [
    "### Sampling in Python"
   ]
  },
  {
   "cell_type": "code",
   "execution_count": null,
   "metadata": {},
   "outputs": [
    {
     "data": {
      "text/html": [
       "<div>\n",
       "<style scoped>\n",
       "    .dataframe tbody tr th:only-of-type {\n",
       "        vertical-align: middle;\n",
       "    }\n",
       "\n",
       "    .dataframe tbody tr th {\n",
       "        vertical-align: top;\n",
       "    }\n",
       "\n",
       "    .dataframe thead th {\n",
       "        text-align: right;\n",
       "    }\n",
       "</style>\n",
       "<table border=\"1\" class=\"dataframe\">\n",
       "  <thead>\n",
       "    <tr style=\"text-align: right;\">\n",
       "      <th></th>\n",
       "      <th>0</th>\n",
       "    </tr>\n",
       "  </thead>\n",
       "  <tbody>\n",
       "    <tr>\n",
       "      <th>8</th>\n",
       "      <td>R</td>\n",
       "    </tr>\n",
       "    <tr>\n",
       "      <th>2</th>\n",
       "      <td>G</td>\n",
       "    </tr>\n",
       "  </tbody>\n",
       "</table>\n",
       "</div>"
      ],
      "text/plain": [
       "   0\n",
       "8  R\n",
       "2  G"
      ]
     },
     "metadata": {},
     "output_type": "display_data"
    }
   ],
   "source": [
    "import pandas as pd\n",
    "\n",
    "df = pd.DataFrame(\n",
    "    ['G', 'G', 'G', 'G', 'G', 'G', 'R', 'R', 'R', 'R']\n",
    "    ).sample(2, replace=False)\n",
    "df"
   ]
  }
 ],
 "metadata": {
  "kernelspec": {
   "display_name": "Python 3",
   "language": "python",
   "name": "python3"
  },
  "language_info": {
   "codemirror_mode": {
    "name": "ipython",
    "version": 3
   },
   "file_extension": ".py",
   "mimetype": "text/x-python",
   "name": "python",
   "nbconvert_exporter": "python",
   "pygments_lexer": "ipython3",
   "version": "3.8.10"
  },
  "orig_nbformat": 4,
  "vscode": {
   "interpreter": {
    "hash": "767d51c1340bd893661ea55ea3124f6de3c7a262a8b4abca0554b478b1e2ff90"
   }
  }
 },
 "nbformat": 4,
 "nbformat_minor": 2
}
