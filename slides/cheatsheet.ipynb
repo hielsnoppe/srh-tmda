{
 "cells": [
  {
   "attachments": {},
   "cell_type": "markdown",
   "metadata": {
    "slideshow": {
     "slide_type": "slide"
    }
   },
   "source": [
    "# Cheat Sheet\n",
    "\n",
    "This is **the only acceptable auxiliary means** for the exercises and the exam."
   ]
  },
  {
   "attachments": {},
   "cell_type": "markdown",
   "metadata": {
    "slideshow": {
     "slide_type": "slide"
    }
   },
   "source": [
    "## Imports"
   ]
  },
  {
   "cell_type": "code",
   "execution_count": 25,
   "metadata": {},
   "outputs": [],
   "source": [
    "import math\n",
    "import numpy as np\n",
    "import pandas as pd\n",
    "from pyreadr import read_r\n",
    "from scipy import stats\n",
    "from statsmodels.stats.proportion import proportion_confint, samplesize_confint_proportion, proportions_ztest"
   ]
  },
  {
   "attachments": {},
   "cell_type": "markdown",
   "metadata": {
    "slideshow": {
     "slide_type": "slide"
    }
   },
   "source": [
    "## Utility functions"
   ]
  },
  {
   "cell_type": "code",
   "execution_count": 26,
   "metadata": {},
   "outputs": [],
   "source": [
    "def t_confint(series: pd.Series, alpha: float = 0.05):\n",
    "    n = series.size\n",
    "    return stats.t.interval(1 - alpha, # confidence\n",
    "                            df = n - 1, # degrees of freedom = sample size minus One\n",
    "                            loc = series.mean(),\n",
    "                            scale = series.std() / math.sqrt(n) # std. deviation by square root of sample size\n",
    "                            )\n",
    "\n",
    "def critical_value_norm(alpha):\n",
    "    return stats.norm.ppf(alpha / 2)\n",
    "\n",
    "def samplesize_confint_norm(std, half_length, alpha):\n",
    "    z = critical_value_norm(alpha)\n",
    "    return (z**2 * std**2) / half_length**2"
   ]
  },
  {
   "attachments": {},
   "cell_type": "markdown",
   "metadata": {
    "slideshow": {
     "slide_type": "slide"
    }
   },
   "source": [
    "## Read R data file"
   ]
  },
  {
   "cell_type": "code",
   "execution_count": 27,
   "metadata": {},
   "outputs": [],
   "source": [
    "data = read_r('../data/devore7/ex01.13.rda')\n",
    "df = data['ex01.13']"
   ]
  },
  {
   "cell_type": "markdown",
   "metadata": {
    "slideshow": {
     "slide_type": "slide"
    }
   },
   "source": [
    "## Statistical Parameters"
   ]
  },
  {
   "cell_type": "code",
   "execution_count": 43,
   "metadata": {},
   "outputs": [
    {
     "data": {
      "text/plain": [
       "4.541858977570332"
      ]
     },
     "execution_count": 43,
     "metadata": {},
     "output_type": "execute_result"
    }
   ],
   "source": [
    "mean = df['strength'].mean()\n",
    "median = df['strength'].median()\n",
    "modus = df['strength'].mode()\n",
    "range = (df['strength'].min(), df['strength'].max())\n",
    "std = df['strength'].std()\n",
    "var = df['strength'].var()\n",
    "cov = std / mean"
   ]
  },
  {
   "attachments": {},
   "cell_type": "markdown",
   "metadata": {
    "slideshow": {
     "slide_type": "slide"
    }
   },
   "source": [
    "## Frequencies"
   ]
  },
  {
   "cell_type": "code",
   "execution_count": 29,
   "metadata": {},
   "outputs": [
    {
     "data": {
      "text/html": [
       "<div>\n",
       "<style scoped>\n",
       "    .dataframe tbody tr th:only-of-type {\n",
       "        vertical-align: middle;\n",
       "    }\n",
       "\n",
       "    .dataframe tbody tr th {\n",
       "        vertical-align: top;\n",
       "    }\n",
       "\n",
       "    .dataframe thead th {\n",
       "        text-align: right;\n",
       "    }\n",
       "</style>\n",
       "<table border=\"1\" class=\"dataframe\">\n",
       "  <thead>\n",
       "    <tr style=\"text-align: right;\">\n",
       "      <th></th>\n",
       "      <th>absolute</th>\n",
       "      <th>relative</th>\n",
       "    </tr>\n",
       "  </thead>\n",
       "  <tbody>\n",
       "    <tr>\n",
       "      <th>(121.97399999999999, 125.571]</th>\n",
       "      <td>4</td>\n",
       "      <td>0.026144</td>\n",
       "    </tr>\n",
       "    <tr>\n",
       "      <th>(125.571, 129.143]</th>\n",
       "      <td>17</td>\n",
       "      <td>0.111111</td>\n",
       "    </tr>\n",
       "    <tr>\n",
       "      <th>(129.143, 132.714]</th>\n",
       "      <td>38</td>\n",
       "      <td>0.248366</td>\n",
       "    </tr>\n",
       "    <tr>\n",
       "      <th>(132.714, 136.286]</th>\n",
       "      <td>103</td>\n",
       "      <td>0.673203</td>\n",
       "    </tr>\n",
       "    <tr>\n",
       "      <th>(136.286, 139.857]</th>\n",
       "      <td>131</td>\n",
       "      <td>0.856209</td>\n",
       "    </tr>\n",
       "    <tr>\n",
       "      <th>(139.857, 143.429]</th>\n",
       "      <td>148</td>\n",
       "      <td>0.967320</td>\n",
       "    </tr>\n",
       "    <tr>\n",
       "      <th>(143.429, 147.0]</th>\n",
       "      <td>153</td>\n",
       "      <td>1.000000</td>\n",
       "    </tr>\n",
       "  </tbody>\n",
       "</table>\n",
       "</div>"
      ],
      "text/plain": [
       "                               absolute  relative\n",
       "(121.97399999999999, 125.571]         4  0.026144\n",
       "(125.571, 129.143]                   17  0.111111\n",
       "(129.143, 132.714]                   38  0.248366\n",
       "(132.714, 136.286]                  103  0.673203\n",
       "(136.286, 139.857]                  131  0.856209\n",
       "(139.857, 143.429]                  148  0.967320\n",
       "(143.429, 147.0]                    153  1.000000"
      ]
     },
     "execution_count": 29,
     "metadata": {},
     "output_type": "execute_result"
    }
   ],
   "source": [
    "freq = pd.DataFrame()\n",
    "freq['absolute'] = df['strength'].value_counts(bins=7)\n",
    "freq['relative'] = df['strength'].value_counts(bins=7, normalize=True)\n",
    "freq.sort_index().cumsum()"
   ]
  },
  {
   "attachments": {},
   "cell_type": "markdown",
   "metadata": {
    "slideshow": {
     "slide_type": "slide"
    }
   },
   "source": [
    "## Confidence Intervals"
   ]
  },
  {
   "cell_type": "code",
   "execution_count": 30,
   "metadata": {},
   "outputs": [],
   "source": [
    "ci = t_confint(series=pd.Series([.0]), alpha= 1 - .95)\n",
    "\n",
    "ci = proportion_confint(count=1, nobs=2, alpha = 1 - .95)\n",
    "\n",
    "n = samplesize_confint_norm(std=1., half_length=2.5, alpha=0.05)\n",
    "\n",
    "n = samplesize_confint_proportion(proportion=.5, half_length=2.5, alpha=0.05)"
   ]
  },
  {
   "attachments": {},
   "cell_type": "markdown",
   "metadata": {
    "slideshow": {
     "slide_type": "slide"
    }
   },
   "source": [
    "## Hypothesis Testing"
   ]
  },
  {
   "cell_type": "code",
   "execution_count": null,
   "metadata": {},
   "outputs": [],
   "source": [
    "stat, pval = proportions_ztest(count=1, nobs=2, value=.5,\n",
    "                               alternative='two-sided')\n",
    "stat, pval = proportions_ztest(count=[], nobs=[],\n",
    "                               alternative='two-sided')\n",
    "stat, pval = stats.ttest_1samp(sample, popmean=42,\n",
    "                               alternative='two-sided')\n",
    "stat, pval = stats.ttest_ind(sample1, sample2,\n",
    "                             alternative='two-sided')\n",
    "stat, pval = stats.ttest_rel(sample1, sample2,\n",
    "                             alternative='two-sided')"
   ]
  },
  {
   "attachments": {},
   "cell_type": "markdown",
   "metadata": {},
   "source": [
    "| alternative  | ttest     | proportions |\n",
    "|--------------|-----------|-------------|\n",
    "| not equal    | two-sided | two-sided   |\n",
    "| less than    | less      | smaller     |\n",
    "| greater than | greater   | larger      |"
   ]
  }
 ],
 "metadata": {
  "kernelspec": {
   "display_name": "Python 3",
   "language": "python",
   "name": "python3"
  },
  "language_info": {
   "codemirror_mode": {
    "name": "ipython",
    "version": 3
   },
   "file_extension": ".py",
   "mimetype": "text/x-python",
   "name": "python",
   "nbconvert_exporter": "python",
   "pygments_lexer": "ipython3",
   "version": "3.8.10"
  },
  "orig_nbformat": 4,
  "vscode": {
   "interpreter": {
    "hash": "767d51c1340bd893661ea55ea3124f6de3c7a262a8b4abca0554b478b1e2ff90"
   }
  }
 },
 "nbformat": 4,
 "nbformat_minor": 2
}
