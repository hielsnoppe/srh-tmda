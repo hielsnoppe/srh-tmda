{
 "cells": [
  {
   "attachments": {},
   "cell_type": "markdown",
   "metadata": {
    "slideshow": {
     "slide_type": "slide"
    }
   },
   "source": [
    "# Cheat Sheet\n",
    "\n",
    "This is **the only acceptable auxiliary means** for the exercises and the exam."
   ]
  },
  {
   "attachments": {},
   "cell_type": "markdown",
   "metadata": {
    "slideshow": {
     "slide_type": "slide"
    }
   },
   "source": [
    "## Imports"
   ]
  },
  {
   "cell_type": "code",
   "execution_count": 4,
   "metadata": {},
   "outputs": [],
   "source": [
    "import math\n",
    "import numpy as np\n",
    "import pandas as pd\n",
    "from pyreadr import read_r\n",
    "from scipy import stats\n",
    "from statsmodels.stats.proportion import proportion_confint, samplesize_confint_proportion, proportions_ztest"
   ]
  },
  {
   "attachments": {},
   "cell_type": "markdown",
   "metadata": {
    "slideshow": {
     "slide_type": "slide"
    }
   },
   "source": [
    "## Utility functions"
   ]
  },
  {
   "cell_type": "code",
   "execution_count": 5,
   "metadata": {},
   "outputs": [],
   "source": [
    "def t_confint(series: pd.Series, alpha: float = 0.05):\n",
    "    n = series.size\n",
    "    return stats.t.interval(1 - alpha, # confidence\n",
    "                            df = n - 1, # degrees of freedom = sample size minus One\n",
    "                            loc = series.mean(),\n",
    "                            scale = series.std() / math.sqrt(n) # std. deviation by square root of sample size\n",
    "                            )\n",
    "\n",
    "def critical_value_norm(alpha):\n",
    "    return stats.norm.ppf(1 - (alpha) / 2)\n",
    "\n",
    "def samplesize_confint_norm(std, half_length, alpha):\n",
    "    z = critical_value_norm(alpha)\n",
    "    return (z**2 * std**2) / half_length**2"
   ]
  },
  {
   "attachments": {},
   "cell_type": "markdown",
   "metadata": {
    "slideshow": {
     "slide_type": "slide"
    }
   },
   "source": [
    "## Read R data file"
   ]
  },
  {
   "cell_type": "code",
   "execution_count": 6,
   "metadata": {},
   "outputs": [],
   "source": [
    "data = read_r('../data/devore7/ex09.72.rda')\n",
    "df = data['ex09.72']"
   ]
  },
  {
   "attachments": {},
   "cell_type": "markdown",
   "metadata": {
    "slideshow": {
     "slide_type": "slide"
    }
   },
   "source": [
    "## Confidence Intervals"
   ]
  },
  {
   "cell_type": "code",
   "execution_count": 7,
   "metadata": {},
   "outputs": [],
   "source": [
    "ci = t_confint(series=pd.Series([.0]), alpha= 1 - .95)\n",
    "\n",
    "ci = proportion_confint(count=1, nobs=2, alpha = 1 - .95)\n",
    "\n",
    "n = samplesize_confint_norm(std=1., half_length=2.5, alpha=0.05)\n",
    "\n",
    "n = samplesize_confint_proportion(proportion=.5, half_length=2.5, alpha=0.05)"
   ]
  },
  {
   "attachments": {},
   "cell_type": "markdown",
   "metadata": {
    "slideshow": {
     "slide_type": "slide"
    }
   },
   "source": [
    "## Hypothesis Testing"
   ]
  },
  {
   "cell_type": "code",
   "execution_count": null,
   "metadata": {},
   "outputs": [],
   "source": [
    "stat, pval = proportions_ztest(count=1, nobs=2, value=.5,\n",
    "                               alternative='two-sided')\n",
    "stat, pval = proportions_ztest(count=[], nobs=[],\n",
    "                               alternative='two-sided')\n",
    "stat, pval = stats.ttest_1samp(sample, popmean=42,\n",
    "                               alternative='two-sided')\n",
    "stat, pval = stats.ttest_ind(sample1, sample2,\n",
    "                             alternative='two-sided')\n",
    "stat, pval = stats.ttest_rel(sample1, sample2,\n",
    "                             alternative='two-sided')"
   ]
  },
  {
   "attachments": {},
   "cell_type": "markdown",
   "metadata": {},
   "source": [
    "| alternative  | ttest     | proportions |\n",
    "|--------------|-----------|-------------|\n",
    "| not equal    | two-sided | two-sided   |\n",
    "| less than    | less      | smaller     |\n",
    "| greater than | greater   | larger      |"
   ]
  }
 ],
 "metadata": {
  "kernelspec": {
   "display_name": "Python 3",
   "language": "python",
   "name": "python3"
  },
  "language_info": {
   "codemirror_mode": {
    "name": "ipython",
    "version": 3
   },
   "file_extension": ".py",
   "mimetype": "text/x-python",
   "name": "python",
   "nbconvert_exporter": "python",
   "pygments_lexer": "ipython3",
   "version": "3.8.10"
  },
  "orig_nbformat": 4,
  "vscode": {
   "interpreter": {
    "hash": "767d51c1340bd893661ea55ea3124f6de3c7a262a8b4abca0554b478b1e2ff90"
   }
  }
 },
 "nbformat": 4,
 "nbformat_minor": 2
}
