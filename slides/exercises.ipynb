{
 "cells": [
  {
   "attachments": {},
   "cell_type": "markdown",
   "metadata": {},
   "source": [
    "# 1. Presenting Data in Tables and Charts"
   ]
  },
  {
   "attachments": {},
   "cell_type": "markdown",
   "metadata": {
    "slideshow": {
     "slide_type": "slide"
    }
   },
   "source": [
    "## 1) Water Quality\n",
    "\n",
    "In a study, the quality of water was categorized as: \"A\", \"B\", \"C\", \"D\" and \"F\".\n",
    "A sample of 30 measurements was taken."
   ]
  },
  {
   "cell_type": "code",
   "execution_count": 26,
   "metadata": {},
   "outputs": [
    {
     "name": "stdout",
     "output_type": "stream",
     "text": [
      "['C' 'C' 'C' 'C' 'F' 'F' 'A' 'D' 'D' 'C' 'B' 'C' 'C' 'F' 'B' 'F' 'A' 'D'\n",
      " 'F' 'B' 'B' 'A' 'B' 'A' 'A' 'B' 'B' 'C' 'B' 'D']\n"
     ]
    }
   ],
   "source": [
    "import pandas as pd\n",
    "\n",
    "labels = ['A', 'B', 'C', 'D', 'F']\n",
    "df = pd.DataFrame(labels).sample(30, replace=True)\n",
    "\n",
    "print(df[0].to_numpy())"
   ]
  },
  {
   "attachments": {},
   "cell_type": "markdown",
   "metadata": {},
   "source": [
    "### a. Absolute and relative frequency distribution\n",
    "\n",
    "Form the absolute and realtive frequency distributions\n",
    "\n",
    "Plot the bar chart\n",
    "\n",
    "Plot the pie chart"
   ]
  },
  {
   "cell_type": "code",
   "execution_count": 20,
   "metadata": {},
   "outputs": [
    {
     "ename": "NameError",
     "evalue": "name 'pandas' is not defined",
     "output_type": "error",
     "traceback": [
      "\u001b[0;31m---------------------------------------------------------------------------\u001b[0m",
      "\u001b[0;31mNameError\u001b[0m                                 Traceback (most recent call last)",
      "Cell \u001b[0;32mIn[20], line 1\u001b[0m\n\u001b[0;32m----> 1\u001b[0m df \u001b[39m=\u001b[39m pandas\u001b[39m.\u001b[39mDataFrame\n",
      "\u001b[0;31mNameError\u001b[0m: name 'pandas' is not defined"
     ]
    }
   ],
   "source": [
    "df = pandas.DataFrame"
   ]
  }
 ],
 "metadata": {
  "kernelspec": {
   "display_name": "Python 3",
   "language": "python",
   "name": "python3"
  },
  "language_info": {
   "codemirror_mode": {
    "name": "ipython",
    "version": 3
   },
   "file_extension": ".py",
   "mimetype": "text/x-python",
   "name": "python",
   "nbconvert_exporter": "python",
   "pygments_lexer": "ipython3",
   "version": "3.8.10"
  },
  "orig_nbformat": 4,
  "vscode": {
   "interpreter": {
    "hash": "767d51c1340bd893661ea55ea3124f6de3c7a262a8b4abca0554b478b1e2ff90"
   }
  }
 },
 "nbformat": 4,
 "nbformat_minor": 2
}
