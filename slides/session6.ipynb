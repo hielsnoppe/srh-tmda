{
 "cells": [
  {
   "attachments": {},
   "cell_type": "markdown",
   "metadata": {
    "slideshow": {
     "slide_type": "slide"
    }
   },
   "source": [
    "# Tools and Methods of Data Analysis\n",
    "## Session 6\n",
    "\n",
    "Niels Hoppe <<niels.hoppe.extern@srh.de>>"
   ]
  },
  {
   "attachments": {},
   "cell_type": "markdown",
   "metadata": {},
   "source": [
    "### Single Parameter Tests"
   ]
  },
  {
   "attachments": {},
   "cell_type": "markdown",
   "metadata": {},
   "source": [
    "### The Idea of Testing\n",
    "\n",
    "Does the data support a **hypothesis** or not?\n",
    "\n",
    "A hypothesis is **accepted** or **rejected** based on the test result.\n",
    "\n",
    "Tests give **no absolute certainty**, but only a **probability of error**."
   ]
  },
  {
   "attachments": {},
   "cell_type": "markdown",
   "metadata": {
    "slideshow": {
     "slide_type": "slide"
    }
   },
   "source": [
    "### What is a Hypothesis?\n",
    "\n",
    "A hypothesis is a claim (assumption) about a population parameter, e.g.,\n",
    "\n",
    "Assumption about the **population mean**:\n",
    "\n",
    "\"The average income in a country has fallen in the past 20 years.\"\n",
    "\n",
    "Assumption about the **population proportion**:\n",
    "\n",
    "\"The proportion of voters for a particular paraty has incraesed since the last election.\""
   ]
  },
  {
   "attachments": {},
   "cell_type": "markdown",
   "metadata": {},
   "source": [
    "alpha: Probability of (Type I) error\n",
    "p-Value: "
   ]
  },
  {
   "cell_type": "code",
   "execution_count": 2,
   "metadata": {},
   "outputs": [
    {
     "data": {
      "text/plain": [
       "TtestResult(statistic=3.506296856665, pvalue=0.0024577593105012127, df=11)"
      ]
     },
     "execution_count": 2,
     "metadata": {},
     "output_type": "execute_result"
    }
   ],
   "source": [
    "from scipy import stats\n",
    "\n",
    "x = [50, 54, 52, 52, 48, 53, 53, 51, 52, 52, 51, 51]\n",
    "stats.ttest_1samp(a=x, popmean=50, alternative='greater')"
   ]
  },
  {
   "cell_type": "code",
   "execution_count": 3,
   "metadata": {},
   "outputs": [
    {
     "data": {
      "text/plain": [
       "TtestResult(statistic=3.609900560215267, pvalue=0.008625321343415048, df=7)"
      ]
     },
     "execution_count": 3,
     "metadata": {},
     "output_type": "execute_result"
    }
   ],
   "source": [
    "from scipy import stats\n",
    "\n",
    "x = [6204 , 6294 , 6480 , 6186 , 6493 , 5921 , 6388 , 6072]\n",
    "stats.ttest_1samp(a=x, popmean=6000)"
   ]
  }
 ],
 "metadata": {
  "kernelspec": {
   "display_name": "Python 3",
   "language": "python",
   "name": "python3"
  },
  "language_info": {
   "codemirror_mode": {
    "name": "ipython",
    "version": 3
   },
   "file_extension": ".py",
   "mimetype": "text/x-python",
   "name": "python",
   "nbconvert_exporter": "python",
   "pygments_lexer": "ipython3",
   "version": "3.8.10"
  },
  "orig_nbformat": 4,
  "vscode": {
   "interpreter": {
    "hash": "767d51c1340bd893661ea55ea3124f6de3c7a262a8b4abca0554b478b1e2ff90"
   }
  }
 },
 "nbformat": 4,
 "nbformat_minor": 2
}
