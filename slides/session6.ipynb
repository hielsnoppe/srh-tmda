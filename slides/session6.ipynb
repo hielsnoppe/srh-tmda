{
 "cells": [
  {
   "attachments": {},
   "cell_type": "markdown",
   "metadata": {
    "slideshow": {
     "slide_type": "slide"
    }
   },
   "source": [
    "# Tools and Methods of Data Analysis\n",
    "## Session 6\n",
    "\n",
    "Niels Hoppe <<niels.hoppe.extern@srh.de>>"
   ]
  },
  {
   "attachments": {},
   "cell_type": "markdown",
   "metadata": {
    "slideshow": {
     "slide_type": "slide"
    }
   },
   "source": [
    "### The Idea of Testing\n",
    "\n",
    "Does the data support a **hypothesis** or not?\n",
    "\n",
    "A hypothesis is **accepted** or **rejected** based on the test result.\n",
    "\n",
    "Tests give **no absolute certainty**, but only a **probability of error**."
   ]
  },
  {
   "attachments": {},
   "cell_type": "markdown",
   "metadata": {
    "slideshow": {
     "slide_type": "slide"
    }
   },
   "source": [
    "### What is a Hypothesis?\n",
    "\n",
    "A hypothesis is a claim (assumption) about a population parameter, e.g.,\n",
    "\n",
    "Assumption about the **population mean**:\n",
    "\n",
    "\"The average income in a country has fallen in the past 20 years.\"\n",
    "\n",
    "Assumption about the **population proportion**:\n",
    "\n",
    "\"The proportion of voters for a particular party has increased since the last election.\""
   ]
  },
  {
   "attachments": {},
   "cell_type": "markdown",
   "metadata": {
    "slideshow": {
     "slide_type": "slide"
    }
   },
   "source": [
    "### Example: Fuel Consumption\n",
    "\n",
    "A certain type of an engine currently in use has an average fuel consumption of 8 l/100 km.\n",
    "\n",
    "Claim: A new type engine has an average fuel consumption less than 8 l/100 km.\n",
    "\n",
    "* μ0 = 8 l/100km .\n",
    "* μnew < 8 l/100km ??"
   ]
  },
  {
   "attachments": {},
   "cell_type": "markdown",
   "metadata": {
    "slideshow": {
     "slide_type": "slide"
    }
   },
   "source": [
    "### The Hypotheses\n",
    "\n",
    "H0 refers to the status quo of the assumption to be tested. (no change!)\n",
    "\n",
    "H1 is generally the hypothesis that the researcher is trying to prove. It represents a significant change.\n",
    "\n",
    "* H0: μ >= μ0 = 8 l/100km\n",
    "* H1: μ < μ0 = 8 l/100km\n",
    "\n",
    "We use a sample to check the hypotheses."
   ]
  },
  {
   "attachments": {},
   "cell_type": "markdown",
   "metadata": {
    "slideshow": {
     "slide_type": "slide"
    }
   },
   "source": [
    "### Problem with Samples\n",
    "\n",
    "Population with a mean μ = 8 l/100 km:"
   ]
  },
  {
   "cell_type": "code",
   "execution_count": 9,
   "metadata": {},
   "outputs": [],
   "source": [
    "x = [8.1, 7.5, 7.3, 8.0, 8.1, 7.8, 8.7, 8.3, 8.2]"
   ]
  },
  {
   "attachments": {},
   "cell_type": "markdown",
   "metadata": {},
   "source": [
    "* `x' = 7.6` for `sample = [7.5, 7.3, 8.0]`\n",
    "* `x' = 8.4` for `sample = [8.7, 8.3, 8.2]`"
   ]
  },
  {
   "attachments": {},
   "cell_type": "markdown",
   "metadata": {
    "slideshow": {
     "slide_type": "slide"
    }
   },
   "source": [
    "### Errors in Making Decisions\n",
    "\n",
    "Our test decision is ultimately based on the result of a sample.\n",
    "\n",
    "This can lead to two types of errors (wrong decisions) if the samples are biased.\n",
    "\n",
    "Based on the sample result, we could\n",
    "\n",
    "* reject a true Null hypothesis. (type I error or α error)\n",
    "* accept a false Null hypothesis (type II error or β error)"
   ]
  },
  {
   "attachments": {},
   "cell_type": "markdown",
   "metadata": {
    "slideshow": {
     "slide_type": "slide"
    }
   },
   "source": [
    "### Test for Reduction of Mean μ of a Population\n",
    "\n",
    "Sample of cars with the new engine:"
   ]
  },
  {
   "cell_type": "code",
   "execution_count": 10,
   "metadata": {},
   "outputs": [
    {
     "data": {
      "text/plain": [
       "7.94"
      ]
     },
     "execution_count": 10,
     "metadata": {},
     "output_type": "execute_result"
    }
   ],
   "source": [
    "import pandas as pd\n",
    "\n",
    "new = pd.Series([7.9, 8.2, 8.1, 7.9, 7.8, 7.9, 8.0, 7.8, 7.9, 7.9])\n",
    "new.mean()"
   ]
  },
  {
   "attachments": {},
   "cell_type": "markdown",
   "metadata": {},
   "source": [
    "Do we have, with this result of a sample of 10 cars, the proof of a significant reduction of the mean μ of all cars of this type? Level of significance α = 5%."
   ]
  },
  {
   "cell_type": "code",
   "execution_count": 11,
   "metadata": {},
   "outputs": [
    {
     "data": {
      "text/plain": [
       "0.08392532802853826"
      ]
     },
     "execution_count": 11,
     "metadata": {},
     "output_type": "execute_result"
    }
   ],
   "source": [
    "from scipy.stats import ttest_1samp\n",
    "\n",
    "stat, pval = ttest_1samp(new, popmean=8, alternative='less')\n",
    "pval"
   ]
  },
  {
   "attachments": {},
   "cell_type": "markdown",
   "metadata": {},
   "source": [
    "`pval > α = 0.05`: H0 can not be rejected!"
   ]
  },
  {
   "attachments": {},
   "cell_type": "markdown",
   "metadata": {
    "slideshow": {
     "slide_type": "slide"
    }
   },
   "source": [
    "### What is the p-value?\n",
    "\n",
    "The p-value is the risk of rejecting a true H0\n",
    "\n",
    "If this risk is small enough, i.e., `pval < α`, we reject H0 and accept H1."
   ]
  },
  {
   "attachments": {},
   "cell_type": "markdown",
   "metadata": {
    "slideshow": {
     "slide_type": "slide"
    }
   },
   "source": [
    "### Example: Mean Lifespan of a Product\n",
    "\n",
    "The lifespan of a product is approximately normally distributed with an average value of 50 months.\n",
    "By using a new material, we intend to increase the average lifespan of the product.\n",
    "What are the hypotheses? Level of significance alpha = 0.05\n",
    "\n",
    "* H0: μ <= μ0 = 50 months\n",
    "* H1: μ > μ0 = 50 months"
   ]
  },
  {
   "cell_type": "code",
   "execution_count": 12,
   "metadata": {
    "slideshow": {
     "slide_type": "fragment"
    }
   },
   "outputs": [
    {
     "data": {
      "text/plain": [
       "0.0024577593105012127"
      ]
     },
     "execution_count": 12,
     "metadata": {},
     "output_type": "execute_result"
    }
   ],
   "source": [
    "from scipy import stats\n",
    "\n",
    "x = [50, 54, 52, 52, 48, 53, 53, 51, 52, 52, 51, 51]\n",
    "stat, pval = stats.ttest_1samp(a=x, popmean=50, alternative='greater')\n",
    "pval"
   ]
  },
  {
   "attachments": {},
   "cell_type": "markdown",
   "metadata": {},
   "source": [
    "`pval < α = 0.05`: H0 can be rejected! Mean lifespan is greater than 50 months."
   ]
  },
  {
   "attachments": {},
   "cell_type": "markdown",
   "metadata": {
    "slideshow": {
     "slide_type": "slide"
    }
   },
   "source": [
    "### Example: Passengers\n",
    "\n",
    "In the past, an airport handled an average of 6,000 passengers per day.\n",
    "In order to ensure service quality on the one hand and to minimize costs on the other hand,\n",
    "we want to examine whether this average number has changed.\n",
    "Test with α = 5%.\n",
    "\n",
    "* H0: μ = μ0 = 6000 passengers\n",
    "* H1: μ != μ0 = 6000 passengers"
   ]
  },
  {
   "cell_type": "code",
   "execution_count": 13,
   "metadata": {},
   "outputs": [
    {
     "data": {
      "text/plain": [
       "0.008625321343415048"
      ]
     },
     "execution_count": 13,
     "metadata": {},
     "output_type": "execute_result"
    }
   ],
   "source": [
    "from scipy import stats\n",
    "\n",
    "x = [6204 , 6294 , 6480 , 6186 , 6493 , 5921 , 6388 , 6072]\n",
    "stat, pval = stats.ttest_1samp(a=x, popmean=6000)\n",
    "pval"
   ]
  },
  {
   "attachments": {},
   "cell_type": "markdown",
   "metadata": {
    "slideshow": {
     "slide_type": "slide"
    }
   },
   "source": [
    "### Example: Test of Proportions π\n",
    "\n",
    "The proportion of defective parts in a production was up to now 10%.\n",
    "We want to reduce the proportion of defective parts with a new production technology.\n",
    "In a sample of 200 parts from the new production, 16 defective parts were found.\n",
    "\n",
    "p = 16/200 = 8%\n",
    "\n",
    "This is an indication of the reduction,\n",
    "but not yet proof of a significant reduction in the proportion of defective parts in the entire production. \n",
    "Test with α = 5%\n",
    "\n",
    "* H0: π >= π0 = 10%\n",
    "* H1: π < π0 = 10%"
   ]
  },
  {
   "attachments": {},
   "cell_type": "markdown",
   "metadata": {
    "slideshow": {
     "slide_type": "slide"
    }
   },
   "source": [
    "### Test of Proportions π with Python"
   ]
  },
  {
   "cell_type": "code",
   "execution_count": 14,
   "metadata": {},
   "outputs": [
    {
     "data": {
      "text/plain": [
       "0.1485732651742352"
      ]
     },
     "execution_count": 14,
     "metadata": {},
     "output_type": "execute_result"
    }
   ],
   "source": [
    "from statsmodels.stats.proportion import proportions_ztest\n",
    "\n",
    "stat, pval = proportions_ztest(count=16, nobs=200, value=0.1, alternative='smaller')\n",
    "pval"
   ]
  },
  {
   "attachments": {},
   "cell_type": "markdown",
   "metadata": {},
   "source": [
    "`pval > α = 0.05`: H0 can **not** be rejected!"
   ]
  },
  {
   "attachments": {},
   "cell_type": "markdown",
   "metadata": {
    "slideshow": {
     "slide_type": "slide"
    }
   },
   "source": [
    "### Effect of Large Sample Sizes"
   ]
  },
  {
   "cell_type": "code",
   "execution_count": 15,
   "metadata": {},
   "outputs": [
    {
     "data": {
      "text/plain": [
       "0.0004887873855964199"
      ]
     },
     "execution_count": 15,
     "metadata": {},
     "output_type": "execute_result"
    }
   ],
   "source": [
    "from statsmodels.stats.proportion import proportions_ztest\n",
    "\n",
    "stat, pval = proportions_ztest(count=160, nobs=2000, value=0.1, alternative='smaller')\n",
    "pval"
   ]
  },
  {
   "attachments": {},
   "cell_type": "markdown",
   "metadata": {},
   "source": [
    "`pval < α = 0.05`: H0 can be rejected!\n",
    "\n",
    "With a larger sample size we are able to show that the proportion of defective parts is less than 10%."
   ]
  }
 ],
 "metadata": {
  "kernelspec": {
   "display_name": "Python 3",
   "language": "python",
   "name": "python3"
  },
  "language_info": {
   "codemirror_mode": {
    "name": "ipython",
    "version": 3
   },
   "file_extension": ".py",
   "mimetype": "text/x-python",
   "name": "python",
   "nbconvert_exporter": "python",
   "pygments_lexer": "ipython3",
   "version": "3.8.10 (default, Nov 14 2022, 12:59:47) \n[GCC 9.4.0]"
  },
  "orig_nbformat": 4,
  "vscode": {
   "interpreter": {
    "hash": "767d51c1340bd893661ea55ea3124f6de3c7a262a8b4abca0554b478b1e2ff90"
   }
  }
 },
 "nbformat": 4,
 "nbformat_minor": 2
}
