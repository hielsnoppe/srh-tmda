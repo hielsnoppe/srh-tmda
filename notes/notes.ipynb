{
 "cells": [
  {
   "cell_type": "code",
   "execution_count": 200,
   "metadata": {},
   "outputs": [
    {
     "data": {
      "text/plain": [
       "<seaborn.axisgrid.FacetGrid at 0x7f1245e6d130>"
      ]
     },
     "execution_count": 200,
     "metadata": {},
     "output_type": "execute_result"
    },
    {
     "data": {
      "image/png": "[encoded data removed]",
      "text/plain": [
       "<Figure size 500x500 with 1 Axes>"
      ]
     },
     "metadata": {},
     "output_type": "display_data"
    }
   ],
   "source": [
    "import pandas as pd\n",
    "import seaborn as sns\n",
    "\n",
    "labels = ['A', 'B', 'C', 'D', 'F']\n",
    "df = pd.DataFrame(labels).sample(30, replace=True)\n",
    "sns.displot(data=df[0])"
   ]
  },
  {
   "attachments": {},
   "cell_type": "markdown",
   "metadata": {},
   "source": [
    "Exam: You may assume the following imports"
   ]
  },
  {
   "cell_type": "code",
   "execution_count": 201,
   "metadata": {},
   "outputs": [],
   "source": [
    "import math\n",
    "import numpy as np\n",
    "import pandas as pd\n",
    "from scipy import stats"
   ]
  },
  {
   "cell_type": "code",
   "execution_count": 202,
   "metadata": {},
   "outputs": [
    {
     "data": {
      "text/plain": [
       "0.08392532802853826"
      ]
     },
     "execution_count": 202,
     "metadata": {},
     "output_type": "execute_result"
    }
   ],
   "source": [
    "stat, pval = stats.ttest_1samp(a=[7.9, 8.2, 8.1, 7.9, 7.8, 7.9, 8.0, 7.8, 7.9, 7.9], popmean=8, alternative='less')\n",
    "pval"
   ]
  },
  {
   "cell_type": "code",
   "execution_count": 203,
   "metadata": {},
   "outputs": [],
   "source": [
    "import math\n",
    "import numpy as np\n",
    "import pandas as pd\n",
    "from pyreadr import read_r\n",
    "from scipy import stats\n",
    "from statsmodels.stats.proportion import proportion_confint, samplesize_confint_proportion, proportions_ztest\n",
    "\n",
    "def t_confint(series: pd.Series, alpha: float = 0.05):\n",
    "    n = series.size\n",
    "    return stats.t.interval(1 - alpha, # confidence\n",
    "                            df = n - 1, # degrees of freedom = sample size minus One\n",
    "                            loc = series.mean(),\n",
    "                            scale = series.sem() # std. deviation by square root of sample size\n",
    "                            )"
   ]
  },
  {
   "attachments": {},
   "cell_type": "markdown",
   "metadata": {},
   "source": [
    "## Task 2.A"
   ]
  },
  {
   "cell_type": "code",
   "execution_count": 204,
   "metadata": {},
   "outputs": [
    {
     "data": {
      "text/plain": [
       "0     87.176968\n",
       "1    113.567795\n",
       "2     99.198945\n",
       "3    108.132622\n",
       "4    124.211831\n",
       "dtype: float64"
      ]
     },
     "execution_count": 204,
     "metadata": {},
     "output_type": "execute_result"
    }
   ],
   "source": [
    "data = pd.Series(stats.norm.rvs(loc=100, scale=18, size=100, random_state=13))\n",
    "data.head()"
   ]
  },
  {
   "cell_type": "code",
   "execution_count": 205,
   "metadata": {},
   "outputs": [
    {
     "data": {
      "text/html": [
       "<div>\n",
       "<style scoped>\n",
       "    .dataframe tbody tr th:only-of-type {\n",
       "        vertical-align: middle;\n",
       "    }\n",
       "\n",
       "    .dataframe tbody tr th {\n",
       "        vertical-align: top;\n",
       "    }\n",
       "\n",
       "    .dataframe thead th {\n",
       "        text-align: right;\n",
       "    }\n",
       "</style>\n",
       "<table border=\"1\" class=\"dataframe\">\n",
       "  <thead>\n",
       "    <tr style=\"text-align: right;\">\n",
       "      <th></th>\n",
       "      <th>abs</th>\n",
       "      <th>rel</th>\n",
       "      <th>abs_cum</th>\n",
       "      <th>rel_cum</th>\n",
       "    </tr>\n",
       "  </thead>\n",
       "  <tbody>\n",
       "    <tr>\n",
       "      <th>(59.999, 80.0]</th>\n",
       "      <td>9</td>\n",
       "      <td>0.09</td>\n",
       "      <td>9</td>\n",
       "      <td>0.09</td>\n",
       "    </tr>\n",
       "    <tr>\n",
       "      <th>(80.0, 100.0]</th>\n",
       "      <td>42</td>\n",
       "      <td>0.42</td>\n",
       "      <td>51</td>\n",
       "      <td>0.51</td>\n",
       "    </tr>\n",
       "    <tr>\n",
       "      <th>(100.0, 120.0]</th>\n",
       "      <td>35</td>\n",
       "      <td>0.35</td>\n",
       "      <td>86</td>\n",
       "      <td>0.86</td>\n",
       "    </tr>\n",
       "    <tr>\n",
       "      <th>(120.0, 140.0]</th>\n",
       "      <td>14</td>\n",
       "      <td>0.14</td>\n",
       "      <td>100</td>\n",
       "      <td>1.00</td>\n",
       "    </tr>\n",
       "  </tbody>\n",
       "</table>\n",
       "</div>"
      ],
      "text/plain": [
       "                abs   rel  abs_cum  rel_cum\n",
       "(59.999, 80.0]    9  0.09        9     0.09\n",
       "(80.0, 100.0]    42  0.42       51     0.51\n",
       "(100.0, 120.0]   35  0.35       86     0.86\n",
       "(120.0, 140.0]   14  0.14      100     1.00"
      ]
     },
     "execution_count": 205,
     "metadata": {},
     "output_type": "execute_result"
    }
   ],
   "source": [
    "bins = [60, 80, 100, 120, 140]\n",
    "freq = pd.DataFrame({\n",
    "    'abs': data.value_counts(bins=bins),\n",
    "    'rel': data.value_counts(bins=bins, normalize=True)\n",
    "}).sort_index()\n",
    "freq['abs_cum'] = freq['abs'].cumsum()\n",
    "freq['rel_cum'] = freq['rel'].cumsum()\n",
    "freq"
   ]
  },
  {
   "cell_type": "code",
   "execution_count": 206,
   "metadata": {},
   "outputs": [
    {
     "data": {
      "text/html": [
       "<div>\n",
       "<style scoped>\n",
       "    .dataframe tbody tr th:only-of-type {\n",
       "        vertical-align: middle;\n",
       "    }\n",
       "\n",
       "    .dataframe tbody tr th {\n",
       "        vertical-align: top;\n",
       "    }\n",
       "\n",
       "    .dataframe thead th {\n",
       "        text-align: right;\n",
       "    }\n",
       "</style>\n",
       "<table border=\"1\" class=\"dataframe\">\n",
       "  <thead>\n",
       "    <tr style=\"text-align: right;\">\n",
       "      <th></th>\n",
       "      <th>abs</th>\n",
       "      <th>rel</th>\n",
       "      <th>rel_cumsum</th>\n",
       "    </tr>\n",
       "  </thead>\n",
       "  <tbody>\n",
       "    <tr>\n",
       "      <th>(59.999, 80.0]</th>\n",
       "      <td>9</td>\n",
       "      <td>0.09</td>\n",
       "      <td>0.09</td>\n",
       "    </tr>\n",
       "    <tr>\n",
       "      <th>(80.0, 100.0]</th>\n",
       "      <td>42</td>\n",
       "      <td>0.42</td>\n",
       "      <td>0.51</td>\n",
       "    </tr>\n",
       "    <tr>\n",
       "      <th>(100.0, 120.0]</th>\n",
       "      <td>35</td>\n",
       "      <td>0.35</td>\n",
       "      <td>0.86</td>\n",
       "    </tr>\n",
       "    <tr>\n",
       "      <th>(120.0, 140.0]</th>\n",
       "      <td>14</td>\n",
       "      <td>0.14</td>\n",
       "      <td>1.00</td>\n",
       "    </tr>\n",
       "  </tbody>\n",
       "</table>\n",
       "</div>"
      ],
      "text/plain": [
       "                abs   rel  rel_cumsum\n",
       "(59.999, 80.0]    9  0.09        0.09\n",
       "(80.0, 100.0]    42  0.42        0.51\n",
       "(100.0, 120.0]   35  0.35        0.86\n",
       "(120.0, 140.0]   14  0.14        1.00"
      ]
     },
     "execution_count": 206,
     "metadata": {},
     "output_type": "execute_result"
    }
   ],
   "source": [
    "bins = [60, 80, 100, 120, 140]\n",
    "freq = pd.DataFrame()\n",
    "freq['abs'] = data.value_counts(bins=bins)\n",
    "freq['rel'] = data.value_counts(bins=bins, normalize=True)\n",
    "freq = freq.sort_index()\n",
    "freq['rel_cumsum'] = freq['rel'].cumsum()\n",
    "freq"
   ]
  },
  {
   "cell_type": "code",
   "execution_count": 207,
   "metadata": {},
   "outputs": [
    {
     "data": {
      "text/plain": [
       "(101.05133304064378,\n",
       " 99.7375539197174,\n",
       " 92.04170187970847,\n",
       " 284.22029287627527,\n",
       " 16.858834268011393,\n",
       " 0.16683435795182053)"
      ]
     },
     "execution_count": 207,
     "metadata": {},
     "output_type": "execute_result"
    }
   ],
   "source": [
    "mean = data.mean()\n",
    "median = data.median()\n",
    "q30 = data.quantile(0.3)\n",
    "var = data.var()\n",
    "std = data.std()\n",
    "cov = std / mean\n",
    "mean, median, q30, var, std, cov"
   ]
  },
  {
   "cell_type": "code",
   "execution_count": 208,
   "metadata": {},
   "outputs": [
    {
     "data": {
      "text/plain": [
       "(97.06488320793204, 105.03778287335552)"
      ]
     },
     "execution_count": 208,
     "metadata": {},
     "output_type": "execute_result"
    }
   ],
   "source": [
    "t_confint(data, alpha=1-0.98)"
   ]
  },
  {
   "attachments": {},
   "cell_type": "markdown",
   "metadata": {},
   "source": [
    "## Task 3.A"
   ]
  },
  {
   "cell_type": "code",
   "execution_count": 209,
   "metadata": {},
   "outputs": [
    {
     "data": {
      "text/plain": [
       "(-1.0777411442577356, 0.14057464577346418)"
      ]
     },
     "execution_count": 209,
     "metadata": {},
     "output_type": "execute_result"
    }
   ],
   "source": [
    "stat, pval = proportions_ztest(count=22, nobs=106, value=0.25, alternative='smaller')\n",
    "stat, pval"
   ]
  },
  {
   "cell_type": "code",
   "execution_count": 251,
   "metadata": {},
   "outputs": [
    {
     "data": {
      "text/plain": [
       "(-1.0777411442577356, 0.14057464577346418)"
      ]
     },
     "execution_count": 251,
     "metadata": {},
     "output_type": "execute_result"
    }
   ],
   "source": [
    "sample_size = 106\n",
    "consumers_accept_screw_tops = 22\n",
    "p_null_hypothesis = 0.25\n",
    "significane_level = 0.1\n",
    "p_hat = consumers_accept_screw_tops / sample_size\n",
    "z_stat = (p_hat - p_null_hypothesis) / math.sqrt( p_hat * (1 - p_hat) / sample_size )\n",
    "\n",
    "#var_ = p_hat * (1 - p_hat)\n",
    "#z_stat = (p_hat - p_null_hypothesis) / math.sqrt( p_null_hypothesis * (1 - p_null_hypothesis) / sample_size)\n",
    "\n",
    "p_value = stats.norm.cdf(z_stat)\n",
    "z_stat, p_value"
   ]
  },
  {
   "cell_type": "code",
   "execution_count": 211,
   "metadata": {},
   "outputs": [
    {
     "data": {
      "text/plain": [
       "(-1.042572070285374, 0.1485732651742352)"
      ]
     },
     "execution_count": 211,
     "metadata": {},
     "output_type": "execute_result"
    }
   ],
   "source": [
    "proportions_ztest(count=16, nobs=200, value=0.1, alternative='smaller')"
   ]
  },
  {
   "cell_type": "code",
   "execution_count": 212,
   "metadata": {},
   "outputs": [
    {
     "data": {
      "text/plain": [
       "-0.0004242640687119286"
      ]
     },
     "execution_count": 212,
     "metadata": {},
     "output_type": "execute_result"
    }
   ],
   "source": [
    "z_stat = (16/200 - 0.1) * math.sqrt( 0.1 * 0.9 / 200)\n",
    "z_stat"
   ]
  },
  {
   "attachments": {},
   "cell_type": "markdown",
   "metadata": {},
   "source": [
    "## Task 4.A"
   ]
  },
  {
   "cell_type": "code",
   "execution_count": 213,
   "metadata": {},
   "outputs": [],
   "source": [
    "u = [36.4, 55.0, 51.5, 38.7, 43.2, 48.8, 25.6, 49.8]\n",
    "a = [28.5, 20.0, 46.0, 34.5, 36.5, 52.5, 26.5, 46.5]"
   ]
  },
  {
   "cell_type": "code",
   "execution_count": 214,
   "metadata": {},
   "outputs": [
    {
     "data": {
      "text/html": [
       "<div>\n",
       "<style scoped>\n",
       "    .dataframe tbody tr th:only-of-type {\n",
       "        vertical-align: middle;\n",
       "    }\n",
       "\n",
       "    .dataframe tbody tr th {\n",
       "        vertical-align: top;\n",
       "    }\n",
       "\n",
       "    .dataframe thead th {\n",
       "        text-align: right;\n",
       "    }\n",
       "</style>\n",
       "<table border=\"1\" class=\"dataframe\">\n",
       "  <thead>\n",
       "    <tr style=\"text-align: right;\">\n",
       "      <th></th>\n",
       "      <th>a</th>\n",
       "      <th>u</th>\n",
       "    </tr>\n",
       "  </thead>\n",
       "  <tbody>\n",
       "    <tr>\n",
       "      <th>0</th>\n",
       "      <td>28.163703</td>\n",
       "      <td>35.876093</td>\n",
       "    </tr>\n",
       "    <tr>\n",
       "      <th>1</th>\n",
       "      <td>44.291430</td>\n",
       "      <td>50.537664</td>\n",
       "    </tr>\n",
       "    <tr>\n",
       "      <th>2</th>\n",
       "      <td>35.510466</td>\n",
       "      <td>42.554969</td>\n",
       "    </tr>\n",
       "    <tr>\n",
       "      <th>3</th>\n",
       "      <td>40.969936</td>\n",
       "      <td>47.518123</td>\n",
       "    </tr>\n",
       "    <tr>\n",
       "      <th>4</th>\n",
       "      <td>50.796119</td>\n",
       "      <td>56.451017</td>\n",
       "    </tr>\n",
       "  </tbody>\n",
       "</table>\n",
       "</div>"
      ],
      "text/plain": [
       "           a          u\n",
       "0  28.163703  35.876093\n",
       "1  44.291430  50.537664\n",
       "2  35.510466  42.554969\n",
       "3  40.969936  47.518123\n",
       "4  50.796119  56.451017"
      ]
     },
     "execution_count": 214,
     "metadata": {},
     "output_type": "execute_result"
    }
   ],
   "source": [
    "df = pd.DataFrame({\n",
    "    'a': stats.norm.rvs(loc=36, scale=11, size=8, random_state=13),\n",
    "    'u': stats.norm.rvs(loc=43, scale=10, size=8, random_state=13)\n",
    "})\n",
    "df.head()"
   ]
  },
  {
   "cell_type": "code",
   "execution_count": 215,
   "metadata": {},
   "outputs": [
    {
     "data": {
      "text/plain": [
       "1.4938049042261634e-08"
      ]
     },
     "execution_count": 215,
     "metadata": {},
     "output_type": "execute_result"
    }
   ],
   "source": [
    "stat, pval = stats.ttest_rel(df['a'], df['u'], alternative='less')\n",
    "#stat, pval = stats.ttest_rel(df['u'], df['a'], alternative='less')\n",
    "pval"
   ]
  },
  {
   "cell_type": "code",
   "execution_count": 216,
   "metadata": {},
   "outputs": [
    {
     "data": {
      "text/plain": [
       "2.987609808452327e-08"
      ]
     },
     "execution_count": 216,
     "metadata": {},
     "output_type": "execute_result"
    }
   ],
   "source": [
    "df['delta'] = df['u'] - df['a']\n",
    "stat, pval = stats.ttest_1samp(df['delta'], popmean=0.0)\n",
    "pval"
   ]
  },
  {
   "attachments": {},
   "cell_type": "markdown",
   "metadata": {},
   "source": [
    "## Task 5.A"
   ]
  },
  {
   "cell_type": "code",
   "execution_count": 217,
   "metadata": {},
   "outputs": [
    {
     "data": {
      "text/plain": [
       "0.018306758059820384"
      ]
     },
     "execution_count": 217,
     "metadata": {},
     "output_type": "execute_result"
    }
   ],
   "source": [
    "stat, pval = proportions_ztest(count=[224, 126], nobs=[395, 266])\n",
    "pval"
   ]
  },
  {
   "attachments": {},
   "cell_type": "markdown",
   "metadata": {},
   "source": [
    "## Task 2.B"
   ]
  },
  {
   "cell_type": "code",
   "execution_count": 218,
   "metadata": {},
   "outputs": [
    {
     "data": {
      "text/plain": [
       "0    10.001995\n",
       "1     9.478821\n",
       "2     7.991081\n",
       "3     9.976811\n",
       "4     9.318949\n",
       "dtype: float64"
      ]
     },
     "execution_count": 218,
     "metadata": {},
     "output_type": "execute_result"
    }
   ],
   "source": [
    "data = pd.Series(stats.norm.rvs(loc=10, scale=1.8, size=100, random_state=9))\n",
    "data.head()"
   ]
  },
  {
   "cell_type": "code",
   "execution_count": 219,
   "metadata": {},
   "outputs": [
    {
     "data": {
      "text/plain": [
       "(9.66289979309343, 10.290825196538762)"
      ]
     },
     "execution_count": 219,
     "metadata": {},
     "output_type": "execute_result"
    }
   ],
   "source": [
    "bins = np.linspace(4.5, 14.5, num=6)\n",
    "intervals = [(bins[i], bins[i+1]) for i in range(5)]\n",
    "binned_data = pd.cut(data, bins=bins, include_lowest=True, right=False)\n",
    "abs_freq = binned_data.value_counts(sort=False)\n",
    "abs_freq\n",
    "rel_freq = abs_freq / len(data)\n",
    "cum_freq = abs_freq.cumsum()\n",
    "\n",
    "\n",
    "ci = stats.t.interval(confidence=0.9, df=len(data)-1, loc=data.mean(), scale=stats.sem(data))\n",
    "ci"
   ]
  },
  {
   "cell_type": "code",
   "execution_count": 220,
   "metadata": {},
   "outputs": [
    {
     "data": {
      "text/html": [
       "<div>\n",
       "<style scoped>\n",
       "    .dataframe tbody tr th:only-of-type {\n",
       "        vertical-align: middle;\n",
       "    }\n",
       "\n",
       "    .dataframe tbody tr th {\n",
       "        vertical-align: top;\n",
       "    }\n",
       "\n",
       "    .dataframe thead th {\n",
       "        text-align: right;\n",
       "    }\n",
       "</style>\n",
       "<table border=\"1\" class=\"dataframe\">\n",
       "  <thead>\n",
       "    <tr style=\"text-align: right;\">\n",
       "      <th></th>\n",
       "      <th>abs</th>\n",
       "      <th>rel</th>\n",
       "      <th>abs_cum</th>\n",
       "    </tr>\n",
       "  </thead>\n",
       "  <tbody>\n",
       "    <tr>\n",
       "      <th>(8.751, 10.64]</th>\n",
       "      <td>47</td>\n",
       "      <td>0.47</td>\n",
       "      <td>66</td>\n",
       "    </tr>\n",
       "    <tr>\n",
       "      <th>(10.64, 12.53]</th>\n",
       "      <td>26</td>\n",
       "      <td>0.26</td>\n",
       "      <td>92</td>\n",
       "    </tr>\n",
       "    <tr>\n",
       "      <th>(6.861, 8.751]</th>\n",
       "      <td>13</td>\n",
       "      <td>0.13</td>\n",
       "      <td>19</td>\n",
       "    </tr>\n",
       "    <tr>\n",
       "      <th>(12.53, 14.419]</th>\n",
       "      <td>8</td>\n",
       "      <td>0.08</td>\n",
       "      <td>100</td>\n",
       "    </tr>\n",
       "    <tr>\n",
       "      <th>(4.960999999999999, 6.861]</th>\n",
       "      <td>6</td>\n",
       "      <td>0.06</td>\n",
       "      <td>6</td>\n",
       "    </tr>\n",
       "  </tbody>\n",
       "</table>\n",
       "</div>"
      ],
      "text/plain": [
       "                            abs   rel  abs_cum\n",
       "(8.751, 10.64]               47  0.47       66\n",
       "(10.64, 12.53]               26  0.26       92\n",
       "(6.861, 8.751]               13  0.13       19\n",
       "(12.53, 14.419]               8  0.08      100\n",
       "(4.960999999999999, 6.861]    6  0.06        6"
      ]
     },
     "execution_count": 220,
     "metadata": {},
     "output_type": "execute_result"
    }
   ],
   "source": [
    "freq = pd.DataFrame()\n",
    "freq['abs'] = data.iloc[0:].value_counts(bins=5)\n",
    "freq['rel'] = data.iloc[0:].value_counts(bins=5, normalize=True)\n",
    "freq['abs_cum'] = freq['abs'].sort_index().cumsum()\n",
    "#freq.sort_index().cumsum()\n",
    "freq"
   ]
  },
  {
   "cell_type": "code",
   "execution_count": 221,
   "metadata": {},
   "outputs": [
    {
     "data": {
      "text/html": [
       "<div>\n",
       "<style scoped>\n",
       "    .dataframe tbody tr th:only-of-type {\n",
       "        vertical-align: middle;\n",
       "    }\n",
       "\n",
       "    .dataframe tbody tr th {\n",
       "        vertical-align: top;\n",
       "    }\n",
       "\n",
       "    .dataframe thead th {\n",
       "        text-align: right;\n",
       "    }\n",
       "</style>\n",
       "<table border=\"1\" class=\"dataframe\">\n",
       "  <thead>\n",
       "    <tr style=\"text-align: right;\">\n",
       "      <th></th>\n",
       "      <th>abs</th>\n",
       "      <th>rel</th>\n",
       "      <th>abs_cum</th>\n",
       "    </tr>\n",
       "  </thead>\n",
       "  <tbody>\n",
       "    <tr>\n",
       "      <th>(4.499, 6.5]</th>\n",
       "      <td>5</td>\n",
       "      <td>0.05</td>\n",
       "      <td>5</td>\n",
       "    </tr>\n",
       "    <tr>\n",
       "      <th>(6.5, 8.5]</th>\n",
       "      <td>13</td>\n",
       "      <td>0.13</td>\n",
       "      <td>18</td>\n",
       "    </tr>\n",
       "    <tr>\n",
       "      <th>(8.5, 10.5]</th>\n",
       "      <td>45</td>\n",
       "      <td>0.45</td>\n",
       "      <td>63</td>\n",
       "    </tr>\n",
       "    <tr>\n",
       "      <th>(10.5, 12.5]</th>\n",
       "      <td>28</td>\n",
       "      <td>0.28</td>\n",
       "      <td>91</td>\n",
       "    </tr>\n",
       "    <tr>\n",
       "      <th>(12.5, 14.5]</th>\n",
       "      <td>9</td>\n",
       "      <td>0.09</td>\n",
       "      <td>100</td>\n",
       "    </tr>\n",
       "  </tbody>\n",
       "</table>\n",
       "</div>"
      ],
      "text/plain": [
       "              abs   rel  abs_cum\n",
       "(4.499, 6.5]    5  0.05        5\n",
       "(6.5, 8.5]     13  0.13       18\n",
       "(8.5, 10.5]    45  0.45       63\n",
       "(10.5, 12.5]   28  0.28       91\n",
       "(12.5, 14.5]    9  0.09      100"
      ]
     },
     "execution_count": 221,
     "metadata": {},
     "output_type": "execute_result"
    }
   ],
   "source": [
    "bins = [4.5, 6.5, 8.5, 10.5, 12.5, 14.5]\n",
    "freq = pd.DataFrame({\n",
    "    'abs': data.value_counts(bins=bins),\n",
    "    'rel': data.value_counts(bins=bins, normalize=True)\n",
    "}).sort_index()\n",
    "freq['abs_cum'] = freq['abs'].cumsum()\n",
    "freq"
   ]
  },
  {
   "cell_type": "code",
   "execution_count": 222,
   "metadata": {},
   "outputs": [
    {
     "data": {
      "text/plain": [
       "(9.976862494816096,\n",
       " 9.96794873455721,\n",
       " 9.128698572915358,\n",
       " 3.5754877327369146,\n",
       " 1.8908960132003332,\n",
       " 0.18952812211081677)"
      ]
     },
     "execution_count": 222,
     "metadata": {},
     "output_type": "execute_result"
    }
   ],
   "source": [
    "mean = data.mean()\n",
    "median = data.median()\n",
    "q30 = data.quantile(0.3)\n",
    "var = data.var()\n",
    "std = data.std()\n",
    "cov = std / mean\n",
    "mean, median, q30, var, std, cov"
   ]
  },
  {
   "cell_type": "code",
   "execution_count": 223,
   "metadata": {},
   "outputs": [
    {
     "data": {
      "text/plain": [
       "(9.66289979309343, 10.290825196538762)"
      ]
     },
     "execution_count": 223,
     "metadata": {},
     "output_type": "execute_result"
    }
   ],
   "source": [
    "t_confint(data, alpha=0.1)"
   ]
  },
  {
   "attachments": {},
   "cell_type": "markdown",
   "metadata": {},
   "source": [
    "## Task 3.B"
   ]
  },
  {
   "cell_type": "code",
   "execution_count": 224,
   "metadata": {},
   "outputs": [],
   "source": [
    "young = [29, 34, 33, 27, 28, 32, 31, 34, 32, 27]\n",
    "old = [18, 15, 23, 13, 12]"
   ]
  },
  {
   "cell_type": "code",
   "execution_count": 225,
   "metadata": {},
   "outputs": [
    {
     "data": {
      "text/plain": [
       "(array([35., 29., 31., 32., 29., 31., 31., 26., 33., 32.]),\n",
       " array([24., 14., 16., 18., 13.]))"
      ]
     },
     "execution_count": 225,
     "metadata": {},
     "output_type": "execute_result"
    }
   ],
   "source": [
    "young = stats.norm.rvs(loc=30.7, scale=2.75, size=10, random_state=7).round()\n",
    "old = stats.norm.rvs(loc=16.2, scale=4.44, size=5, random_state=7).round()\n",
    "young, old"
   ]
  },
  {
   "cell_type": "code",
   "execution_count": 226,
   "metadata": {},
   "outputs": [
    {
     "data": {
      "text/plain": [
       "1.121864722129117e-06"
      ]
     },
     "execution_count": 226,
     "metadata": {},
     "output_type": "execute_result"
    }
   ],
   "source": [
    "stat, pval = stats.ttest_ind(old, young, alternative='less')\n",
    "pval"
   ]
  },
  {
   "attachments": {},
   "cell_type": "markdown",
   "metadata": {},
   "source": [
    "## Task 4.B"
   ]
  },
  {
   "cell_type": "code",
   "execution_count": 227,
   "metadata": {},
   "outputs": [
    {
     "data": {
      "text/plain": [
       "array([257., 322., 106., 351., 189.,  20., 156., 337., 298.,  84., 340.,\n",
       "       237.])"
      ]
     },
     "execution_count": 227,
     "metadata": {},
     "output_type": "execute_result"
    }
   ],
   "source": [
    "data = [159, 120, 480, 149, 270, 547, 340, 43, 228, 202, 240, 218]\n",
    "data = stats.norm.rvs(loc=250, scale=145, size=12, random_state=4).round()\n",
    "data"
   ]
  },
  {
   "cell_type": "code",
   "execution_count": 228,
   "metadata": {},
   "outputs": [
    {
     "data": {
      "text/plain": [
       "0.23137005608613243"
      ]
     },
     "execution_count": 228,
     "metadata": {},
     "output_type": "execute_result"
    }
   ],
   "source": [
    "stat, pval = stats.ttest_1samp(data, popmean=200, alternative='greater')\n",
    "#stat, pval = stats.ttest_1samp(data, popmean=200, alternative='larger')\n",
    "pval"
   ]
  },
  {
   "attachments": {},
   "cell_type": "markdown",
   "metadata": {},
   "source": [
    "## Task 5.B"
   ]
  },
  {
   "cell_type": "code",
   "execution_count": 229,
   "metadata": {},
   "outputs": [
    {
     "data": {
      "text/plain": [
       "0.32183237916030005"
      ]
     },
     "execution_count": 229,
     "metadata": {},
     "output_type": "execute_result"
    }
   ],
   "source": [
    "stat, pval = proportions_ztest(count=[18, 12], nobs=[56, 51])\n",
    "pval"
   ]
  },
  {
   "attachments": {},
   "cell_type": "markdown",
   "metadata": {},
   "source": [
    "# Task 2.C"
   ]
  },
  {
   "cell_type": "code",
   "execution_count": 230,
   "metadata": {},
   "outputs": [
    {
     "data": {
      "text/html": [
       "<div>\n",
       "<style scoped>\n",
       "    .dataframe tbody tr th:only-of-type {\n",
       "        vertical-align: middle;\n",
       "    }\n",
       "\n",
       "    .dataframe tbody tr th {\n",
       "        vertical-align: top;\n",
       "    }\n",
       "\n",
       "    .dataframe thead th {\n",
       "        text-align: right;\n",
       "    }\n",
       "</style>\n",
       "<table border=\"1\" class=\"dataframe\">\n",
       "  <thead>\n",
       "    <tr style=\"text-align: right;\">\n",
       "      <th></th>\n",
       "      <th>consump</th>\n",
       "    </tr>\n",
       "  </thead>\n",
       "  <tbody>\n",
       "    <tr>\n",
       "      <th>count</th>\n",
       "      <td>90.000000</td>\n",
       "    </tr>\n",
       "    <tr>\n",
       "      <th>mean</th>\n",
       "      <td>10.039778</td>\n",
       "    </tr>\n",
       "    <tr>\n",
       "      <th>std</th>\n",
       "      <td>2.866816</td>\n",
       "    </tr>\n",
       "    <tr>\n",
       "      <th>min</th>\n",
       "      <td>2.970000</td>\n",
       "    </tr>\n",
       "    <tr>\n",
       "      <th>25%</th>\n",
       "      <td>7.947500</td>\n",
       "    </tr>\n",
       "    <tr>\n",
       "      <th>50%</th>\n",
       "      <td>9.835000</td>\n",
       "    </tr>\n",
       "    <tr>\n",
       "      <th>75%</th>\n",
       "      <td>12.045000</td>\n",
       "    </tr>\n",
       "    <tr>\n",
       "      <th>max</th>\n",
       "      <td>18.260000</td>\n",
       "    </tr>\n",
       "  </tbody>\n",
       "</table>\n",
       "</div>"
      ],
      "text/plain": [
       "         consump\n",
       "count  90.000000\n",
       "mean   10.039778\n",
       "std     2.866816\n",
       "min     2.970000\n",
       "25%     7.947500\n",
       "50%     9.835000\n",
       "75%    12.045000\n",
       "max    18.260000"
      ]
     },
     "execution_count": 230,
     "metadata": {},
     "output_type": "execute_result"
    }
   ],
   "source": [
    "data = read_r('../data/devore7/xmp01.09.rda')\n",
    "df = data['xmp01.09']\n",
    "df.describe()"
   ]
  },
  {
   "cell_type": "code",
   "execution_count": 231,
   "metadata": {},
   "outputs": [
    {
     "data": {
      "text/plain": [
       "0    11.397469\n",
       "1     8.084308\n",
       "2    10.735801\n",
       "3     5.158889\n",
       "4    12.201520\n",
       "dtype: float64"
      ]
     },
     "execution_count": 231,
     "metadata": {},
     "output_type": "execute_result"
    }
   ],
   "source": [
    "data = pd.Series(stats.norm.rvs(loc=10.04, scale=2.87, size=90, random_state=12))\n",
    "data.head()"
   ]
  },
  {
   "cell_type": "code",
   "execution_count": 232,
   "metadata": {},
   "outputs": [
    {
     "data": {
      "text/html": [
       "<div>\n",
       "<style scoped>\n",
       "    .dataframe tbody tr th:only-of-type {\n",
       "        vertical-align: middle;\n",
       "    }\n",
       "\n",
       "    .dataframe tbody tr th {\n",
       "        vertical-align: top;\n",
       "    }\n",
       "\n",
       "    .dataframe thead th {\n",
       "        text-align: right;\n",
       "    }\n",
       "</style>\n",
       "<table border=\"1\" class=\"dataframe\">\n",
       "  <thead>\n",
       "    <tr style=\"text-align: right;\">\n",
       "      <th></th>\n",
       "      <th>abs</th>\n",
       "      <th>rel</th>\n",
       "      <th>rel_cum</th>\n",
       "    </tr>\n",
       "  </thead>\n",
       "  <tbody>\n",
       "    <tr>\n",
       "      <th>(-0.001, 4.0]</th>\n",
       "      <td>3</td>\n",
       "      <td>0.033333</td>\n",
       "      <td>0.033333</td>\n",
       "    </tr>\n",
       "    <tr>\n",
       "      <th>(4.0, 8.0]</th>\n",
       "      <td>21</td>\n",
       "      <td>0.233333</td>\n",
       "      <td>0.266667</td>\n",
       "    </tr>\n",
       "    <tr>\n",
       "      <th>(8.0, 12.0]</th>\n",
       "      <td>49</td>\n",
       "      <td>0.544444</td>\n",
       "      <td>0.811111</td>\n",
       "    </tr>\n",
       "    <tr>\n",
       "      <th>(12.0, 16.0]</th>\n",
       "      <td>14</td>\n",
       "      <td>0.155556</td>\n",
       "      <td>0.966667</td>\n",
       "    </tr>\n",
       "    <tr>\n",
       "      <th>(16.0, 20.0]</th>\n",
       "      <td>3</td>\n",
       "      <td>0.033333</td>\n",
       "      <td>1.000000</td>\n",
       "    </tr>\n",
       "  </tbody>\n",
       "</table>\n",
       "</div>"
      ],
      "text/plain": [
       "               abs       rel   rel_cum\n",
       "(-0.001, 4.0]    3  0.033333  0.033333\n",
       "(4.0, 8.0]      21  0.233333  0.266667\n",
       "(8.0, 12.0]     49  0.544444  0.811111\n",
       "(12.0, 16.0]    14  0.155556  0.966667\n",
       "(16.0, 20.0]     3  0.033333  1.000000"
      ]
     },
     "execution_count": 232,
     "metadata": {},
     "output_type": "execute_result"
    }
   ],
   "source": [
    "bins = [0, 4, 8, 12, 16, 20]\n",
    "freq = pd.DataFrame({\n",
    "    'abs': data.value_counts(bins=bins),\n",
    "    'rel': data.value_counts(bins=bins, normalize=True)\n",
    "}).sort_index()\n",
    "freq['rel_cum'] = freq['rel'].cumsum()\n",
    "freq"
   ]
  },
  {
   "cell_type": "code",
   "execution_count": 233,
   "metadata": {},
   "outputs": [
    {
     "data": {
      "text/plain": [
       "(9.68036792952608,\n",
       " 9.73702801371696,\n",
       " 8.270534176760762,\n",
       " 9.533984467540302,\n",
       " 3.087715088465952,\n",
       " 0.3189667077682157)"
      ]
     },
     "execution_count": 233,
     "metadata": {},
     "output_type": "execute_result"
    }
   ],
   "source": [
    "mean = data.mean()\n",
    "median = data.median()\n",
    "q30 = data.quantile(0.3)\n",
    "var = data.var()\n",
    "std = data.std()\n",
    "cov = std / mean\n",
    "mean, median, q30, var, std, cov"
   ]
  },
  {
   "cell_type": "code",
   "execution_count": 234,
   "metadata": {},
   "outputs": [
    {
     "data": {
      "text/plain": [
       "(9.207759122948508, 10.152976736103652)"
      ]
     },
     "execution_count": 234,
     "metadata": {},
     "output_type": "execute_result"
    }
   ],
   "source": [
    "t_confint(data, alpha=1-0.85)"
   ]
  },
  {
   "attachments": {},
   "cell_type": "markdown",
   "metadata": {},
   "source": [
    "# Task 3.C"
   ]
  },
  {
   "cell_type": "code",
   "execution_count": 235,
   "metadata": {},
   "outputs": [
    {
     "data": {
      "text/plain": [
       "0    109.308520\n",
       "1    101.047075\n",
       "2     98.969600\n",
       "3     86.994060\n",
       "4     96.685158\n",
       "dtype: float64"
      ]
     },
     "execution_count": 235,
     "metadata": {},
     "output_type": "execute_result"
    }
   ],
   "source": [
    "import pandas as pd\n",
    "data = pd.Series(stats.norm.rvs(loc=98.38, scale=6.11, size=12, random_state=3))\n",
    "data.head()"
   ]
  },
  {
   "cell_type": "code",
   "execution_count": 236,
   "metadata": {},
   "outputs": [
    {
     "data": {
      "text/plain": [
       "0.15579727662407578"
      ]
     },
     "execution_count": 236,
     "metadata": {},
     "output_type": "execute_result"
    }
   ],
   "source": [
    "_, pval = stats.ttest_1samp(data, popmean=100, alternative='two-sided')\n",
    "pval"
   ]
  },
  {
   "attachments": {},
   "cell_type": "markdown",
   "metadata": {},
   "source": [
    "# Task 4.C"
   ]
  },
  {
   "cell_type": "code",
   "execution_count": 237,
   "metadata": {},
   "outputs": [
    {
     "data": {
      "text/html": [
       "<div>\n",
       "<style scoped>\n",
       "    .dataframe tbody tr th:only-of-type {\n",
       "        vertical-align: middle;\n",
       "    }\n",
       "\n",
       "    .dataframe tbody tr th {\n",
       "        vertical-align: top;\n",
       "    }\n",
       "\n",
       "    .dataframe thead th {\n",
       "        text-align: right;\n",
       "    }\n",
       "</style>\n",
       "<table border=\"1\" class=\"dataframe\">\n",
       "  <thead>\n",
       "    <tr style=\"text-align: right;\">\n",
       "      <th></th>\n",
       "      <th>indoor</th>\n",
       "      <th>outdoor</th>\n",
       "    </tr>\n",
       "  </thead>\n",
       "  <tbody>\n",
       "    <tr>\n",
       "      <th>0</th>\n",
       "      <td>41.241071</td>\n",
       "      <td>39.729288</td>\n",
       "    </tr>\n",
       "    <tr>\n",
       "      <th>1</th>\n",
       "      <td>40.063349</td>\n",
       "      <td>40.104848</td>\n",
       "    </tr>\n",
       "    <tr>\n",
       "      <th>2</th>\n",
       "      <td>40.139181</td>\n",
       "      <td>40.250528</td>\n",
       "    </tr>\n",
       "    <tr>\n",
       "      <th>3</th>\n",
       "      <td>39.942131</td>\n",
       "      <td>39.074800</td>\n",
       "    </tr>\n",
       "    <tr>\n",
       "      <th>4</th>\n",
       "      <td>38.396536</td>\n",
       "      <td>40.567144</td>\n",
       "    </tr>\n",
       "  </tbody>\n",
       "</table>\n",
       "</div>"
      ],
      "text/plain": [
       "      indoor    outdoor\n",
       "0  41.241071  39.729288\n",
       "1  40.063349  40.104848\n",
       "2  40.139181  40.250528\n",
       "3  39.942131  39.074800\n",
       "4  38.396536  40.567144"
      ]
     },
     "execution_count": 237,
     "metadata": {},
     "output_type": "execute_result"
    }
   ],
   "source": [
    "df = pd.DataFrame({\n",
    "    'indoor': stats.norm.rvs(loc=40, scale=0.8, size=40, random_state=14),\n",
    "    'outdoor': stats.norm.rvs(loc=40, scale=1, size=40, random_state=41)\n",
    "})\n",
    "df.head()"
   ]
  },
  {
   "cell_type": "code",
   "execution_count": 238,
   "metadata": {},
   "outputs": [
    {
     "data": {
      "text/plain": [
       "0.34623589056049664"
      ]
     },
     "execution_count": 238,
     "metadata": {},
     "output_type": "execute_result"
    }
   ],
   "source": [
    "_, pval = stats.ttest_rel(df['indoor'], df['outdoor'], alternative='two-sided')\n",
    "pval"
   ]
  },
  {
   "attachments": {},
   "cell_type": "markdown",
   "metadata": {},
   "source": [
    "# Task 5.C\n",
    "\n",
    "A plastics manufacturer has developed a new type of plastic trash can and proposes to sell them with an unconditional 6-year warranty. To see whether this is economically feasible, 80 prototype cans are subjected to an accelerated life test to simulate 6 years of use. 70 of those tested cans survived the accelerated test. Do we have enough evidence, that proportion of trash cans surviving the test is less than 90%? Use α = .05"
   ]
  },
  {
   "cell_type": "code",
   "execution_count": 239,
   "metadata": {},
   "outputs": [
    {
     "data": {
      "text/plain": [
       "0.2494811493018803"
      ]
     },
     "execution_count": 239,
     "metadata": {},
     "output_type": "execute_result"
    }
   ],
   "source": [
    "_, pval = proportions_ztest(count=70, nobs=80, value=0.9, alternative='smaller')\n",
    "#_, pval = proportions_ztest(count=10, nobs=80, value=0.9, alternative='smaller')\n",
    "pval"
   ]
  },
  {
   "cell_type": "code",
   "execution_count": 240,
   "metadata": {},
   "outputs": [
    {
     "data": {
      "text/plain": [
       "0.34623589056049664"
      ]
     },
     "execution_count": 240,
     "metadata": {},
     "output_type": "execute_result"
    }
   ],
   "source": [
    "df = pd.DataFrame({\n",
    "    'indoor': stats.norm.rvs(loc=40, scale=0.8, size=40, random_state=14),\n",
    "    'outdoor': stats.norm.rvs(loc=40, scale=1, size=40, random_state=41)\n",
    "})\n",
    "_, pval = stats.ttest_rel(df['indoor'], df['outdoor'], alternative='two-sided')\n",
    "#_, pval = stats.ttest_ind(df['indoor'], df['outdoor'], alternative='two-sided')\n",
    "pval"
   ]
  },
  {
   "cell_type": "code",
   "execution_count": 241,
   "metadata": {},
   "outputs": [
    {
     "data": {
      "text/plain": [
       "0.07789863831203789"
      ]
     },
     "execution_count": 241,
     "metadata": {},
     "output_type": "execute_result"
    }
   ],
   "source": [
    "data = stats.norm.rvs(loc=98.38, scale=6.11, size=12, random_state=3)\n",
    "_, pval = stats.ttest_1samp(data, popmean=100, alternative=\"less\")\n",
    "pval"
   ]
  },
  {
   "cell_type": "code",
   "execution_count": 242,
   "metadata": {},
   "outputs": [
    {
     "data": {
      "text/plain": [
       "0.2494811493018803"
      ]
     },
     "execution_count": 242,
     "metadata": {},
     "output_type": "execute_result"
    }
   ],
   "source": [
    "_, pval = proportions_ztest(count=70, nobs=80, value=0.90, alternative=\"smaller\")\n",
    "pval"
   ]
  },
  {
   "cell_type": "code",
   "execution_count": 243,
   "metadata": {},
   "outputs": [
    {
     "data": {
      "text/plain": [
       "(9.207759122948508, 10.152976736103652)"
      ]
     },
     "execution_count": 243,
     "metadata": {},
     "output_type": "execute_result"
    }
   ],
   "source": [
    "data = pd.Series(stats.norm.rvs(loc=10.04, scale=2.87, size=90, random_state=12))\n",
    "data.head()\n",
    "bins=[-0.001, 4, 8, 12, 16, 20]\n",
    "freq = pd.cut(data, bins=bins, include_lowest=True, right=False)\n",
    "abs = freq.value_counts(sort=False)\n",
    "rel = abs / len(data)\n",
    "cum = np.cumsum(rel)\n",
    "\n",
    "ci = stats.t.interval(0.85, len(data)-1, loc=mean, scale=data.std()/np.sqrt(len(data)))\n",
    "ci"
   ]
  },
  {
   "cell_type": "code",
   "execution_count": 244,
   "metadata": {},
   "outputs": [
    {
     "data": {
      "text/plain": [
       "(4.499, 6.5]      5\n",
       "(6.5, 8.5]       18\n",
       "(8.5, 10.5]      63\n",
       "(10.5, 12.5]     91\n",
       "(12.5, 14.5]    100\n",
       "dtype: int64"
      ]
     },
     "execution_count": 244,
     "metadata": {},
     "output_type": "execute_result"
    }
   ],
   "source": [
    "data = pd.Series(stats.norm.rvs(loc=10, scale=1.8, size=100, random_state=9))\n",
    "data.head()\n",
    "bins = np.linspace(4.5, 14.5, 6)\n",
    "freq = pd.cut(data, bins=bins, include_lowest=True).value_counts().sort_index()\n",
    "rel = freq / freq.sum()\n",
    "cum = freq.cumsum()\n",
    "cum"
   ]
  },
  {
   "cell_type": "code",
   "execution_count": 245,
   "metadata": {},
   "outputs": [
    {
     "data": {
      "text/plain": [
       "(0.0, 4.0]      0.033333\n",
       "(4.0, 8.0]      0.266667\n",
       "(8.0, 12.0]     0.811111\n",
       "(12.0, 16.0]    0.966667\n",
       "(16.0, 20.0]    1.000000\n",
       "dtype: float64"
      ]
     },
     "execution_count": 245,
     "metadata": {},
     "output_type": "execute_result"
    }
   ],
   "source": [
    "data = pd.Series(stats.norm.rvs(loc=10.04, scale=2.87, size=90, random_state=12))\n",
    "class_interval = pd.interval_range(start=0.0, end=2.87, freq=4)\n",
    "class_interval = pd.interval_range(start=0.0, end=20, freq=4)\n",
    "class_labels = [f\"{i.left}-{i.right}\" for i in class_interval]\n",
    "abs = pd.cut(data, bins=class_interval, labels=class_labels, include_lowest=True).value_counts().sort_index()\n",
    "rel = abs / sum(abs)\n",
    "cum = np.cumsum(rel)\n",
    "cum"
   ]
  },
  {
   "cell_type": "code",
   "execution_count": 246,
   "metadata": {},
   "outputs": [
    {
     "data": {
      "text/plain": [
       "0.15579727662407594"
      ]
     },
     "execution_count": 246,
     "metadata": {},
     "output_type": "execute_result"
    }
   ],
   "source": [
    "data = pd.Series(stats.norm.rvs(loc=98.38, scale=6.11, size=12, random_state=3))\n",
    "\n",
    "sample_mean = np.mean(data)\n",
    "sample_std = np.std(data, ddof=1)\n",
    "test_stat = (sample_mean - 100) / (sample_std / np.sqrt(len(data)))\n",
    "p_value = 2 * stats.t.cdf(test_stat, df=len(data)-1)\n",
    "p_value"
   ]
  },
  {
   "cell_type": "code",
   "execution_count": 4,
   "metadata": {},
   "outputs": [
    {
     "data": {
      "text/plain": [
       "1.8558738850567398e-59"
      ]
     },
     "execution_count": 4,
     "metadata": {},
     "output_type": "execute_result"
    }
   ],
   "source": [
    "from statsmodels.stats.proportion import proportions_ztest\n",
    "\n",
    "_, pval = proportions_ztest(count=[233, 109], nobs=[233+81, 468+109], alternative='larger')\n",
    "pval"
   ]
  }
 ],
 "metadata": {
  "kernelspec": {
   "display_name": "Python 3 (ipykernel)",
   "language": "python",
   "name": "python3"
  },
  "language_info": {
   "codemirror_mode": {
    "name": "ipython",
    "version": 3
   },
   "file_extension": ".py",
   "mimetype": "text/x-python",
   "name": "python",
   "nbconvert_exporter": "python",
   "pygments_lexer": "ipython3",
   "version": "3.8.10"
  },
  "orig_nbformat": 4,
  "vscode": {
   "interpreter": {
    "hash": "767d51c1340bd893661ea55ea3124f6de3c7a262a8b4abca0554b478b1e2ff90"
   }
  }
 },
 "nbformat": 4,
 "nbformat_minor": 2
}
